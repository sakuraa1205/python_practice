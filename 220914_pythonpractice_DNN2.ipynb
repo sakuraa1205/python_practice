{
 "cells": [
  {
   "cell_type": "code",
   "execution_count": 1,
   "metadata": {
    "id": "k-kIj84JQdd3"
   },
   "outputs": [],
   "source": [
    "from sklearn.datasets import load_iris"
   ]
  },
  {
   "cell_type": "code",
   "execution_count": 2,
   "metadata": {
    "id": "1F1kZLpEQof_"
   },
   "outputs": [],
   "source": [
    "iris = load_iris()"
   ]
  },
  {
   "cell_type": "code",
   "execution_count": 3,
   "metadata": {
    "id": "4uNPvbD_QyUh"
   },
   "outputs": [],
   "source": [
    "x = iris.data\n",
    "y = iris.target"
   ]
  },
  {
   "cell_type": "code",
   "execution_count": 4,
   "metadata": {
    "id": "6DfGrWUsQ3WC"
   },
   "outputs": [
    {
     "data": {
      "text/plain": [
       "((150, 4), (150,))"
      ]
     },
     "execution_count": 4,
     "metadata": {},
     "output_type": "execute_result"
    }
   ],
   "source": [
    "x.shape, y.shape"
   ]
  },
  {
   "cell_type": "code",
   "execution_count": 5,
   "metadata": {
    "id": "puqIL3FCRBs6"
   },
   "outputs": [],
   "source": [
    "#####################\n",
    "# 라이브러리 불러오기\n",
    "#####################\n",
    "import tensorflow as tf\n",
    "from tensorflow import keras\n",
    "import numpy as np\n",
    "from tensorflow.keras.utils import to_categorical\n",
    "from sklearn.model_selection import train_test_split"
   ]
  },
  {
   "cell_type": "code",
   "execution_count": 6,
   "metadata": {},
   "outputs": [],
   "source": [
    "#################\n",
    "# train test 분할\n",
    "#################\n",
    "x_train, x_test, y_train, y_test = train_test_split(x, y, test_size = 0.2, random_state = 20160320)"
   ]
  },
  {
   "cell_type": "code",
   "execution_count": 7,
   "metadata": {
    "id": "TY0leKum_owG"
   },
   "outputs": [
    {
     "data": {
      "text/plain": [
       "((120, 3), (30, 3))"
      ]
     },
     "execution_count": 7,
     "metadata": {},
     "output_type": "execute_result"
    }
   ],
   "source": [
    "#######################\n",
    "# 어떤 전처리 작업 필요\n",
    "# Hint : y.shape\n",
    "#######################\n",
    "y_train = to_categorical(y_train)\n",
    "y_test = to_categorical(y_test)\n",
    "\n",
    "y_train.shape, y_test.shape"
   ]
  },
  {
   "cell_type": "code",
   "execution_count": 8,
   "metadata": {
    "id": "broVdGpGbqrC"
   },
   "outputs": [
    {
     "name": "stdout",
     "output_type": "stream",
     "text": [
      "Epoch 1/10\n",
      "4/4 [==============================] - 0s 3ms/step - loss: 1.6262 - accuracy: 0.3417\n",
      "Epoch 2/10\n",
      "4/4 [==============================] - 0s 3ms/step - loss: 1.5863 - accuracy: 0.3417\n",
      "Epoch 3/10\n",
      "4/4 [==============================] - 0s 2ms/step - loss: 1.5414 - accuracy: 0.3417\n",
      "Epoch 4/10\n",
      "4/4 [==============================] - 0s 2ms/step - loss: 1.5022 - accuracy: 0.3417\n",
      "Epoch 5/10\n",
      "4/4 [==============================] - 0s 2ms/step - loss: 1.4662 - accuracy: 0.3417\n",
      "Epoch 6/10\n",
      "4/4 [==============================] - 0s 2ms/step - loss: 1.4339 - accuracy: 0.3417\n",
      "Epoch 7/10\n",
      "4/4 [==============================] - 0s 2ms/step - loss: 1.4048 - accuracy: 0.3417\n",
      "Epoch 8/10\n",
      "4/4 [==============================] - 0s 3ms/step - loss: 1.3752 - accuracy: 0.3417\n",
      "Epoch 9/10\n",
      "4/4 [==============================] - 0s 2ms/step - loss: 1.3488 - accuracy: 0.3417\n",
      "Epoch 10/10\n",
      "4/4 [==============================] - 0s 2ms/step - loss: 1.3234 - accuracy: 0.3417\n",
      "1/1 [==============================] - 0s 85ms/step\n",
      "[[0. 1. 0.]\n",
      " [1. 0. 0.]\n",
      " [1. 0. 0.]\n",
      " [0. 0. 1.]\n",
      " [0. 0. 1.]\n",
      " [1. 0. 0.]\n",
      " [0. 0. 1.]\n",
      " [0. 1. 0.]\n",
      " [0. 0. 1.]\n",
      " [0. 0. 1.]]\n",
      "[[0 0 0]\n",
      " [0 0 0]\n",
      " [0 0 0]\n",
      " [0 0 0]\n",
      " [0 0 0]\n",
      " [0 0 0]\n",
      " [0 0 0]\n",
      " [0 0 0]\n",
      " [0 0 0]\n",
      " [0 0 0]]\n"
     ]
    }
   ],
   "source": [
    "###################\n",
    "# 모델링 Sequential\n",
    "###################\n",
    "keras.backend.clear_session()\n",
    "\n",
    "model = keras.models.Sequential()\n",
    "\n",
    "model.add(keras.layers.Input(shape = (4,)))\n",
    "model.add(keras.layers.Dense(4, activation = 'relu'))\n",
    "model.add(keras.layers.Dense(4, activation = 'relu'))\n",
    "model.add(keras.layers.Dense(3, activation = 'softmax'))\n",
    "\n",
    "model.compile(loss = 'categorical_crossentropy',\n",
    "             optimizer = 'adam',\n",
    "             metrics = ['accuracy'])\n",
    "\n",
    "model.fit(x_train, y_train, epochs = 10, verbose = 1)\n",
    "\n",
    "pred = model.predict(x_test)\n",
    "pred = np.where(pred >= 0.5, 1, 0)\n",
    "\n",
    "print(y_test[:10])\n",
    "print(pred[:10])"
   ]
  },
  {
   "cell_type": "code",
   "execution_count": 9,
   "metadata": {},
   "outputs": [
    {
     "name": "stdout",
     "output_type": "stream",
     "text": [
      "Epoch 1/10\n",
      "4/4 [==============================] - 0s 2ms/step - loss: 1.5426 - accuracy: 0.3417\n",
      "Epoch 2/10\n",
      "4/4 [==============================] - 0s 2ms/step - loss: 1.5105 - accuracy: 0.3417\n",
      "Epoch 3/10\n",
      "4/4 [==============================] - 0s 2ms/step - loss: 1.4820 - accuracy: 0.3417\n",
      "Epoch 4/10\n",
      "4/4 [==============================] - 0s 2ms/step - loss: 1.4527 - accuracy: 0.3417\n",
      "Epoch 5/10\n",
      "4/4 [==============================] - 0s 2ms/step - loss: 1.4293 - accuracy: 0.3417\n",
      "Epoch 6/10\n",
      "4/4 [==============================] - 0s 3ms/step - loss: 1.4050 - accuracy: 0.3417\n",
      "Epoch 7/10\n",
      "4/4 [==============================] - 0s 3ms/step - loss: 1.3782 - accuracy: 0.3417\n",
      "Epoch 8/10\n",
      "4/4 [==============================] - 0s 2ms/step - loss: 1.3572 - accuracy: 0.3417\n",
      "Epoch 9/10\n",
      "4/4 [==============================] - 0s 3ms/step - loss: 1.3374 - accuracy: 0.3417\n",
      "Epoch 10/10\n",
      "4/4 [==============================] - 0s 2ms/step - loss: 1.3178 - accuracy: 0.3417\n",
      "1/1 [==============================] - 0s 54ms/step\n",
      "[[0. 1. 0.]\n",
      " [1. 0. 0.]\n",
      " [1. 0. 0.]\n",
      " [0. 0. 1.]\n",
      " [0. 0. 1.]\n",
      " [1. 0. 0.]\n",
      " [0. 0. 1.]\n",
      " [0. 1. 0.]\n",
      " [0. 0. 1.]\n",
      " [0. 0. 1.]]\n",
      "[[0 0 0]\n",
      " [0 0 0]\n",
      " [0 0 0]\n",
      " [0 0 0]\n",
      " [0 0 0]\n",
      " [0 0 0]\n",
      " [0 0 0]\n",
      " [0 0 0]\n",
      " [0 0 0]\n",
      " [0 0 0]]\n"
     ]
    }
   ],
   "source": [
    "###################\n",
    "# 모델링 Functional\n",
    "###################\n",
    "keras.backend.clear_session()\n",
    "\n",
    "input = keras.layers.Input(shape = (4,))\n",
    "hidden1 = keras.layers.Dense(4, activation = 'relu')(input)\n",
    "hidden2 = keras.layers.Dense(4, activation = 'relu')(hidden1)\n",
    "output = keras.layers.Dense(3, activation = 'softmax')(hidden2)\n",
    "\n",
    "model = keras.models.Model(input, output)\n",
    "\n",
    "model.compile(loss = 'categorical_crossentropy',\n",
    "             optimizer = 'adam',\n",
    "             metrics = ['accuracy'])\n",
    "\n",
    "model.fit(x_train, y_train, epochs = 10, verbose = 1)\n",
    "\n",
    "pred = model.predict(x_test)\n",
    "pred = np.where(pred >= 0.5, 1, 0)\n",
    "\n",
    "print(y_test[:10])\n",
    "print(pred[:10])"
   ]
  }
 ],
 "metadata": {
  "colab": {
   "collapsed_sections": [
    "0xVNQT9V-Iev"
   ],
   "name": "2_1_Review _ ANN Preview III.ipynb",
   "provenance": []
  },
  "kernelspec": {
   "display_name": "Python 3",
   "language": "python",
   "name": "python3"
  },
  "language_info": {
   "codemirror_mode": {
    "name": "ipython",
    "version": 3
   },
   "file_extension": ".py",
   "mimetype": "text/x-python",
   "name": "python",
   "nbconvert_exporter": "python",
   "pygments_lexer": "ipython3",
   "version": "3.8.8"
  }
 },
 "nbformat": 4,
 "nbformat_minor": 1
}
