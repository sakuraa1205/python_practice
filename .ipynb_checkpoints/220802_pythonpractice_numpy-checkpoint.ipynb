{
 "cells": [
  {
   "cell_type": "markdown",
   "id": "7a6cb6fb",
   "metadata": {},
   "source": [
    "# 1. 라이브러리 불러오기"
   ]
  },
  {
   "cell_type": "code",
   "execution_count": 1,
   "id": "1a9f5f1d",
   "metadata": {},
   "outputs": [],
   "source": [
    "import numpy as np"
   ]
  },
  {
   "cell_type": "markdown",
   "id": "2ac1db17",
   "metadata": {},
   "source": [
    "# 2. 배열 만들기"
   ]
  },
  {
   "cell_type": "code",
   "execution_count": 10,
   "id": "e96d8b5c",
   "metadata": {},
   "outputs": [
    {
     "name": "stdout",
     "output_type": "stream",
     "text": [
      "[1, 2, 3, 4, 5]\n",
      "[1 2 3 4 5]\n"
     ]
    }
   ],
   "source": [
    "# 1차원\n",
    "a1 = [1, 2, 3, 4, 5]\n",
    "\n",
    "# 배열 만들기\n",
    "b1 = np.array(a1)\n",
    "\n",
    "# 확인 및 비교하기\n",
    "print(a1)\n",
    "print(b1)"
   ]
  },
  {
   "cell_type": "code",
   "execution_count": 11,
   "id": "de8a2dd2",
   "metadata": {},
   "outputs": [
    {
     "name": "stdout",
     "output_type": "stream",
     "text": [
      "[[1, 2, 3], [4, 5, 6]]\n",
      "[[1 2 3]\n",
      " [4 5 6]]\n"
     ]
    }
   ],
   "source": [
    "# 2차원\n",
    "a2 = [[1, 2, 3], [4, 5, 6]]\n",
    "\n",
    "# 배열 만들기\n",
    "b2 = np.array(a2)\n",
    "\n",
    "# 확인 및 비교하기\n",
    "print(a2)\n",
    "print(b2)"
   ]
  },
  {
   "cell_type": "code",
   "execution_count": 12,
   "id": "4944fd05",
   "metadata": {},
   "outputs": [
    {
     "name": "stdout",
     "output_type": "stream",
     "text": [
      "[[[1, 2, 3], [4, 5, 6], [7, 8, 9]], [[10, 11, 12], [13, 14, 15], [16, 17, 18]]]\n",
      "****************************************************************************************************\n",
      "[[[ 1  2  3]\n",
      "  [ 4  5  6]\n",
      "  [ 7  8  9]]\n",
      "\n",
      " [[10 11 12]\n",
      "  [13 14 15]\n",
      "  [16 17 18]]]\n"
     ]
    }
   ],
   "source": [
    "# 3차원\n",
    "a3 = [[[1, 2, 3], [4, 5, 6], [7, 8, 9]], [[10, 11, 12], [13, 14, 15], [16, 17, 18]]]\n",
    "\n",
    "# 배열 만들기\n",
    "b3 = np.array(a3)\n",
    "\n",
    "# 확인 및 비교하기\n",
    "print(a3)\n",
    "print('*' * 100)\n",
    "print(b3)"
   ]
  },
  {
   "cell_type": "markdown",
   "id": "873d5baa",
   "metadata": {},
   "source": [
    "# 3. 배열 정보 확인하기"
   ]
  },
  {
   "cell_type": "code",
   "execution_count": 13,
   "id": "59e09752",
   "metadata": {},
   "outputs": [
    {
     "name": "stdout",
     "output_type": "stream",
     "text": [
      "1\n",
      "2\n",
      "3\n"
     ]
    }
   ],
   "source": [
    "# 차원 확인\n",
    "print(b1.ndim)\n",
    "print(b2.ndim)\n",
    "print(b3.ndim)"
   ]
  },
  {
   "cell_type": "code",
   "execution_count": 14,
   "id": "91f42c76",
   "metadata": {},
   "outputs": [
    {
     "name": "stdout",
     "output_type": "stream",
     "text": [
      "(5,)\n",
      "(2, 3)\n",
      "(2, 3, 3)\n"
     ]
    }
   ],
   "source": [
    "# 형태 및 크기 확인\n",
    "print(b1.shape)\n",
    "print(b2.shape)\n",
    "print(b3.shape)"
   ]
  },
  {
   "cell_type": "code",
   "execution_count": 15,
   "id": "3c64ee26",
   "metadata": {},
   "outputs": [
    {
     "name": "stdout",
     "output_type": "stream",
     "text": [
      "int32\n",
      "int32\n",
      "int32\n"
     ]
    }
   ],
   "source": [
    "# 요소 자료형 확인\n",
    "print(b1.dtype)\n",
    "print(b2.dtype)\n",
    "print(b3.dtype)"
   ]
  },
  {
   "cell_type": "markdown",
   "id": "b794b6b5",
   "metadata": {},
   "source": [
    "# Reshape"
   ]
  },
  {
   "cell_type": "code",
   "execution_count": 19,
   "id": "8a265ce3",
   "metadata": {},
   "outputs": [
    {
     "name": "stdout",
     "output_type": "stream",
     "text": [
      "(2, 3)\n",
      "[[1 2]\n",
      " [3 4]\n",
      " [5 6]]\n"
     ]
    }
   ],
   "source": [
    "print(b2.shape) # 2차원 배열인 b2 형태 및 크기 확인\n",
    "\n",
    "b = b2.reshape(3, 2)\n",
    "print(b)"
   ]
  },
  {
   "cell_type": "code",
   "execution_count": 21,
   "id": "c63c71d1",
   "metadata": {},
   "outputs": [
    {
     "name": "stdout",
     "output_type": "stream",
     "text": [
      "[[1 2]\n",
      " [3 4]\n",
      " [5 6]]\n",
      "[[1]\n",
      " [2]\n",
      " [3]\n",
      " [4]\n",
      " [5]\n",
      " [6]]\n"
     ]
    }
   ],
   "source": [
    "# 열 인자에 -1을 넣으면 행의 갯수 만으로 reshape 할 수 있다.\n",
    "rb1 = b2.reshape(3, -1)\n",
    "rb2 = b2.reshape(6, -1)\n",
    "\n",
    "print(rb1)\n",
    "print(rb2)"
   ]
  },
  {
   "cell_type": "markdown",
   "id": "34d46e0d",
   "metadata": {},
   "source": [
    "# 배열 인덱싱과 슬라이싱"
   ]
  },
  {
   "cell_type": "code",
   "execution_count": 33,
   "id": "bc331803",
   "metadata": {},
   "outputs": [
    {
     "name": "stdout",
     "output_type": "stream",
     "text": [
      "[[1 2 3]\n",
      " [4 5 6]\n",
      " [7 8 9]]\n",
      "\n",
      "9\n",
      "\n",
      "[[1 2 3]]\n",
      "[[1 2 3]\n",
      " [7 8 9]]\n",
      "[[1 2 3]\n",
      " [4 5 6]]\n",
      "\n",
      "[[1]\n",
      " [4]\n",
      " [7]]\n",
      "[[1 3]\n",
      " [4 6]\n",
      " [7 9]]\n",
      "\n",
      "[1 5]\n",
      "\n",
      "[1 5 9]\n"
     ]
    }
   ],
   "source": [
    "# 인덱싱\n",
    "a = [[1, 2, 3], [4, 5, 6], [7, 8, 9]]\n",
    "a = np.array(a)\n",
    "print(a)\n",
    "print()\n",
    "\n",
    "# 요소 조회 \n",
    "print(a[2, 2]) # 리스트 내부의 좌표와 output 잘 확인할 것.\n",
    "print()\n",
    "\n",
    "# 행 조회\n",
    "print(a[[0]])\n",
    "print(a[[0, 2]])\n",
    "print(a[[0, 1]])\n",
    "print()\n",
    "\n",
    "# 열 조회\n",
    "print(a[:, [0]])\n",
    "print(a[:, [0, 2]])\n",
    "print()\n",
    "\n",
    "# 여기 아래로는 일반적이지 않아서 골치 아픔\n",
    "# 첫번째 행 첫번째 열, 두번째 행 두번째 열 요소 조회\n",
    "print(a[[0, 1], [0, 1]]) \n",
    "print()\n",
    "\n",
    "# 첫번째 행 첫번째 열, 두번째 행 두번째 열, 세번째 행 세번쨰 열 요소 조회\n",
    "print(a[[0, 1, 2], [0, 1, 2]])"
   ]
  },
  {
   "cell_type": "code",
   "execution_count": 41,
   "id": "648bf7f8",
   "metadata": {},
   "outputs": [
    {
     "name": "stdout",
     "output_type": "stream",
     "text": [
      "[[1 2 3]\n",
      " [4 5 6]\n",
      " [7 8 9]]\n",
      "\n",
      "[[1 2 3]\n",
      " [4 5 6]]\n",
      "\n",
      "[1 2]\n",
      "\n",
      "[[2 3]\n",
      " [5 6]\n",
      " [8 9]]\n"
     ]
    }
   ],
   "source": [
    "# 슬라이싱\n",
    "print(a)\n",
    "print()\n",
    "\n",
    "# 첫 번째, 두 번째 행 조회\n",
    "print(a[0 : 2])\n",
    "print()\n",
    "\n",
    "# 첫 번째 행, 첫 번째 ~ 두 번째 열 조회\n",
    "print(a[0, 0 : 2])\n",
    "print()\n",
    "\n",
    "# 첫 번쨰 ~ 세 번째 행, 두 번째 ~ 세 번째 열 조회\n",
    "print(a[0 : 3, 1 : 3])"
   ]
  },
  {
   "cell_type": "markdown",
   "id": "5405056c",
   "metadata": {},
   "source": [
    "# 조건 조회"
   ]
  },
  {
   "cell_type": "code",
   "execution_count": 42,
   "id": "54856fa2",
   "metadata": {},
   "outputs": [
    {
     "name": "stdout",
     "output_type": "stream",
     "text": [
      "[[78 91 84 89 93 65]\n",
      " [82 87 96 79 91 73]]\n"
     ]
    }
   ],
   "source": [
    "# 2차원 배열 만들기\n",
    "score= np.array([[78, 91, 84, 89, 93, 65],\n",
    "                 [82, 87, 96, 79, 91, 73]])\n",
    "\n",
    "# 확인\n",
    "print(score)"
   ]
  },
  {
   "cell_type": "code",
   "execution_count": 43,
   "id": "9fe6385f",
   "metadata": {},
   "outputs": [
    {
     "name": "stdout",
     "output_type": "stream",
     "text": [
      "[[False  True  True  True  True False]\n",
      " [ True  True  True False  True False]]\n"
     ]
    }
   ],
   "source": [
    "# 조건문 : Output은 True or False\n",
    "print(score > 80)"
   ]
  },
  {
   "cell_type": "code",
   "execution_count": 45,
   "id": "12309293",
   "metadata": {},
   "outputs": [
    {
     "name": "stdout",
     "output_type": "stream",
     "text": [
      "[91 84 89 93 82 87 96 91]\n"
     ]
    }
   ],
   "source": [
    "# 조건 조회\n",
    "print(score[score > 80])"
   ]
  },
  {
   "cell_type": "code",
   "execution_count": 46,
   "id": "5657fec0",
   "metadata": {},
   "outputs": [
    {
     "name": "stdout",
     "output_type": "stream",
     "text": [
      "[84 89 82 87]\n"
     ]
    }
   ],
   "source": [
    "# 여러 조건\n",
    "print(score[(score >= 80) & (score <= 90)])"
   ]
  },
  {
   "cell_type": "markdown",
   "id": "cf69e587",
   "metadata": {},
   "source": [
    "# 배열 연산"
   ]
  },
  {
   "cell_type": "code",
   "execution_count": 47,
   "id": "4013d7b6",
   "metadata": {},
   "outputs": [
    {
     "name": "stdout",
     "output_type": "stream",
     "text": [
      "[[1 2]\n",
      " [3 4]]\n",
      "[[5 6]\n",
      " [7 8]]\n"
     ]
    }
   ],
   "source": [
    "# 두 개의 (2, 2) 형태의 2차원 배열 만들기\n",
    "x = np.array([[1, 2], [3, 4]])\n",
    "y = np.array([[5, 6], [7, 8]])\n",
    "\n",
    "# 확인\n",
    "print(x)\n",
    "print(y)"
   ]
  },
  {
   "cell_type": "code",
   "execution_count": 54,
   "id": "9815a0bc",
   "metadata": {},
   "outputs": [
    {
     "name": "stdout",
     "output_type": "stream",
     "text": [
      "[[ 6  8]\n",
      " [10 12]]\n",
      "******************************\n",
      "[[-4 -4]\n",
      " [-4 -4]]\n",
      "******************************\n",
      "[[ 5 12]\n",
      " [21 32]]\n",
      "******************************\n",
      "[[0.2        0.33333333]\n",
      " [0.42857143 0.5       ]]\n",
      "******************************\n",
      "[[    1    64]\n",
      " [ 2187 65536]]\n"
     ]
    }
   ],
   "source": [
    "# 코드와 아래 결과 확인\n",
    "print(x + y)\n",
    "print('*' * 30)\n",
    "print(x - y)\n",
    "print('*' * 30)\n",
    "print(x * y)\n",
    "print('*' * 30)\n",
    "print(x / y)\n",
    "print('*' * 30)\n",
    "print(x ** y)"
   ]
  },
  {
   "cell_type": "markdown",
   "id": "fbaad554",
   "metadata": {},
   "source": [
    "# 배열 집계"
   ]
  },
  {
   "cell_type": "code",
   "execution_count": 75,
   "id": "29fb81f3",
   "metadata": {},
   "outputs": [
    {
     "name": "stdout",
     "output_type": "stream",
     "text": [
      "[[1 2 3]\n",
      " [4 5 6]]\n",
      "\n",
      "21\n",
      "21\n",
      "\n",
      "[5 7 9]\n",
      "\n",
      "[ 6 15]\n",
      "\n",
      "5\n",
      "\n",
      "[1 1 1]\n",
      "\n",
      "[2 2]\n",
      "[[0 0 0]\n",
      " [1 1 1]]\n",
      "\n",
      "[[1 1 1]\n",
      " [4 5 6]]\n",
      "\n",
      "[ 1.   2.5  4.   5.5  7.   8.5 10. ]\n",
      "[1, 8]\n"
     ]
    }
   ],
   "source": [
    "# array를 생성\n",
    "a = np.array([[1, 2, 3], [4, 5, 6]])\n",
    "print(a)\n",
    "print()\n",
    "\n",
    "# 배열의 합\n",
    "print(a.sum())\n",
    "print(np.sum(a))\n",
    "print()\n",
    "\n",
    "# 행 방향 집계\n",
    "print(np.sum(a, axis = 0))\n",
    "print()\n",
    "\n",
    "# 열 방향 집계\n",
    "print(np.sum(a, axis = 1))\n",
    "print()\n",
    "\n",
    "# 최대 값의 **인덱스**\n",
    "print(np.argmax(a))\n",
    "print()\n",
    "\n",
    "# 행 방향 최대 값의 **인덱스**\n",
    "print(np.argmax(a, axis = 0))\n",
    "print()\n",
    "\n",
    "# 열 방향 최대 값의 **인덱스**\n",
    "print(np.argmax(a, axis = 1))\n",
    "\n",
    "# 조건문\n",
    "# np.where(조건문, 참일 때 값, 거짓일 때 값)\n",
    "print(np.where(a > 3, 1, 0))\n",
    "print()\n",
    "\n",
    "# np. where(조건문, a, a)\n",
    "# 값 자리에 a를 넣으면 원래의 수를 나타냄\n",
    "print(np.where(a > 3, a, 1))\n",
    "print()\n",
    "\n",
    "# np.linspace(시작 값, 끝 값, 사이 값 갯수)\n",
    "print(np.linspace(1, 10, 7))\n",
    "print(list(range(1, 10, 7))) # range랑 비교해보자! range는 마지막이 사이 값의 갯수가 아닌 크기를 나타 낸다."
   ]
  }
 ],
 "metadata": {
  "kernelspec": {
   "display_name": "Python 3",
   "language": "python",
   "name": "python3"
  },
  "language_info": {
   "codemirror_mode": {
    "name": "ipython",
    "version": 3
   },
   "file_extension": ".py",
   "mimetype": "text/x-python",
   "name": "python",
   "nbconvert_exporter": "python",
   "pygments_lexer": "ipython3",
   "version": "3.8.8"
  }
 },
 "nbformat": 4,
 "nbformat_minor": 5
}
