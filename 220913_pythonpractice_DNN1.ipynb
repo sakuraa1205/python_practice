{
 "cells": [
  {
   "cell_type": "markdown",
   "metadata": {
    "id": "P2n_mLirFD6s"
   },
   "source": [
    "# 회귀 및 분류 연습"
   ]
  },
  {
   "cell_type": "code",
   "execution_count": 1,
   "metadata": {
    "id": "k-kIj84JQdd3"
   },
   "outputs": [],
   "source": [
    "from sklearn.datasets import load_iris"
   ]
  },
  {
   "cell_type": "code",
   "execution_count": 2,
   "metadata": {
    "id": "1F1kZLpEQof_"
   },
   "outputs": [],
   "source": [
    "iris = load_iris()"
   ]
  },
  {
   "cell_type": "code",
   "execution_count": 3,
   "metadata": {
    "id": "4uNPvbD_QyUh"
   },
   "outputs": [],
   "source": [
    "x = iris.data\n",
    "y = iris.target"
   ]
  },
  {
   "cell_type": "code",
   "execution_count": 4,
   "metadata": {
    "id": "6DfGrWUsQ3WC"
   },
   "outputs": [
    {
     "data": {
      "text/plain": [
       "((150, 4), (150,))"
      ]
     },
     "execution_count": 4,
     "metadata": {},
     "output_type": "execute_result"
    }
   ],
   "source": [
    "x.shape, y.shape"
   ]
  },
  {
   "cell_type": "code",
   "execution_count": 5,
   "metadata": {
    "id": "TNVycVIzQ4gl"
   },
   "outputs": [
    {
     "data": {
      "text/plain": [
       "array([0, 0, 0, 0, 0, 0, 0, 0, 0, 0, 0, 0, 0, 0, 0, 0, 0, 0, 0, 0, 0, 0,\n",
       "       0, 0, 0, 0, 0, 0, 0, 0, 0, 0, 0, 0, 0, 0, 0, 0, 0, 0, 0, 0, 0, 0,\n",
       "       0, 0, 0, 0, 0, 0, 1, 1, 1, 1, 1, 1, 1, 1, 1, 1, 1, 1, 1, 1, 1, 1,\n",
       "       1, 1, 1, 1, 1, 1, 1, 1, 1, 1, 1, 1, 1, 1, 1, 1, 1, 1, 1, 1, 1, 1,\n",
       "       1, 1, 1, 1, 1, 1, 1, 1, 1, 1, 1, 1, 2, 2, 2, 2, 2, 2, 2, 2, 2, 2,\n",
       "       2, 2, 2, 2, 2, 2, 2, 2, 2, 2, 2, 2, 2, 2, 2, 2, 2, 2, 2, 2, 2, 2,\n",
       "       2, 2, 2, 2, 2, 2, 2, 2, 2, 2, 2, 2, 2, 2, 2, 2, 2, 2])"
      ]
     },
     "execution_count": 5,
     "metadata": {},
     "output_type": "execute_result"
    }
   ],
   "source": [
    "y"
   ]
  },
  {
   "cell_type": "code",
   "execution_count": 6,
   "metadata": {
    "id": "98EdXISnGlOB"
   },
   "outputs": [
    {
     "data": {
      "text/plain": [
       "array(['setosa', 'versicolor', 'virginica'], dtype='<U10')"
      ]
     },
     "execution_count": 6,
     "metadata": {},
     "output_type": "execute_result"
    }
   ],
   "source": [
    "iris.target_names"
   ]
  },
  {
   "cell_type": "code",
   "execution_count": 7,
   "metadata": {
    "id": "14BEVhH1RLF9"
   },
   "outputs": [],
   "source": [
    "# One-Hot Encoding\n",
    "from tensorflow.keras.utils import to_categorical"
   ]
  },
  {
   "cell_type": "code",
   "execution_count": 8,
   "metadata": {
    "id": "8KsxiLIITAsY"
   },
   "outputs": [],
   "source": [
    "y = to_categorical(y, 3)"
   ]
  },
  {
   "cell_type": "code",
   "execution_count": 9,
   "metadata": {
    "id": "EnZVKiLRRuA8"
   },
   "outputs": [
    {
     "data": {
      "text/plain": [
       "((150, 4), (150, 3))"
      ]
     },
     "execution_count": 9,
     "metadata": {},
     "output_type": "execute_result"
    }
   ],
   "source": [
    "x.shape, y.shape"
   ]
  },
  {
   "cell_type": "markdown",
   "metadata": {
    "id": "MnwReDCpTTMP"
   },
   "source": [
    "# Sequential API"
   ]
  },
  {
   "cell_type": "code",
   "execution_count": 10,
   "metadata": {
    "id": "BS1dDAJITXPT"
   },
   "outputs": [],
   "source": [
    "import tensorflow as tf\n",
    "from tensorflow import keras\n",
    "import numpy as np"
   ]
  },
  {
   "cell_type": "code",
   "execution_count": 11,
   "metadata": {
    "id": "K-QZKTZr8HZb"
   },
   "outputs": [
    {
     "name": "stdout",
     "output_type": "stream",
     "text": [
      "Epoch 1/10\n",
      "5/5 [==============================] - 0s 2ms/step - loss: 1.5573 - accuracy: 0.3333\n",
      "Epoch 2/10\n",
      "5/5 [==============================] - 0s 2ms/step - loss: 1.5045 - accuracy: 0.3333\n",
      "Epoch 3/10\n",
      "5/5 [==============================] - 0s 2ms/step - loss: 1.4532 - accuracy: 0.3333\n",
      "Epoch 4/10\n",
      "5/5 [==============================] - 0s 1ms/step - loss: 1.4047 - accuracy: 0.3333\n",
      "Epoch 5/10\n",
      "5/5 [==============================] - 0s 2ms/step - loss: 1.3548 - accuracy: 0.3333\n",
      "Epoch 6/10\n",
      "5/5 [==============================] - 0s 2ms/step - loss: 1.3122 - accuracy: 0.3333\n",
      "Epoch 7/10\n",
      "5/5 [==============================] - 0s 2ms/step - loss: 1.2663 - accuracy: 0.3333\n",
      "Epoch 8/10\n",
      "5/5 [==============================] - 0s 2ms/step - loss: 1.2266 - accuracy: 0.3333\n",
      "Epoch 9/10\n",
      "5/5 [==============================] - 0s 2ms/step - loss: 1.1881 - accuracy: 0.3333\n",
      "Epoch 10/10\n",
      "5/5 [==============================] - 0s 2ms/step - loss: 1.1501 - accuracy: 0.3333\n",
      "5/5 [==============================] - 0s 2ms/step\n",
      "[[1. 0. 0.]\n",
      " [1. 0. 0.]\n",
      " [1. 0. 0.]\n",
      " [1. 0. 0.]\n",
      " [1. 0. 0.]]\n",
      "[0.19297685 0.66484624 0.14217688 0.2197434  0.5842635  0.19599313\n",
      " 0.20454852 0.63645524 0.15899624 0.19167437 0.6264383  0.1818873\n",
      " 0.18121032 0.6891492  0.12964046]\n"
     ]
    }
   ],
   "source": [
    "keras.backend.clear_session()\n",
    "\n",
    "model = keras.models.Sequential()\n",
    "\n",
    "model.add(keras.layers.Input(shape = (4,)))\n",
    "# 이중분류 : sigmoid\n",
    "# 다중분류 : softmax\n",
    "# 회귀 : x\n",
    "model.add(keras.layers.Dense(3, activation = 'softmax'))\n",
    "\n",
    "# 이중분류 : 'binary_crossentropy'\n",
    "# 다중분류 : 'categorical_crossentropy'\n",
    "# 회귀 : 'mse'\n",
    "model.compile(loss = 'categorical_crossentropy',\n",
    "             optimizer = 'adam',\n",
    "             metrics = ['accuracy'])\n",
    "\n",
    "model.fit(x, y, epochs = 10, verbose = 1)\n",
    "\n",
    "pred = model.predict(x)\n",
    "\n",
    "print(y[:5])\n",
    "print(pred[:5].reshape(-1))"
   ]
  },
  {
   "cell_type": "markdown",
   "metadata": {
    "id": "-20qo3crbLy8"
   },
   "source": [
    "# Functional API"
   ]
  },
  {
   "cell_type": "code",
   "execution_count": 12,
   "metadata": {
    "id": "YaAA7ytbbOlQ"
   },
   "outputs": [
    {
     "name": "stdout",
     "output_type": "stream",
     "text": [
      "Epoch 1/10\n",
      "5/5 [==============================] - 0s 2ms/step - loss: 1.4361 - accuracy: 0.3333\n",
      "Epoch 2/10\n",
      "5/5 [==============================] - 0s 2ms/step - loss: 1.3703 - accuracy: 0.3333\n",
      "Epoch 3/10\n",
      "5/5 [==============================] - 0s 2ms/step - loss: 1.3120 - accuracy: 0.3333\n",
      "Epoch 4/10\n",
      "5/5 [==============================] - 0s 2ms/step - loss: 1.2576 - accuracy: 0.3333\n",
      "Epoch 5/10\n",
      "5/5 [==============================] - 0s 2ms/step - loss: 1.2092 - accuracy: 0.3400\n",
      "Epoch 6/10\n",
      "5/5 [==============================] - 0s 2ms/step - loss: 1.1681 - accuracy: 0.3800\n",
      "Epoch 7/10\n",
      "5/5 [==============================] - 0s 2ms/step - loss: 1.1336 - accuracy: 0.3933\n",
      "Epoch 8/10\n",
      "5/5 [==============================] - 0s 2ms/step - loss: 1.0995 - accuracy: 0.4600\n",
      "Epoch 9/10\n",
      "5/5 [==============================] - 0s 2ms/step - loss: 1.0746 - accuracy: 0.5333\n",
      "Epoch 10/10\n",
      "5/5 [==============================] - 0s 2ms/step - loss: 1.0520 - accuracy: 0.6000\n",
      "5/5 [==============================] - 0s 3ms/step\n",
      "[[1. 0. 0.]\n",
      " [1. 0. 0.]\n",
      " [1. 0. 0.]\n",
      " [1. 0. 0.]\n",
      " [1. 0. 0.]]\n",
      "[0.51898646 0.31412607 0.16688748 0.46500278 0.34626982 0.18872747\n",
      " 0.5004701  0.3205973  0.17893256 0.49664745 0.3018665  0.20148602\n",
      " 0.53786683 0.2965778  0.16555531]\n"
     ]
    }
   ],
   "source": [
    "keras.backend.clear_session()\n",
    "\n",
    "input = keras.layers.Input(shape = (4,))\n",
    "output = keras.layers.Dense(3, activation = 'softmax')(input)\n",
    "\n",
    "model = keras.models.Model(input, output)\n",
    "\n",
    "model.compile(loss = 'categorical_crossentropy',\n",
    "             optimizer = 'adam',\n",
    "             metrics = ['accuracy'])\n",
    "\n",
    "model.fit(x, y, epochs = 10, verbose = 1)\n",
    "\n",
    "pred = model.predict(x)\n",
    "\n",
    "print(y[:5])\n",
    "print(pred[:5].reshape(-1))"
   ]
  }
 ],
 "metadata": {
  "colab": {
   "collapsed_sections": [],
   "name": "1_3_iris.ipynb",
   "provenance": []
  },
  "kernelspec": {
   "display_name": "Python 3",
   "language": "python",
   "name": "python3"
  },
  "language_info": {
   "codemirror_mode": {
    "name": "ipython",
    "version": 3
   },
   "file_extension": ".py",
   "mimetype": "text/x-python",
   "name": "python",
   "nbconvert_exporter": "python",
   "pygments_lexer": "ipython3",
   "version": "3.8.8"
  }
 },
 "nbformat": 4,
 "nbformat_minor": 1
}
