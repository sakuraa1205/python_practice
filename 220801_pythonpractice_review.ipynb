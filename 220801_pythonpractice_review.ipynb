{
 "cells": [
  {
   "cell_type": "markdown",
   "id": "83dae18d",
   "metadata": {},
   "source": [
    "# 파이썬 기초 복습!"
   ]
  },
  {
   "cell_type": "markdown",
   "id": "336245f1",
   "metadata": {},
   "source": [
    "1) range()를 사용하여, 100 이하의 수 중 7의 배수를 리스트 a에 담으시오."
   ]
  },
  {
   "cell_type": "code",
   "execution_count": 11,
   "id": "1314ccf0",
   "metadata": {},
   "outputs": [
    {
     "name": "stdout",
     "output_type": "stream",
     "text": [
      "[7, 14, 21, 28, 35, 42, 49, 56, 63, 70, 77, 84, 91, 98]\n"
     ]
    }
   ],
   "source": [
    "a = list(range(7, 100, 7))\n",
    "print(a)"
   ]
  },
  {
   "cell_type": "markdown",
   "id": "ce980fe1",
   "metadata": {},
   "source": [
    "2) a에서 인덱스 4 ~ 7까지 조회하시오."
   ]
  },
  {
   "cell_type": "code",
   "execution_count": 12,
   "id": "db5cb7b9",
   "metadata": {},
   "outputs": [
    {
     "name": "stdout",
     "output_type": "stream",
     "text": [
      "[35, 42, 49, 56]\n"
     ]
    }
   ],
   "source": [
    "print(a[4:8])"
   ]
  },
  {
   "cell_type": "markdown",
   "id": "8cbec679",
   "metadata": {},
   "source": [
    "3) a에서, 끝에서 세번째 값을 조회하시오."
   ]
  },
  {
   "cell_type": "code",
   "execution_count": 13,
   "id": "ee1c7d1e",
   "metadata": {},
   "outputs": [
    {
     "name": "stdout",
     "output_type": "stream",
     "text": [
      "84\n"
     ]
    }
   ],
   "source": [
    "print(a[-3])"
   ]
  },
  {
   "cell_type": "markdown",
   "id": "de877df7",
   "metadata": {},
   "source": [
    "4) a에 데이터 갯수(길이)는?"
   ]
  },
  {
   "cell_type": "code",
   "execution_count": 14,
   "id": "956ab9b5",
   "metadata": {},
   "outputs": [
    {
     "name": "stdout",
     "output_type": "stream",
     "text": [
      "14\n"
     ]
    }
   ],
   "source": [
    "print(len(a))"
   ]
  },
  {
   "cell_type": "markdown",
   "id": "7d5eb72b",
   "metadata": {},
   "source": [
    "5) a 값들의 합과 평균을 구하시오."
   ]
  },
  {
   "cell_type": "code",
   "execution_count": 17,
   "id": "947d4b6c",
   "metadata": {},
   "outputs": [
    {
     "name": "stdout",
     "output_type": "stream",
     "text": [
      "52.5\n"
     ]
    }
   ],
   "source": [
    "print(sum(a) / len(a))"
   ]
  },
  {
   "cell_type": "markdown",
   "id": "fde30944",
   "metadata": {},
   "source": [
    "6) 반복문을 이용하여 100이하의 소수(prime number)를 리스트에 담아 봅시다.\n",
    "* 소수(prime number) : 약수가 오직 1과 자기자신 만 존재하는 수. "
   ]
  },
  {
   "cell_type": "code",
   "execution_count": 33,
   "id": "7c998731",
   "metadata": {},
   "outputs": [
    {
     "name": "stdout",
     "output_type": "stream",
     "text": [
      "[2, 3, 5, 7, 11, 13, 17, 19, 23, 29, 31, 37, 41, 43, 47, 53, 59, 61, 67, 71, 73, 79, 83, 89, 97]\n"
     ]
    }
   ],
   "source": [
    "a = []\n",
    "\n",
    "for i in range(2, 101):\n",
    "    flag = 0\n",
    "    for j in range(1, i + 1):\n",
    "        if i % j == 0:\n",
    "            flag += 1\n",
    "    if flag == 2:\n",
    "        a.append(int(i))\n",
    "\n",
    "print(a)"
   ]
  },
  {
   "cell_type": "markdown",
   "id": "500fa4ed",
   "metadata": {},
   "source": [
    "7) 아래 값으로 딕셔너리 d를 생성해 봅시다.\n",
    "\n",
    "|key | value|\n",
    "|----|----|\n",
    "|v1 | [1,2,3]|\n",
    "|v2 | {'a':23, 'b':[4,5]}|\n"
   ]
  },
  {
   "cell_type": "code",
   "execution_count": 36,
   "id": "2d0eaba9",
   "metadata": {},
   "outputs": [
    {
     "name": "stdout",
     "output_type": "stream",
     "text": [
      "{'v1': [1, 2, 3], 'v2': {'a': 23, 'b': [4, 5]}}\n",
      "<class 'dict'>\n"
     ]
    }
   ],
   "source": [
    "d = {'v1' : [1, 2, 3], 'v2' : {'a':23, 'b':[4,5]}}\n",
    "print(d)\n",
    "print(type(d))"
   ]
  },
  {
   "cell_type": "markdown",
   "id": "c6e8cd37",
   "metadata": {},
   "source": [
    "8) d에서 [1,2,3]을 출력해 봅시다."
   ]
  },
  {
   "cell_type": "code",
   "execution_count": 38,
   "id": "cd3efd3a",
   "metadata": {},
   "outputs": [
    {
     "name": "stdout",
     "output_type": "stream",
     "text": [
      "[1, 2, 3]\n"
     ]
    }
   ],
   "source": [
    "print(d['v1'])"
   ]
  },
  {
   "cell_type": "markdown",
   "id": "1ebf3388",
   "metadata": {},
   "source": [
    "9) d에서 23을 출력해 봅시다"
   ]
  },
  {
   "cell_type": "code",
   "execution_count": 39,
   "id": "524fc957",
   "metadata": {},
   "outputs": [
    {
     "name": "stdout",
     "output_type": "stream",
     "text": [
      "23\n"
     ]
    }
   ],
   "source": [
    "print(d['v2']['a'])"
   ]
  },
  {
   "cell_type": "markdown",
   "id": "56204c00",
   "metadata": {},
   "source": [
    "10) d에서 5를 출력해봅시다."
   ]
  },
  {
   "cell_type": "code",
   "execution_count": 40,
   "id": "a55dad50",
   "metadata": {},
   "outputs": [
    {
     "name": "stdout",
     "output_type": "stream",
     "text": [
      "5\n"
     ]
    }
   ],
   "source": [
    "print(d['v2']['b'][1])"
   ]
  },
  {
   "cell_type": "markdown",
   "id": "88e1e912",
   "metadata": {},
   "source": [
    "11) d에 key 'newKey' , value (1,2) 를 추가하고 출력해봅시다."
   ]
  },
  {
   "cell_type": "code",
   "execution_count": 41,
   "id": "99841f5a",
   "metadata": {},
   "outputs": [
    {
     "name": "stdout",
     "output_type": "stream",
     "text": [
      "{'v1': [1, 2, 3], 'v2': {'a': 23, 'b': [4, 5]}, 'newKey': (1, 2)}\n"
     ]
    }
   ],
   "source": [
    "d['newKey'] = (1, 2)\n",
    "print(d)"
   ]
  }
 ],
 "metadata": {
  "kernelspec": {
   "display_name": "Python 3",
   "language": "python",
   "name": "python3"
  },
  "language_info": {
   "codemirror_mode": {
    "name": "ipython",
    "version": 3
   },
   "file_extension": ".py",
   "mimetype": "text/x-python",
   "name": "python",
   "nbconvert_exporter": "python",
   "pygments_lexer": "ipython3",
   "version": "3.8.8"
  }
 },
 "nbformat": 4,
 "nbformat_minor": 5
}
