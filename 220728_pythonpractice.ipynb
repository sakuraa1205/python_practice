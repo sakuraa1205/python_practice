{
 "cells": [
  {
   "cell_type": "markdown",
   "id": "5f0d9673",
   "metadata": {},
   "source": [
    "# input 1"
   ]
  },
  {
   "cell_type": "code",
   "execution_count": 1,
   "id": "3e1257e3",
   "metadata": {},
   "outputs": [
    {
     "name": "stdout",
     "output_type": "stream",
     "text": [
      "안녕하세요! 당신의 이름은 무엇입니까?이준혁\n",
      "안녕하세요 이준혁 님!\n"
     ]
    }
   ],
   "source": [
    "name = input('안녕하세요! 당신의 이름은 무엇입니까?')\n",
    "print(f'안녕하세요 {name} 님!')"
   ]
  },
  {
   "cell_type": "markdown",
   "id": "ffcb01d2",
   "metadata": {},
   "source": [
    "# input 2"
   ]
  },
  {
   "cell_type": "code",
   "execution_count": 7,
   "id": "35bc9fb9",
   "metadata": {},
   "outputs": [
    {
     "name": "stdout",
     "output_type": "stream",
     "text": [
      "정사각형 한 변의 길이를 입력하세요!123\n",
      "정사각형의 넓이는 15129 입니다!\n"
     ]
    }
   ],
   "source": [
    "length = int(input('정사각형 한 변의 길이를 입력하세요!'))\n",
    "print(f'정사각형의 넓이는 {length**2} 입니다!')"
   ]
  },
  {
   "cell_type": "markdown",
   "id": "97ff91fc",
   "metadata": {},
   "source": [
    "# input 3 & if 문 연습"
   ]
  },
  {
   "cell_type": "code",
   "execution_count": 9,
   "id": "c517f565",
   "metadata": {},
   "outputs": [
    {
     "name": "stdout",
     "output_type": "stream",
     "text": [
      "세 정수 중 가장 큰 값을 구합니다!\n",
      "정수 a를 기입해주세요!1\n",
      "정수 b를 기입해주세요!2\n",
      "정수 c를 기입해주세요!3\n",
      "최댓값은 3 입니다.\n"
     ]
    }
   ],
   "source": [
    "print('세 정수 중 가장 큰 값을 구합니다!')\n",
    "a = input('정수 a를 기입해주세요!')\n",
    "b = input('정수 b를 기입해주세요!')\n",
    "c = input('정수 c를 기입해주세요!')\n",
    "\n",
    "maximum = a\n",
    "if b > maximum:\n",
    "    maximum = b\n",
    "if c > maximum:\n",
    "    maximum = c\n",
    "\n",
    "print(f'최댓값은 {maximum} 입니다.')\n",
    "    "
   ]
  },
  {
   "cell_type": "markdown",
   "id": "3266213b",
   "metadata": {},
   "source": [
    "# 조건문과 분기"
   ]
  },
  {
   "cell_type": "code",
   "execution_count": 4,
   "id": "2f910518",
   "metadata": {},
   "outputs": [
    {
     "name": "stdout",
     "output_type": "stream",
     "text": [
      "정수를 입력하세요. : 145647\n",
      "이 수는 양수입니다.\n"
     ]
    }
   ],
   "source": [
    "n = int(input('정수를 입력하세요. : '))\n",
    "\n",
    "if n > 0:\n",
    "    print('이 수는 양수입니다.')\n",
    "elif n < 0:\n",
    "    print('이 수는 음수입니다.')\n",
    "else:\n",
    "    print('이 수는 0 입니다.')"
   ]
  },
  {
   "cell_type": "markdown",
   "id": "09dcc4a7",
   "metadata": {},
   "source": [
    "# 네 정수의 최댓값 구하기"
   ]
  },
  {
   "cell_type": "code",
   "execution_count": 7,
   "id": "66b94788",
   "metadata": {},
   "outputs": [
    {
     "name": "stdout",
     "output_type": "stream",
     "text": [
      "세 정수 중 가장 큰 값을 구합니다!\n",
      "정수 a를 기입해주세요!156\n",
      "정수 b를 기입해주세요!48453\n",
      "정수 c를 기입해주세요!48418\n",
      "정수 d를 기입해주세요!182\n",
      "최댓값은 48453 입니다.\n"
     ]
    }
   ],
   "source": [
    "print('세 정수 중 가장 큰 값을 구합니다!')\n",
    "a = input('정수 a를 기입해주세요!')\n",
    "b = input('정수 b를 기입해주세요!')\n",
    "c = input('정수 c를 기입해주세요!')\n",
    "d = input('정수 d를 기입해주세요!')\n",
    "\n",
    "maximum = a\n",
    "if b > maximum:\n",
    "    maximum = b\n",
    "if c > maximum:\n",
    "    maximum = c\n",
    "if d > maximum:\n",
    "    maximum = d\n",
    "\n",
    "print(f'최댓값은 {maximum} 입니다.')    "
   ]
  },
  {
   "cell_type": "markdown",
   "id": "cffb4cb3",
   "metadata": {},
   "source": [
    "# 세 정수의 중앙 값 구하기"
   ]
  },
  {
   "cell_type": "code",
   "execution_count": 6,
   "id": "dc27f0ef",
   "metadata": {},
   "outputs": [
    {
     "name": "stdout",
     "output_type": "stream",
     "text": [
      "세 정수의 중앙값을 구합니다!\n",
      "정수 a를 기입하세요!4\n",
      "정수 b를 기입하세요!634\n",
      "정수 c를 기입하세요!2146\n",
      "중앙값은 634 입니다!\n"
     ]
    }
   ],
   "source": [
    "print('세 정수의 중앙값을 구합니다!')\n",
    "\n",
    "def med(a, b, c):\n",
    "    \n",
    "    if a >= b:\n",
    "        if b >= c:\n",
    "            return b\n",
    "        elif a <= c:\n",
    "            return a\n",
    "        else:\n",
    "            return c\n",
    "    elif a > c:\n",
    "        return a\n",
    "    elif b > c:\n",
    "        return c\n",
    "    else:\n",
    "        return b\n",
    "\n",
    "a = int(input('정수 a를 기입하세요!'))\n",
    "b = int(input('정수 b를 기입하세요!'))\n",
    "c = int(input('정수 c를 기입하세요!'))\n",
    "print(f'중앙값은 {med(a, b, c)} 입니다!')"
   ]
  },
  {
   "cell_type": "markdown",
   "id": "d1d61b1f",
   "metadata": {},
   "source": [
    "# 수도 회사 요금 체계 만들기"
   ]
  },
  {
   "cell_type": "code",
   "execution_count": 18,
   "id": "3600af94",
   "metadata": {},
   "outputs": [
    {
     "name": "stdout",
     "output_type": "stream",
     "text": [
      "수도 회사 별 요금표 작성 도구 입니다!\n",
      "원하시는 회사를 기입해주세요!B\n",
      "물 사용량(L)을 기입해주세요!315\n",
      "B 회사의 수도 요금은 27375 입니다!\n"
     ]
    }
   ],
   "source": [
    "print('수도 회사 별 요금표 작성 도구 입니다!')\n",
    "\n",
    "def waterPay(company, usage):\n",
    "    \n",
    "    pay = 0\n",
    "    \n",
    "    if company == 'A':\n",
    "        pay = water * 100\n",
    "    else:\n",
    "        if usage <= 50:\n",
    "            pay = usage * 150\n",
    "        else:\n",
    "            pay = 50 * 150 + (usage - 50) * 75\n",
    "    \n",
    "    return pay\n",
    "\n",
    "company = input('원하시는 회사를 기입해주세요!')\n",
    "usage = int(input('물 사용량(L)을 기입해주세요!'))\n",
    "\n",
    "print(f'{company} 회사의 수도 요금은 {waterPay(company, usage)} 입니다!')\n"
   ]
  },
  {
   "cell_type": "markdown",
   "id": "b6724766",
   "metadata": {},
   "source": [
    "# WHILE 반복문"
   ]
  },
  {
   "cell_type": "code",
   "execution_count": 20,
   "id": "3a0532b9",
   "metadata": {},
   "outputs": [
    {
     "name": "stdout",
     "output_type": "stream",
     "text": [
      "1부터 n까지 정수의 합을 구합니다!\n",
      "원하는 n 값을 기입해주세요!10\n",
      "n까지의 정수의 합은 55 입니다!\n"
     ]
    }
   ],
   "source": [
    "print('1부터 n까지 정수의 합을 구합니다!')\n",
    "n = int(input('원하는 n 값을 기입해주세요!'))\n",
    "\n",
    "sum = 0\n",
    "i = 1\n",
    "\n",
    "while i <= n:\n",
    "    sum += i\n",
    "    i += 1\n",
    "\n",
    "print(f'n까지의 정수의 합은 {sum} 입니다!')"
   ]
  },
  {
   "cell_type": "markdown",
   "id": "4eca8660",
   "metadata": {},
   "source": [
    "# for 반복문 1"
   ]
  },
  {
   "cell_type": "code",
   "execution_count": 21,
   "id": "a1f4cf8a",
   "metadata": {},
   "outputs": [
    {
     "name": "stdout",
     "output_type": "stream",
     "text": [
      "1부터 n까지 정수의 합을 구합니다!\n",
      "원하는 n 값을 기입해주세요!10\n",
      "n까지의 정수의 합은 55 입니다!\n"
     ]
    }
   ],
   "source": [
    "print('1부터 n까지 정수의 합을 구합니다!')\n",
    "n = int(input('원하는 n 값을 기입해주세요!'))\n",
    "\n",
    "sum = 0\n",
    "\n",
    "for i in range(1, n + 1):\n",
    "    sum += i\n",
    "\n",
    "print(f'n까지의 정수의 합은 {sum} 입니다!')"
   ]
  },
  {
   "cell_type": "markdown",
   "id": "bbe8348e",
   "metadata": {},
   "source": [
    "# for 반복문 2"
   ]
  },
  {
   "cell_type": "code",
   "execution_count": 24,
   "id": "75d7a98a",
   "metadata": {},
   "outputs": [
    {
     "name": "stdout",
     "output_type": "stream",
     "text": [
      "a부터 b까지 정수의 합을 구합니다!\n",
      "원하는 a 값을 기입해주세요!10\n",
      "원하는 b 값을 기입해주세요!2\n",
      "a부터 b까지 정수의 합은 54 입니다!\n"
     ]
    }
   ],
   "source": [
    "print('a부터 b까지 정수의 합을 구합니다!')\n",
    "a = int(input('원하는 a 값을 기입해주세요!'))\n",
    "b = int(input('원하는 b 값을 기입해주세요!'))\n",
    "\n",
    "if a > b:                                      # 튜플화 중요!\n",
    "    a, b = b, a                                # 튜플화 하지 않으면 b가 a보다 작을 때 실행이 안 됨.\n",
    "\n",
    "sum = 0\n",
    "\n",
    "for i in range(a, b + 1):\n",
    "    sum += i\n",
    "\n",
    "print(f'a부터 b까지 정수의 합은 {sum} 입니다!')"
   ]
  },
  {
   "cell_type": "markdown",
   "id": "8966b936",
   "metadata": {},
   "source": [
    "# for 반복문 조건 1"
   ]
  },
  {
   "cell_type": "code",
   "execution_count": 25,
   "id": "dcaee9e5",
   "metadata": {},
   "outputs": [
    {
     "name": "stdout",
     "output_type": "stream",
     "text": [
      "a부터 b까지 정수의 합을 구합니다!\n",
      "원하는 a 값을 기입해주세요!10\n",
      "원하는 b 값을 기입해주세요!2\n",
      "2 + 3 + 4 + 5 + 6 + 7 + 8 + 9 + 10 = a부터 b까지 정수의 합은 54 입니다!\n"
     ]
    }
   ],
   "source": [
    "print('a부터 b까지 정수의 합을 구합니다!')\n",
    "a = int(input('원하는 a 값을 기입해주세요!'))\n",
    "b = int(input('원하는 b 값을 기입해주세요!'))\n",
    "\n",
    "if a > b:                                      # 튜플화 중요!\n",
    "    a, b = b, a                                # 튜플화 하지 않으면 b가 a보다 작을 때 실행이 안 됨.\n",
    "\n",
    "sum = 0\n",
    "\n",
    "for i in range(a, b + 1):\n",
    "    if i < b:\n",
    "        print(f'{i} +', end = ' ')\n",
    "    else:\n",
    "        print(f'{i} =', end = ' ')\n",
    "    \n",
    "    sum += i\n",
    "\n",
    "print(f'a부터 b까지 정수의 합은 {sum} 입니다!')"
   ]
  },
  {
   "cell_type": "markdown",
   "id": "1abb70b1",
   "metadata": {},
   "source": [
    "# for 반복문 조건 2"
   ]
  },
  {
   "cell_type": "code",
   "execution_count": 27,
   "id": "120e2c55",
   "metadata": {},
   "outputs": [
    {
     "name": "stdout",
     "output_type": "stream",
     "text": [
      "a부터 b까지 정수의 합을 구합니다!\n",
      "원하는 a 값을 기입해주세요!2\n",
      "원하는 b 값을 기입해주세요!10\n",
      "2 + 3 + 4 + 5 + 6 + 7 + 8 + 9 + 10 = a부터 b까지 정수의 합은 54 입니다!\n"
     ]
    }
   ],
   "source": [
    "print('a부터 b까지 정수의 합을 구합니다!')\n",
    "a = int(input('원하는 a 값을 기입해주세요!'))\n",
    "b = int(input('원하는 b 값을 기입해주세요!'))\n",
    "\n",
    "if a > b:                                      # 튜플화 중요!\n",
    "    a, b = b, a                                # 튜플화 하지 않으면 b가 a보다 작을 때 실행이 안 됨.\n",
    "\n",
    "sum = 0\n",
    "\n",
    "for i in range(a, b):\n",
    "    if i < b:\n",
    "        print(f'{i} +', end = ' ')\n",
    "    \n",
    "    sum += i\n",
    "\n",
    "print(f'{b} =', end = ' ')\n",
    "sum += b\n",
    "\n",
    "print(f'a부터 b까지 정수의 합은 {sum} 입니다!')"
   ]
  },
  {
   "cell_type": "markdown",
   "id": "1bd53678",
   "metadata": {},
   "source": [
    "# for 반복문 조건 3"
   ]
  },
  {
   "cell_type": "code",
   "execution_count": 33,
   "id": "1547e604",
   "metadata": {},
   "outputs": [
    {
     "name": "stdout",
     "output_type": "stream",
     "text": [
      "* 을 출력합니다.\n",
      "원하는 *의 갯수는 몇 개 입니까? :354\n",
      "몇 개마다 줄 바꿈을 할까요? :4\n",
      "* * * * \n",
      "* * * * \n",
      "* * * * \n",
      "* * * * \n",
      "* * * * \n",
      "* * * * \n",
      "* * * * \n",
      "* * * * \n",
      "* * * * \n",
      "* * * * \n",
      "* * * * \n",
      "* * * * \n",
      "* * * * \n",
      "* * * * \n",
      "* * * * \n",
      "* * * * \n",
      "* * * * \n",
      "* * * * \n",
      "* * * * \n",
      "* * * * \n",
      "* * * * \n",
      "* * * * \n",
      "* * * * \n",
      "* * * * \n",
      "* * * * \n",
      "* * * * \n",
      "* * * * \n",
      "* * * * \n",
      "* * * * \n",
      "* * * * \n",
      "* * * * \n",
      "* * * * \n",
      "* * * * \n",
      "* * * * \n",
      "* * * * \n",
      "* * * * \n",
      "* * * * \n",
      "* * * * \n",
      "* * * * \n",
      "* * * * \n",
      "* * * * \n",
      "* * * * \n",
      "* * * * \n",
      "* * * * \n",
      "* * * * \n",
      "* * * * \n",
      "* * * * \n",
      "* * * * \n",
      "* * * * \n",
      "* * * * \n",
      "* * * * \n",
      "* * * * \n",
      "* * * * \n",
      "* * * * \n",
      "* * * * \n",
      "* * * * \n",
      "* * * * \n",
      "* * * * \n",
      "* * * * \n",
      "* * * * \n",
      "* * * * \n",
      "* * * * \n",
      "* * * * \n",
      "* * * * \n",
      "* * * * \n",
      "* * * * \n",
      "* * * * \n",
      "* * * * \n",
      "* * * * \n",
      "* * * * \n",
      "* * * * \n",
      "* * * * \n",
      "* * * * \n",
      "* * * * \n",
      "* * * * \n",
      "* * * * \n",
      "* * * * \n",
      "* * * * \n",
      "* * * * \n",
      "* * * * \n",
      "* * * * \n",
      "* * * * \n",
      "* * * * \n",
      "* * * * \n",
      "* * * * \n",
      "* * * * \n",
      "* * * * \n",
      "* * * * \n",
      "* * \n"
     ]
    }
   ],
   "source": [
    "print('* 을 출력합니다.')\n",
    "n = int(input('원하는 *의 갯수는 몇 개 입니까? :'))\n",
    "w = int(input('몇 개마다 줄 바꿈을 할까요? :'))\n",
    "\n",
    "for i in range(n):\n",
    "    print('*', end = ' ')\n",
    "    if i % w == w - 1:\n",
    "        print()\n",
    "        \n",
    "if n % w:\n",
    "    print()"
   ]
  },
  {
   "cell_type": "markdown",
   "id": "321f39b2",
   "metadata": {},
   "source": [
    "# for 반복문 조건 4"
   ]
  },
  {
   "cell_type": "code",
   "execution_count": 34,
   "id": "04f68c9d",
   "metadata": {},
   "outputs": [
    {
     "name": "stdout",
     "output_type": "stream",
     "text": [
      "*를 출력합니다.\n",
      "몇 개를 출력할까요?:54\n",
      "몇 개마다 줄바꿈 할까요?:10\n",
      "**********\n",
      "**********\n",
      "**********\n",
      "**********\n",
      "**********\n",
      "****\n"
     ]
    }
   ],
   "source": [
    "print('*를 출력합니다.')\n",
    "n = int(input('몇 개를 출력할까요?:'))\n",
    "w = int(input('몇 개마다 줄바꿈 할까요?:'))\n",
    "\n",
    "for _ in range(n // w):\t# n // w 번 반복\n",
    "    print('*'*w) \t\t# *를 w번 출력\n",
    "\n",
    "rest = n % w\n",
    "if rest:    \t\t\t# rest 값이 있으면\n",
    "    print('*'*rest) \t\t# rest 값만큼 * 반복 출력"
   ]
  },
  {
   "cell_type": "markdown",
   "id": "e3be48de",
   "metadata": {},
   "source": [
    "# 무한 루프와 break"
   ]
  },
  {
   "cell_type": "code",
   "execution_count": 35,
   "id": "7e430eaf",
   "metadata": {},
   "outputs": [
    {
     "name": "stdout",
     "output_type": "stream",
     "text": [
      "1부터 n까지 정수의 합을 구합니다.\n",
      "n 값을 입력하세요. :5\n",
      "1부터 5까지의 정수의 합은 15 입니다.\n"
     ]
    }
   ],
   "source": [
    "print('1부터 n까지 정수의 합을 구합니다.')\n",
    "\n",
    "while True:\n",
    "    n = int(input('n 값을 입력하세요. :'))\n",
    "    if n > 0:\n",
    "        break\n",
    "\n",
    "sum = 0\n",
    "i = 1\n",
    "\n",
    "for i in range(1, n + 1):\n",
    "    sum += i\n",
    "    i += 1\n",
    "\n",
    "print(f'1부터 {n}까지의 정수의 합은 {sum} 입니다.')"
   ]
  },
  {
   "cell_type": "markdown",
   "id": "a72cf909",
   "metadata": {},
   "source": [
    "# Continue 와 break"
   ]
  },
  {
   "cell_type": "code",
   "execution_count": 37,
   "id": "05e25a1c",
   "metadata": {},
   "outputs": [
    {
     "name": "stdout",
     "output_type": "stream",
     "text": [
      "직사각형의 넓이를 기입하세요! :7135\n",
      "1 x 7135\n",
      "5 x 1427\n"
     ]
    }
   ],
   "source": [
    "area = int(input('직사각형의 넓이를 기입하세요! :'))\n",
    "\n",
    "for i in range(1, area + 1):\n",
    "    if i * i > area: break\n",
    "    if area % i: continue\n",
    "    print(f'{i} x {area // i}')"
   ]
  },
  {
   "cell_type": "markdown",
   "id": "892db99a",
   "metadata": {},
   "source": [
    "# Continue 와 break 2"
   ]
  },
  {
   "cell_type": "code",
   "execution_count": 38,
   "id": "762957be",
   "metadata": {},
   "outputs": [
    {
     "name": "stdout",
     "output_type": "stream",
     "text": [
      "직사각형의 넓이를 기입하세요! :7135\n",
      "1 x 7135\n",
      "5 x 1427\n",
      "1427 x 5\n",
      "7135 x 1\n"
     ]
    }
   ],
   "source": [
    "area = int(input('직사각형의 넓이를 기입하세요! :'))\n",
    "\n",
    "for i in range(1, area + 1):\n",
    "    if area % i: continue\n",
    "    print(f'{i} x {area // i}')"
   ]
  },
  {
   "cell_type": "markdown",
   "id": "fca1ae0e",
   "metadata": {},
   "source": [
    "# 다중 루프 (구구단)"
   ]
  },
  {
   "cell_type": "code",
   "execution_count": 44,
   "id": "3a9586fd",
   "metadata": {},
   "outputs": [
    {
     "name": "stdout",
     "output_type": "stream",
     "text": [
      "-------------------------------------\n",
      "  1   2   3   4   5   6   7   8   9 \n",
      "  2   4   6   8  10  12  14  16  18 \n",
      "  3   6   9  12  15  18  21  24  27 \n",
      "  4   8  12  16  20  24  28  32  36 \n",
      "  5  10  15  20  25  30  35  40  45 \n",
      "  6  12  18  24  30  36  42  48  54 \n",
      "  7  14  21  28  35  42  49  56  63 \n",
      "  8  16  24  32  40  48  56  64  72 \n",
      "  9  18  27  36  45  54  63  72  81 \n",
      "-------------------------------------\n"
     ]
    }
   ],
   "source": [
    "print('-' * 37)\n",
    "\n",
    "for i in range(1, 10):\n",
    "    for j in range(1, 10):\n",
    "        print(f'{i * j:3}', end = ' ') # :3은 자릿수를 만들기 위한 작업이라 중요하지 않은 듯?\n",
    "    print()\n",
    "\n",
    "print('-' * 37)"
   ]
  },
  {
   "cell_type": "markdown",
   "id": "f3d33b2f",
   "metadata": {},
   "source": [
    "# 실습 - 전기 요금 계산기 만들기\n",
    "수도 요금 심화 버전"
   ]
  },
  {
   "cell_type": "code",
   "execution_count": 57,
   "id": "208ae9ab",
   "metadata": {},
   "outputs": [
    {
     "name": "stdout",
     "output_type": "stream",
     "text": [
      "전기 요금 산출 계산기 입니다!\n",
      "전기 사용량을 기입해주세요!315\n",
      "전기 요금은 47604 원 입니다!\n"
     ]
    }
   ],
   "source": [
    "print('전기 요금 산출 계산기 입니다!')\n",
    "\n",
    "def electricPay(usage):\n",
    "    \n",
    "    pay = 0\n",
    "    \n",
    "    if usage < 100:\n",
    "        pay = 410 + 60.7 * usage\n",
    "    elif usage <= 200:\n",
    "        pay = 910 + 60.7 * 100 + 125.9 * (usage - 100)\n",
    "    else:\n",
    "        pay = 1600 + 60.7 * 100 + 125.9 * 100 + 187.9 * (usage - 200)\n",
    "    \n",
    "    paysum = int(pay + pay * 0.1 + pay * 0.037)\n",
    "    return paysum\n",
    "\n",
    "usage = int(input('전기 사용량을 기입해주세요!'))\n",
    "bill = electricPay(usage)\n",
    "print(f'전기 요금은 {bill} 원 입니다!')\n"
   ]
  },
  {
   "cell_type": "markdown",
   "id": "141c556d",
   "metadata": {},
   "source": [
    "# 실습 - 알고리즘\n",
    "별모양 출력 심화 버전"
   ]
  },
  {
   "cell_type": "code",
   "execution_count": 59,
   "id": "723934d7",
   "metadata": {},
   "outputs": [
    {
     "name": "stdout",
     "output_type": "stream",
     "text": [
      "몇 개의 기호를 출력하시겠습니까? :27\n",
      "+-+-+-+-+-+-+-+-+-+-+-+-+-+"
     ]
    }
   ],
   "source": [
    "n = int(input('몇 개의 기호를 출력하시겠습니까? :'))\n",
    "\n",
    "for i in range(n):\n",
    "    if i % 2:\n",
    "        print('-', end = '')\n",
    "    else:\n",
    "        print('+', end = '')"
   ]
  },
  {
   "cell_type": "markdown",
   "id": "276bfaa3",
   "metadata": {},
   "source": [
    "# 실습 - 알고리즘\n",
    "출력 심화 버전"
   ]
  },
  {
   "cell_type": "code",
   "execution_count": 60,
   "id": "c0dd64c0",
   "metadata": {},
   "outputs": [
    {
     "name": "stdout",
     "output_type": "stream",
     "text": [
      "1 2 3 4 5 6 7 9 10 11 12 \n"
     ]
    }
   ],
   "source": [
    "for i in range(1, 13):\n",
    "    if i == 8:\n",
    "        continue\n",
    "    print(f'{i}', end = ' ')\n",
    "\n",
    "print()        "
   ]
  },
  {
   "cell_type": "markdown",
   "id": "2c544381",
   "metadata": {},
   "source": [
    "# 제곱근 실습"
   ]
  },
  {
   "cell_type": "code",
   "execution_count": 65,
   "id": "df8d5cd0",
   "metadata": {},
   "outputs": [
    {
     "name": "stdout",
     "output_type": "stream",
     "text": [
      "원하는 정수를 기입하세요! :121\n",
      "11**2 "
     ]
    }
   ],
   "source": [
    "root = int(input('원하는 정수를 기입하세요! :'))\n",
    "\n",
    "flag = 0\n",
    "\n",
    "for i in range(1, root + 1):\n",
    "    for j in range(2, 6):\n",
    "        if i ** j == root:\n",
    "            print(f'{i}**{j}', end = ' ')\n",
    "            flag = 1\n",
    "\n",
    "if flag == 0:\n",
    "    print('결과가 없습니다!')"
   ]
  }
 ],
 "metadata": {
  "kernelspec": {
   "display_name": "Python 3",
   "language": "python",
   "name": "python3"
  },
  "language_info": {
   "codemirror_mode": {
    "name": "ipython",
    "version": 3
   },
   "file_extension": ".py",
   "mimetype": "text/x-python",
   "name": "python",
   "nbconvert_exporter": "python",
   "pygments_lexer": "ipython3",
   "version": "3.8.8"
  }
 },
 "nbformat": 4,
 "nbformat_minor": 5
}
