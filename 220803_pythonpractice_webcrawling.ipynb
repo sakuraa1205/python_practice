{
 "cells": [
  {
   "cell_type": "markdown",
   "id": "c1344ffd",
   "metadata": {},
   "source": [
    "# WebCrawling"
   ]
  },
  {
   "cell_type": "code",
   "execution_count": 89,
   "id": "e2eadcb7",
   "metadata": {},
   "outputs": [],
   "source": [
    "# 라이브러리 불러오기\n",
    "import requests\n",
    "import pandas as pd"
   ]
  },
  {
   "cell_type": "code",
   "execution_count": 90,
   "id": "a9cf45ff",
   "metadata": {},
   "outputs": [
    {
     "data": {
      "text/html": [
       "<div>\n",
       "<style scoped>\n",
       "    .dataframe tbody tr th:only-of-type {\n",
       "        vertical-align: middle;\n",
       "    }\n",
       "\n",
       "    .dataframe tbody tr th {\n",
       "        vertical-align: top;\n",
       "    }\n",
       "\n",
       "    .dataframe thead th {\n",
       "        text-align: right;\n",
       "    }\n",
       "</style>\n",
       "<table border=\"1\" class=\"dataframe\">\n",
       "  <thead>\n",
       "    <tr style=\"text-align: right;\">\n",
       "      <th></th>\n",
       "      <th>localTradedAt</th>\n",
       "      <th>closePrice</th>\n",
       "    </tr>\n",
       "  </thead>\n",
       "  <tbody>\n",
       "    <tr>\n",
       "      <th>0</th>\n",
       "      <td>2022-08-03</td>\n",
       "      <td>2,461.45</td>\n",
       "    </tr>\n",
       "    <tr>\n",
       "      <th>1</th>\n",
       "      <td>2022-08-02</td>\n",
       "      <td>2,439.62</td>\n",
       "    </tr>\n",
       "    <tr>\n",
       "      <th>2</th>\n",
       "      <td>2022-08-01</td>\n",
       "      <td>2,452.25</td>\n",
       "    </tr>\n",
       "    <tr>\n",
       "      <th>3</th>\n",
       "      <td>2022-07-29</td>\n",
       "      <td>2,451.50</td>\n",
       "    </tr>\n",
       "    <tr>\n",
       "      <th>4</th>\n",
       "      <td>2022-07-28</td>\n",
       "      <td>2,435.27</td>\n",
       "    </tr>\n",
       "  </tbody>\n",
       "</table>\n",
       "</div>"
      ],
      "text/plain": [
       "  localTradedAt closePrice\n",
       "0    2022-08-03   2,461.45\n",
       "1    2022-08-02   2,439.62\n",
       "2    2022-08-01   2,452.25\n",
       "3    2022-07-29   2,451.50\n",
       "4    2022-07-28   2,435.27"
      ]
     },
     "execution_count": 90,
     "metadata": {},
     "output_type": "execute_result"
    }
   ],
   "source": [
    "# 코스피 데이터 웹크롤링\n",
    "def stock_kospi(pageSize, page):\n",
    "    \"\"\"This function is ~~~~~~\n",
    "    Params\n",
    "    ------\n",
    "    pageSize : int : one page size\n",
    "    page : int : page number\n",
    "    \n",
    "    Return\n",
    "    ------\n",
    "    type : DataFrame : [['display date', 'price']]\n",
    "    \"\"\"\n",
    "    url = f\"https://m.stock.naver.com/api/index/KOSPI/price?pageSize={pageSize}&page={page}\"\n",
    "    response = requests.get(url)\n",
    "    data = response.json()\n",
    "    return pd.DataFrame(data)[['localTradedAt', 'closePrice']]\n",
    "\n",
    "kospi_data = stock_kospi(60, 1)\n",
    "kospi_data.head()"
   ]
  },
  {
   "cell_type": "code",
   "execution_count": 91,
   "id": "936f15bd",
   "metadata": {},
   "outputs": [
    {
     "data": {
      "text/html": [
       "<div>\n",
       "<style scoped>\n",
       "    .dataframe tbody tr th:only-of-type {\n",
       "        vertical-align: middle;\n",
       "    }\n",
       "\n",
       "    .dataframe tbody tr th {\n",
       "        vertical-align: top;\n",
       "    }\n",
       "\n",
       "    .dataframe thead th {\n",
       "        text-align: right;\n",
       "    }\n",
       "</style>\n",
       "<table border=\"1\" class=\"dataframe\">\n",
       "  <thead>\n",
       "    <tr style=\"text-align: right;\">\n",
       "      <th></th>\n",
       "      <th>localTradedAt</th>\n",
       "      <th>closePrice</th>\n",
       "    </tr>\n",
       "  </thead>\n",
       "  <tbody>\n",
       "    <tr>\n",
       "      <th>0</th>\n",
       "      <td>2022-08-03</td>\n",
       "      <td>815.36</td>\n",
       "    </tr>\n",
       "    <tr>\n",
       "      <th>1</th>\n",
       "      <td>2022-08-02</td>\n",
       "      <td>804.34</td>\n",
       "    </tr>\n",
       "    <tr>\n",
       "      <th>2</th>\n",
       "      <td>2022-08-01</td>\n",
       "      <td>807.61</td>\n",
       "    </tr>\n",
       "    <tr>\n",
       "      <th>3</th>\n",
       "      <td>2022-07-29</td>\n",
       "      <td>803.62</td>\n",
       "    </tr>\n",
       "    <tr>\n",
       "      <th>4</th>\n",
       "      <td>2022-07-28</td>\n",
       "      <td>798.32</td>\n",
       "    </tr>\n",
       "  </tbody>\n",
       "</table>\n",
       "</div>"
      ],
      "text/plain": [
       "  localTradedAt closePrice\n",
       "0    2022-08-03     815.36\n",
       "1    2022-08-02     804.34\n",
       "2    2022-08-01     807.61\n",
       "3    2022-07-29     803.62\n",
       "4    2022-07-28     798.32"
      ]
     },
     "execution_count": 91,
     "metadata": {},
     "output_type": "execute_result"
    }
   ],
   "source": [
    "# 코스닥 데이터 웹크롤링\n",
    "def stock_kosdaq(pageSize, page):\n",
    "    \"\"\"This function is ~~~~~~\n",
    "    Params\n",
    "    ------\n",
    "    pageSize : int : one page size\n",
    "    page : int : page number\n",
    "    \n",
    "    Return\n",
    "    ------\n",
    "    type : DataFrame : [['display date', 'price']]\n",
    "    \"\"\"\n",
    "    url = f\"https://m.stock.naver.com/api/index/KOSDAQ/price?pageSize={pageSize}&page={page}\"\n",
    "    response = requests.get(url)\n",
    "    data = response.json()\n",
    "    return pd.DataFrame(data)[['localTradedAt', 'closePrice']]\n",
    "\n",
    "kosdaq_data = stock_kosdaq(60, 1)\n",
    "kosdaq_data.head()"
   ]
  },
  {
   "cell_type": "code",
   "execution_count": 92,
   "id": "63398f75",
   "metadata": {},
   "outputs": [
    {
     "data": {
      "text/html": [
       "<div>\n",
       "<style scoped>\n",
       "    .dataframe tbody tr th:only-of-type {\n",
       "        vertical-align: middle;\n",
       "    }\n",
       "\n",
       "    .dataframe tbody tr th {\n",
       "        vertical-align: top;\n",
       "    }\n",
       "\n",
       "    .dataframe thead th {\n",
       "        text-align: right;\n",
       "    }\n",
       "</style>\n",
       "<table border=\"1\" class=\"dataframe\">\n",
       "  <thead>\n",
       "    <tr style=\"text-align: right;\">\n",
       "      <th></th>\n",
       "      <th>localTradedAt</th>\n",
       "      <th>closePrice</th>\n",
       "    </tr>\n",
       "  </thead>\n",
       "  <tbody>\n",
       "    <tr>\n",
       "      <th>0</th>\n",
       "      <td>2022-08-03</td>\n",
       "      <td>1,313.00</td>\n",
       "    </tr>\n",
       "    <tr>\n",
       "      <th>1</th>\n",
       "      <td>2022-08-02</td>\n",
       "      <td>1,312.00</td>\n",
       "    </tr>\n",
       "    <tr>\n",
       "      <th>2</th>\n",
       "      <td>2022-08-01</td>\n",
       "      <td>1,305.00</td>\n",
       "    </tr>\n",
       "    <tr>\n",
       "      <th>3</th>\n",
       "      <td>2022-07-29</td>\n",
       "      <td>1,304.50</td>\n",
       "    </tr>\n",
       "    <tr>\n",
       "      <th>4</th>\n",
       "      <td>2022-07-28</td>\n",
       "      <td>1,302.00</td>\n",
       "    </tr>\n",
       "  </tbody>\n",
       "</table>\n",
       "</div>"
      ],
      "text/plain": [
       "  localTradedAt closePrice\n",
       "0    2022-08-03   1,313.00\n",
       "1    2022-08-02   1,312.00\n",
       "2    2022-08-01   1,305.00\n",
       "3    2022-07-29   1,304.50\n",
       "4    2022-07-28   1,302.00"
      ]
     },
     "execution_count": 92,
     "metadata": {},
     "output_type": "execute_result"
    }
   ],
   "source": [
    "# 원달러 환율 데이터 웹크롤링\n",
    "def closed_usd(pageSize, page):\n",
    "    \"\"\"This function is ~~~~~~\n",
    "    Params\n",
    "    ------\n",
    "    pageSize : int : one page size\n",
    "    page : int : page number\n",
    "    \n",
    "    Return\n",
    "    ------\n",
    "    type : DataFrame : [['display date', 'price']]\n",
    "    \"\"\"\n",
    "    url = f\"https://api.stock.naver.com/marketindex/exchange/FX_USDKRW/prices?page={page}&pageSize={pageSize}\"\n",
    "    response = requests.get(url)\n",
    "    data = response.json()\n",
    "    return pd.DataFrame(data)[['localTradedAt', 'closePrice']]\n",
    "\n",
    "usd_data = closed_usd(60, 1)\n",
    "usd_data.head()"
   ]
  },
  {
   "cell_type": "code",
   "execution_count": 93,
   "id": "886b9b11",
   "metadata": {},
   "outputs": [
    {
     "data": {
      "text/html": [
       "<div>\n",
       "<style scoped>\n",
       "    .dataframe tbody tr th:only-of-type {\n",
       "        vertical-align: middle;\n",
       "    }\n",
       "\n",
       "    .dataframe tbody tr th {\n",
       "        vertical-align: top;\n",
       "    }\n",
       "\n",
       "    .dataframe thead th {\n",
       "        text-align: right;\n",
       "    }\n",
       "</style>\n",
       "<table border=\"1\" class=\"dataframe\">\n",
       "  <thead>\n",
       "    <tr style=\"text-align: right;\">\n",
       "      <th></th>\n",
       "      <th>Date</th>\n",
       "      <th>Kospi</th>\n",
       "      <th>Kosdaq</th>\n",
       "      <th>USD</th>\n",
       "    </tr>\n",
       "  </thead>\n",
       "  <tbody>\n",
       "    <tr>\n",
       "      <th>0</th>\n",
       "      <td>2022-08-03</td>\n",
       "      <td>2,461.45</td>\n",
       "      <td>815.36</td>\n",
       "      <td>1,313.00</td>\n",
       "    </tr>\n",
       "    <tr>\n",
       "      <th>1</th>\n",
       "      <td>2022-08-02</td>\n",
       "      <td>2,439.62</td>\n",
       "      <td>804.34</td>\n",
       "      <td>1,312.00</td>\n",
       "    </tr>\n",
       "    <tr>\n",
       "      <th>2</th>\n",
       "      <td>2022-08-01</td>\n",
       "      <td>2,452.25</td>\n",
       "      <td>807.61</td>\n",
       "      <td>1,305.00</td>\n",
       "    </tr>\n",
       "    <tr>\n",
       "      <th>3</th>\n",
       "      <td>2022-07-29</td>\n",
       "      <td>2,451.50</td>\n",
       "      <td>803.62</td>\n",
       "      <td>1,304.50</td>\n",
       "    </tr>\n",
       "    <tr>\n",
       "      <th>4</th>\n",
       "      <td>2022-07-28</td>\n",
       "      <td>2,435.27</td>\n",
       "      <td>798.32</td>\n",
       "      <td>1,302.00</td>\n",
       "    </tr>\n",
       "  </tbody>\n",
       "</table>\n",
       "</div>"
      ],
      "text/plain": [
       "         Date     Kospi  Kosdaq       USD\n",
       "0  2022-08-03  2,461.45  815.36  1,313.00\n",
       "1  2022-08-02  2,439.62  804.34  1,312.00\n",
       "2  2022-08-01  2,452.25  807.61  1,305.00\n",
       "3  2022-07-29  2,451.50  803.62  1,304.50\n",
       "4  2022-07-28  2,435.27  798.32  1,302.00"
      ]
     },
     "execution_count": 93,
     "metadata": {},
     "output_type": "execute_result"
    }
   ],
   "source": [
    "# 상관관계 분석하기\n",
    "# 데이터 전처리\n",
    "\n",
    "# 데이터프레임 열 추가\n",
    "df = kospi_data.copy()\n",
    "df['kosdaq_data'] = kosdaq_data['closePrice']\n",
    "df['usd_data'] = usd_data['closePrice']\n",
    "\n",
    "# 데이터프레임 열 이름 변경\n",
    "df = df.rename(columns = {'localTradedAt' : 'Date',\n",
    "                           'closePrice' : 'Kospi',\n",
    "                           'kosdaq_data' : 'Kosdaq',\n",
    "                           'usd_data' : 'USD'})\n",
    "df.head()"
   ]
  },
  {
   "cell_type": "code",
   "execution_count": 94,
   "id": "d016f693",
   "metadata": {},
   "outputs": [
    {
     "data": {
      "text/plain": [
       "Date      object\n",
       "Kospi     object\n",
       "Kosdaq    object\n",
       "USD       object\n",
       "dtype: object"
      ]
     },
     "execution_count": 94,
     "metadata": {},
     "output_type": "execute_result"
    }
   ],
   "source": [
    "# 데이터 타입 확인\n",
    "df.dtypes"
   ]
  },
  {
   "cell_type": "code",
   "execution_count": 95,
   "id": "877d55b6",
   "metadata": {},
   "outputs": [],
   "source": [
    "# 데이터 타입이 object 이므로 float로 변경\n",
    "df['Kospi'] = df['Kospi'].apply(lambda data : float(data.replace(\",\", \"\")))\n",
    "df['Kosdaq'] = df['Kosdaq'].apply(lambda data : float(data.replace(\",\", \"\")))\n",
    "df['USD'] = df['USD'].apply(lambda data : float(data.replace(\",\", \"\")))"
   ]
  },
  {
   "cell_type": "code",
   "execution_count": 96,
   "id": "127d3420",
   "metadata": {},
   "outputs": [
    {
     "data": {
      "text/html": [
       "<div>\n",
       "<style scoped>\n",
       "    .dataframe tbody tr th:only-of-type {\n",
       "        vertical-align: middle;\n",
       "    }\n",
       "\n",
       "    .dataframe tbody tr th {\n",
       "        vertical-align: top;\n",
       "    }\n",
       "\n",
       "    .dataframe thead th {\n",
       "        text-align: right;\n",
       "    }\n",
       "</style>\n",
       "<table border=\"1\" class=\"dataframe\">\n",
       "  <thead>\n",
       "    <tr style=\"text-align: right;\">\n",
       "      <th></th>\n",
       "      <th>Kospi</th>\n",
       "      <th>Kosdaq</th>\n",
       "      <th>USD</th>\n",
       "    </tr>\n",
       "  </thead>\n",
       "  <tbody>\n",
       "    <tr>\n",
       "      <th>Kospi</th>\n",
       "      <td>1.000000</td>\n",
       "      <td>0.984076</td>\n",
       "      <td>-0.875630</td>\n",
       "    </tr>\n",
       "    <tr>\n",
       "      <th>Kosdaq</th>\n",
       "      <td>0.984076</td>\n",
       "      <td>1.000000</td>\n",
       "      <td>-0.818343</td>\n",
       "    </tr>\n",
       "    <tr>\n",
       "      <th>USD</th>\n",
       "      <td>-0.875630</td>\n",
       "      <td>-0.818343</td>\n",
       "      <td>1.000000</td>\n",
       "    </tr>\n",
       "  </tbody>\n",
       "</table>\n",
       "</div>"
      ],
      "text/plain": [
       "           Kospi    Kosdaq       USD\n",
       "Kospi   1.000000  0.984076 -0.875630\n",
       "Kosdaq  0.984076  1.000000 -0.818343\n",
       "USD    -0.875630 -0.818343  1.000000"
      ]
     },
     "execution_count": 96,
     "metadata": {},
     "output_type": "execute_result"
    }
   ],
   "source": [
    "# 데이터 상관관계 확인 .corr()\n",
    "# 1과 가까우면 강한 양의 상관관계\n",
    "# -1과 가까우면 강한 음의 상관관계\n",
    "df[['Kospi', 'Kosdaq', 'USD']].corr()"
   ]
  },
  {
   "cell_type": "markdown",
   "id": "74fd7b55",
   "metadata": {},
   "source": [
    "# API"
   ]
  },
  {
   "cell_type": "code",
   "execution_count": 97,
   "id": "33051117",
   "metadata": {},
   "outputs": [],
   "source": [
    "# 라이브러리 실행\n",
    "import pandas as pd\n",
    "import requests, json"
   ]
  },
  {
   "cell_type": "code",
   "execution_count": 98,
   "id": "f0ac80d8",
   "metadata": {},
   "outputs": [],
   "source": [
    "# Naver Papago App_key 발급 받기\n",
    "CLIENT_ID, CLIENT_SECRET = 'fR1zInZGoRrZCRHSQwPc', 'K_B9IV2njf'"
   ]
  },
  {
   "cell_type": "code",
   "execution_count": 99,
   "id": "28215bd1",
   "metadata": {},
   "outputs": [],
   "source": [
    "# Naver API\n",
    "txt = \"웹크롤링 수업 복습중입니다.\"\n",
    "url = \"https://openapi.naver.com/v1/papago/n2mt\"\n",
    "params = {\"source\": \"ko\", \"target\": \"en\", \"text\": txt}\n",
    "headers = {\n",
    "    \"Content-Type\": \"application/json\",\n",
    "    \"X-Naver-Client-Id\": CLIENT_ID,\n",
    "    \"X-Naver-Client-Secret\": CLIENT_SECRET,\n",
    "}"
   ]
  },
  {
   "cell_type": "code",
   "execution_count": 100,
   "id": "2466709e",
   "metadata": {},
   "outputs": [
    {
     "data": {
      "text/plain": [
       "<Response [200]>"
      ]
     },
     "execution_count": 100,
     "metadata": {},
     "output_type": "execute_result"
    }
   ],
   "source": [
    "# 데이터 번호 확인\n",
    "response = requests.post(url, json.dumps(params), headers = headers)\n",
    "response"
   ]
  },
  {
   "cell_type": "code",
   "execution_count": 101,
   "id": "b222077d",
   "metadata": {},
   "outputs": [
    {
     "data": {
      "text/plain": [
       "\"I'm reviewing the web crawl class.\""
      ]
     },
     "execution_count": 101,
     "metadata": {},
     "output_type": "execute_result"
    }
   ],
   "source": [
    "# requests,json 활용하여 JSON(str) >> list, dict 로 변경 >> DataFrame 화\n",
    "txt_en = response.json()[\"message\"][\"result\"][\"translatedText\"]\n",
    "txt_en"
   ]
  },
  {
   "cell_type": "code",
   "execution_count": 102,
   "id": "0960534f",
   "metadata": {},
   "outputs": [],
   "source": [
    "def translate(txt):\n",
    "    CLIENT_ID, CLIENT_SECRET = \"fR1zInZGoRrZCRHSQwPc\", \"K_B9IV2njf\"\n",
    "    url = \"https://openapi.naver.com/v1/papago/n2mt\"\n",
    "    params = {\"source\": \"ko\", \"target\": \"en\", \"text\": txt}\n",
    "    headers = {\n",
    "    \"Content-Type\": \"application/json\",\n",
    "    \"X-Naver-Client-Id\": CLIENT_ID,\n",
    "    \"X-Naver-Client-Secret\": CLIENT_SECRET,\n",
    "}\n",
    "    response = requests.post(url, json.dumps(params), headers = headers)\n",
    "    txt_en = response.json()[\"message\"][\"result\"][\"translatedText\"]    \n",
    "    return txt_en"
   ]
  },
  {
   "cell_type": "code",
   "execution_count": 103,
   "id": "2d6ed462",
   "metadata": {},
   "outputs": [
    {
     "name": "stdout",
     "output_type": "stream",
     "text": [
      " C 드라이브의 볼륨에는 이름이 없습니다.\n",
      " 볼륨 일련 번호: 7C6C-FC35\n",
      "\n",
      " C:\\Users\\User\\Python practice 디렉터리\n",
      "\n",
      "2022-08-03  오후 11:53    <DIR>          .\n",
      "2022-08-03  오후 11:53    <DIR>          ..\n",
      "2022-08-03  오후 10:59    <DIR>          .ipynb_checkpoints\n",
      "2022-07-29  오후 08:14            23,999 220728_pythonpractice.ipynb\n",
      "2022-08-01  오전 10:12            23,096 220729_pythonpractice.ipynb\n",
      "2022-08-02  오후 08:51             6,123 220801_pythonpractice_review.ipynb\n",
      "2022-08-02  오후 11:44           123,961 220802_pythonpractice_matplotlib.ipynb\n",
      "2022-08-02  오후 10:06            12,721 220802_pythonpractice_numpy.ipynb\n",
      "2022-08-02  오후 11:37           153,014 220802_pythonpractice_pandas.ipynb\n",
      "2022-08-03  오후 11:52            21,637 220803_pythonpractice_webcrawling.ipynb\n",
      "2022-08-03  오후 10:54            10,060 covid.xlsx\n",
      "2022-08-03  오후 11:53             6,132 covid_en.xlsx\n",
      "               9개 파일             380,743 바이트\n",
      "               3개 디렉터리  135,097,561,088 바이트 남음\n"
     ]
    }
   ],
   "source": [
    "# path에 존재하는 파일 이름 보여주는 명령어\n",
    "# 주피터 노트북에서만 가능!\n",
    "%ls"
   ]
  },
  {
   "cell_type": "code",
   "execution_count": 104,
   "id": "23327330",
   "metadata": {},
   "outputs": [
    {
     "data": {
      "text/html": [
       "<div>\n",
       "<style scoped>\n",
       "    .dataframe tbody tr th:only-of-type {\n",
       "        vertical-align: middle;\n",
       "    }\n",
       "\n",
       "    .dataframe tbody tr th {\n",
       "        vertical-align: top;\n",
       "    }\n",
       "\n",
       "    .dataframe thead th {\n",
       "        text-align: right;\n",
       "    }\n",
       "</style>\n",
       "<table border=\"1\" class=\"dataframe\">\n",
       "  <thead>\n",
       "    <tr style=\"text-align: right;\">\n",
       "      <th></th>\n",
       "      <th>category</th>\n",
       "      <th>title</th>\n",
       "    </tr>\n",
       "  </thead>\n",
       "  <tbody>\n",
       "    <tr>\n",
       "      <th>4</th>\n",
       "      <td>104</td>\n",
       "      <td>\"코로나 확진자 '0명'인 날은 절대 오지 않는다\" 美전문가</td>\n",
       "    </tr>\n",
       "    <tr>\n",
       "      <th>5</th>\n",
       "      <td>104</td>\n",
       "      <td>올림픽 다가오는데 도쿄 코로나 확산 빨라져...일주일새 25％↑</td>\n",
       "    </tr>\n",
       "  </tbody>\n",
       "</table>\n",
       "</div>"
      ],
      "text/plain": [
       "   category                                title\n",
       "4       104    \"코로나 확진자 '0명'인 날은 절대 오지 않는다\" 美전문가\n",
       "5       104  올림픽 다가오는데 도쿄 코로나 확산 빨라져...일주일새 25％↑"
      ]
     },
     "execution_count": 104,
     "metadata": {},
     "output_type": "execute_result"
    }
   ],
   "source": [
    "# 파일 번역하기\n",
    "covid = pd.read_excel(\"covid.xlsx\")[['category', 'title']]\n",
    "covid.tail(2)"
   ]
  },
  {
   "cell_type": "code",
   "execution_count": 105,
   "id": "d063b111",
   "metadata": {},
   "outputs": [],
   "source": [
    "covid_en = covid['title'].apply(translate)"
   ]
  },
  {
   "cell_type": "code",
   "execution_count": 106,
   "id": "a6c84cef",
   "metadata": {},
   "outputs": [
    {
     "data": {
      "text/html": [
       "<div>\n",
       "<style scoped>\n",
       "    .dataframe tbody tr th:only-of-type {\n",
       "        vertical-align: middle;\n",
       "    }\n",
       "\n",
       "    .dataframe tbody tr th {\n",
       "        vertical-align: top;\n",
       "    }\n",
       "\n",
       "    .dataframe thead th {\n",
       "        text-align: right;\n",
       "    }\n",
       "</style>\n",
       "<table border=\"1\" class=\"dataframe\">\n",
       "  <thead>\n",
       "    <tr style=\"text-align: right;\">\n",
       "      <th></th>\n",
       "      <th>category</th>\n",
       "      <th>title</th>\n",
       "      <th>title_en</th>\n",
       "    </tr>\n",
       "  </thead>\n",
       "  <tbody>\n",
       "    <tr>\n",
       "      <th>0</th>\n",
       "      <td>101</td>\n",
       "      <td>SK바이오사이언스, 코로나19 백신 임상 3상 시험계획 제출</td>\n",
       "      <td>SK Bioscience Submits Phase III Clinical Trial...</td>\n",
       "    </tr>\n",
       "    <tr>\n",
       "      <th>1</th>\n",
       "      <td>102</td>\n",
       "      <td>고양시 노래연습장 코로나19 누적확진 41명</td>\n",
       "      <td>41 cumulative COVID-19 confirmed patients at G...</td>\n",
       "    </tr>\n",
       "    <tr>\n",
       "      <th>2</th>\n",
       "      <td>103</td>\n",
       "      <td>코로나19 신규 감염, 28일 오후 9시까지 542명</td>\n",
       "      <td>New COVID-19 infections, 542 people by 9 p.m. ...</td>\n",
       "    </tr>\n",
       "    <tr>\n",
       "      <th>3</th>\n",
       "      <td>103</td>\n",
       "      <td>프로야구 수도권 구단서 코로나19 확진자 발생</td>\n",
       "      <td>Covid-19 confirmed cases in professional baseb...</td>\n",
       "    </tr>\n",
       "    <tr>\n",
       "      <th>4</th>\n",
       "      <td>104</td>\n",
       "      <td>\"코로나 확진자 '0명'인 날은 절대 오지 않는다\" 美전문가</td>\n",
       "      <td>\"The day when there are zero confirmed cases o...</td>\n",
       "    </tr>\n",
       "    <tr>\n",
       "      <th>5</th>\n",
       "      <td>104</td>\n",
       "      <td>올림픽 다가오는데 도쿄 코로나 확산 빨라져...일주일새 25％↑</td>\n",
       "      <td>As the Olympics are approaching, the spread of...</td>\n",
       "    </tr>\n",
       "  </tbody>\n",
       "</table>\n",
       "</div>"
      ],
      "text/plain": [
       "   category                                title  \\\n",
       "0       101    SK바이오사이언스, 코로나19 백신 임상 3상 시험계획 제출   \n",
       "1       102             고양시 노래연습장 코로나19 누적확진 41명   \n",
       "2       103        코로나19 신규 감염, 28일 오후 9시까지 542명   \n",
       "3       103            프로야구 수도권 구단서 코로나19 확진자 발생   \n",
       "4       104    \"코로나 확진자 '0명'인 날은 절대 오지 않는다\" 美전문가   \n",
       "5       104  올림픽 다가오는데 도쿄 코로나 확산 빨라져...일주일새 25％↑   \n",
       "\n",
       "                                            title_en  \n",
       "0  SK Bioscience Submits Phase III Clinical Trial...  \n",
       "1  41 cumulative COVID-19 confirmed patients at G...  \n",
       "2  New COVID-19 infections, 542 people by 9 p.m. ...  \n",
       "3  Covid-19 confirmed cases in professional baseb...  \n",
       "4  \"The day when there are zero confirmed cases o...  \n",
       "5  As the Olympics are approaching, the spread of...  "
      ]
     },
     "execution_count": 106,
     "metadata": {},
     "output_type": "execute_result"
    }
   ],
   "source": [
    "covid[\"title_en\"] = covid_en\n",
    "covid"
   ]
  },
  {
   "cell_type": "code",
   "execution_count": 107,
   "id": "2bbce31e",
   "metadata": {},
   "outputs": [],
   "source": [
    "covid.to_excel(\"covid_en.xlsx\", index = False, encoding = \"utf-8-sig\")"
   ]
  },
  {
   "cell_type": "code",
   "execution_count": 108,
   "id": "6d7d43a5",
   "metadata": {},
   "outputs": [
    {
     "name": "stdout",
     "output_type": "stream",
     "text": [
      " C 드라이브의 볼륨에는 이름이 없습니다.\n",
      " 볼륨 일련 번호: 7C6C-FC35\n",
      "\n",
      " C:\\Users\\User\\Python practice 디렉터리\n",
      "\n",
      "2022-08-03  오후 11:53    <DIR>          .\n",
      "2022-08-03  오후 11:53    <DIR>          ..\n",
      "2022-08-03  오후 10:59    <DIR>          .ipynb_checkpoints\n",
      "2022-07-29  오후 08:14            23,999 220728_pythonpractice.ipynb\n",
      "2022-08-01  오전 10:12            23,096 220729_pythonpractice.ipynb\n",
      "2022-08-02  오후 08:51             6,123 220801_pythonpractice_review.ipynb\n",
      "2022-08-02  오후 11:44           123,961 220802_pythonpractice_matplotlib.ipynb\n",
      "2022-08-02  오후 10:06            12,721 220802_pythonpractice_numpy.ipynb\n",
      "2022-08-02  오후 11:37           153,014 220802_pythonpractice_pandas.ipynb\n",
      "2022-08-03  오후 11:52            21,637 220803_pythonpractice_webcrawling.ipynb\n",
      "2022-08-03  오후 10:54            10,060 covid.xlsx\n",
      "2022-08-03  오후 11:54             6,132 covid_en.xlsx\n",
      "               9개 파일             380,743 바이트\n",
      "               3개 디렉터리  135,097,495,552 바이트 남음\n"
     ]
    }
   ],
   "source": [
    "%ls"
   ]
  }
 ],
 "metadata": {
  "kernelspec": {
   "display_name": "Python 3",
   "language": "python",
   "name": "python3"
  },
  "language_info": {
   "codemirror_mode": {
    "name": "ipython",
    "version": 3
   },
   "file_extension": ".py",
   "mimetype": "text/x-python",
   "name": "python",
   "nbconvert_exporter": "python",
   "pygments_lexer": "ipython3",
   "version": "3.8.8"
  }
 },
 "nbformat": 4,
 "nbformat_minor": 5
}
