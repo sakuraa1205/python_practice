{
 "cells": [
  {
   "cell_type": "markdown",
   "id": "89cc1d58",
   "metadata": {},
   "source": [
    "# 리스트 원소의 최댓값 구하기 1"
   ]
  },
  {
   "cell_type": "code",
   "execution_count": 7,
   "id": "27012d9b",
   "metadata": {},
   "outputs": [
    {
     "name": "stdout",
     "output_type": "stream",
     "text": [
      "3\n",
      "4\n"
     ]
    }
   ],
   "source": [
    "a = [1, 2, 3]\n",
    "maximum = a[0]\n",
    "\n",
    "if a[1] > maximum:\n",
    "    maximum = a[1]\n",
    "if a[2] > maximum:\n",
    "    maximum = a[2]\n",
    "\n",
    "print(maximum)\n",
    "\n",
    "a = [1, 2, 3, 4]\n",
    "maximum = a[0]\n",
    "\n",
    "if a[1] > maximum:\n",
    "    maximum = a[1]\n",
    "if a[2] > maximum:\n",
    "    maximum = a[2]\n",
    "if a[3] > maximum:\n",
    "    maximum = a[3]\n",
    "\n",
    "print(maximum)"
   ]
  },
  {
   "cell_type": "markdown",
   "id": "103206e2",
   "metadata": {},
   "source": [
    "# 리스트 원소의 최댓값 구하기 2"
   ]
  },
  {
   "cell_type": "code",
   "execution_count": 12,
   "id": "6c8e7666",
   "metadata": {},
   "outputs": [
    {
     "name": "stdout",
     "output_type": "stream",
     "text": [
      "18569\n",
      "r\n",
      "Seoul\n"
     ]
    }
   ],
   "source": [
    "def maximum(a):\n",
    "    maximum = a[0]\n",
    "    for i in range(1, len(a)):\n",
    "        if a[i] > maximum:\n",
    "            maximum = a[i]\n",
    "    return maximum\n",
    "\n",
    "t = [4, 105, 9, 7, 6, 15213, 18569, 13]\n",
    "s = 'ironman'\n",
    "c = ['Seoul', 'Daejeon', 'Daegu', 'Busan']\n",
    "\n",
    "print(maximum(t))\n",
    "print(maximum(s))\n",
    "print(maximum(c))"
   ]
  },
  {
   "cell_type": "markdown",
   "id": "5368752b",
   "metadata": {},
   "source": [
    "# 리스트와 튜플의 차이"
   ]
  },
  {
   "cell_type": "code",
   "execution_count": 19,
   "id": "b10f0c8a",
   "metadata": {},
   "outputs": [
    {
     "name": "stdout",
     "output_type": "stream",
     "text": [
      "<class 'list'>\n",
      "<class 'tuple'>\n",
      "[3, 2, 3]\n",
      "(1, 2, 3)\n"
     ]
    }
   ],
   "source": [
    "#     리스트      /       튜플\n",
    "#       []        /        ()\n",
    "#    수정가능     /      수정불가\n",
    "\n",
    "# Ex 1\n",
    "a = [1, 2, 3]\n",
    "print(type(a))\n",
    "\n",
    "b = (1, 2, 3)\n",
    "print(type(b))\n",
    "\n",
    "a[0] = 3\n",
    "# b[0] = 3  <- 에러 남\n",
    "\n",
    "print(a)\n",
    "print(b)"
   ]
  },
  {
   "cell_type": "markdown",
   "id": "044c90d1",
   "metadata": {},
   "source": [
    "# 리스트에서 최소값 구하기"
   ]
  },
  {
   "cell_type": "code",
   "execution_count": 21,
   "id": "c8b0f8ec",
   "metadata": {},
   "outputs": [
    {
     "name": "stdout",
     "output_type": "stream",
     "text": [
      "4\n",
      "a\n",
      "Busan\n"
     ]
    }
   ],
   "source": [
    "def minimum(a):\n",
    "    minimum = a[0]\n",
    "    for i in range(len(a)):\n",
    "        if a[i] < minimum:\n",
    "            minimum = a[i]\n",
    "    return minimum\n",
    "\n",
    "t = [4, 105, 9, 7, 6, 15213, 18569, 13]\n",
    "s = 'ironman'\n",
    "c = ['Seoul', 'Daejeon', 'Daegu', 'Busan']\n",
    "\n",
    "print(minimum(t))\n",
    "print(minimum(s))\n",
    "print(minimum(c))"
   ]
  },
  {
   "cell_type": "markdown",
   "id": "998bb099",
   "metadata": {},
   "source": [
    "# 사용자가 입력한 리스트에서 최대값 구하기 1"
   ]
  },
  {
   "cell_type": "code",
   "execution_count": 7,
   "id": "1237aafd",
   "metadata": {},
   "outputs": [
    {
     "name": "stdout",
     "output_type": "stream",
     "text": [
      "리스트의 최대값을 구합니다!\n",
      "원소의 갯수를 입력하세요!5\n",
      "x[0] 값을 입력하세요! :49648\n",
      "x[1] 값을 입력하세요! :543\n",
      "x[2] 값을 입력하세요! :189198\n",
      "x[3] 값을 입력하세요! :416438\n",
      "x[4] 값을 입력하세요! :458748\n",
      "최대값은 458748 입니다!\n"
     ]
    }
   ],
   "source": [
    "def maximum(a):\n",
    "    maximum = a[0]\n",
    "    for i in range(1, len(a)):\n",
    "        if a[i] > maximum:\n",
    "            maximum = a[i]\n",
    "    return maximum\n",
    "\n",
    "print('리스트의 최대값을 구합니다!')\n",
    "n = int(input('원소의 갯수를 입력하세요! :'))\n",
    "\n",
    "x = [None]*n\n",
    "\n",
    "for i in range(n):\n",
    "    x[i] = int(input(f'x[{i}] 값을 입력하세요! :'))\n",
    "\n",
    "print(f'최대값은 {maximum(x)} 입니다!')\n",
    "    "
   ]
  },
  {
   "cell_type": "markdown",
   "id": "204f3fcd",
   "metadata": {},
   "source": [
    "# 사용자가 입력한 리스트에서 최대값 구하기 2"
   ]
  },
  {
   "cell_type": "code",
   "execution_count": 8,
   "id": "20f1c8bd",
   "metadata": {},
   "outputs": [
    {
     "name": "stdout",
     "output_type": "stream",
     "text": [
      "리스트의 최대값을 구합니다!\n",
      "주의! x를 기입하면 종료됩니다.\n",
      "a[0] 원소를 기입해주세요! :1513\n",
      "a[1] 원소를 기입해주세요! :15\n",
      "a[2] 원소를 기입해주세요! :1\n",
      "a[3] 원소를 기입해주세요! :x\n",
      "입력한 원소 중 최대값은 1513 입니다!\n"
     ]
    }
   ],
   "source": [
    "def maximum(a):\n",
    "    maximum = a[0]\n",
    "    for i in range(len(a)):\n",
    "        if a[i] > maximum:\n",
    "            maximum = a[i]\n",
    "    return maximum\n",
    "\n",
    "print('리스트의 최대값을 구합니다!')\n",
    "print('주의! x를 기입하면 종료됩니다.')\n",
    "\n",
    "i = 0\n",
    "a = []\n",
    "\n",
    "while True:\n",
    "    s = input(f'a[{i}] 원소를 기입해주세요! :')\n",
    "    if s == 'x':\n",
    "        break\n",
    "    a.append(int(s))\n",
    "    i += 1\n",
    "\n",
    "print(f'입력한 원소 중 최대값은 {maximum(a)} 입니다!')"
   ]
  },
  {
   "cell_type": "markdown",
   "id": "1d428590",
   "metadata": {},
   "source": [
    "# 리스트의 모든 원소를 스캔하기"
   ]
  },
  {
   "cell_type": "code",
   "execution_count": 10,
   "id": "35964638",
   "metadata": {},
   "outputs": [
    {
     "name": "stdout",
     "output_type": "stream",
     "text": [
      "x[0] = Moscow\n",
      "x[1] = Berlin\n",
      "x[2] = Dokyo\n",
      "x[3] = Rio\n",
      "x[0] = Moscow\n",
      "x[1] = Berlin\n",
      "x[2] = Dokyo\n",
      "x[3] = Rio\n",
      "Moscow\n",
      "Berlin\n",
      "Dokyo\n",
      "Rio\n"
     ]
    }
   ],
   "source": [
    "# 리스트의 모든 원소를 스캔하기\n",
    "x = ['Moscow', 'Berlin', 'Dokyo', 'Rio']\n",
    "\n",
    "# 원소 수 파악\n",
    "for i in range(len(x)):\n",
    "    print(f'x[{i}] = {x[i]}')\n",
    "\n",
    "# Enumerate 함수 사용 : 인덱스와 원소를 짝지어서 튜플로 꺼내는 내장 함수\n",
    "for i, name in enumerate(x):\n",
    "    print(f'x[{i}] = {name}')\n",
    "\n",
    "# 인덱스 값을 사용하지 않음\n",
    "for i in x:\n",
    "    print(i)"
   ]
  },
  {
   "cell_type": "markdown",
   "id": "49390615",
   "metadata": {},
   "source": [
    "# 원소를 역순으로 정렬하기"
   ]
  },
  {
   "cell_type": "code",
   "execution_count": 14,
   "id": "226cccfe",
   "metadata": {},
   "outputs": [
    {
     "name": "stdout",
     "output_type": "stream",
     "text": [
      "입력한 원소를 역순으로 정리합니다!\n",
      "주의! x를 누르면 종료됩니다.\n",
      "a[0]의 원소를 입력하세요!354543\n",
      "a[1]의 원소를 입력하세요!46848\n",
      "a[2]의 원소를 입력하세요!165\n",
      "a[3]의 원소를 입력하세요!x\n",
      "[165, 46848, 354543]\n"
     ]
    }
   ],
   "source": [
    "print('입력한 원소를 역순으로 정리합니다!')\n",
    "print('주의! x를 누르면 종료됩니다.')\n",
    "\n",
    "i = 0\n",
    "a = []\n",
    "\n",
    "while True:\n",
    "    s = input(f'a[{i}]의 원소를 입력하세요!')\n",
    "    if s == 'x':\n",
    "        break\n",
    "    a.append(int(s))\n",
    "    i += 1\n",
    "\n",
    "def reverse(a):\n",
    "    n = len(a)\n",
    "    for i in range(n // 2):\n",
    "        a[i], a[n - i - 1] = a[n - i - 1], a[i]\n",
    "\n",
    "reverse(a)\n",
    "print(a)"
   ]
  },
  {
   "cell_type": "markdown",
   "id": "6527278f",
   "metadata": {},
   "source": [
    "# 선형 검색 알고리즘 _ while 문"
   ]
  },
  {
   "cell_type": "code",
   "execution_count": 19,
   "id": "1a697a86",
   "metadata": {},
   "outputs": [
    {
     "name": "stdout",
     "output_type": "stream",
     "text": [
      "입력한 원소의 존재 여부를 검색합니다.\n",
      "a[0] 의 원소를 입력하세요! : 13\n",
      "a[1] 의 원소를 입력하세요! : 2\n",
      "a[2] 의 원소를 입력하세요! : 5\n",
      "a[3] 의 원소를 입력하세요! : x\n",
      "검색값을 입력하세요! : 5\n",
      "검색값은 a[2]에 있습니다.\n"
     ]
    }
   ],
   "source": [
    "print('입력한 원소의 존재 여부를 검색합니다.')\n",
    "\n",
    "i = 0\n",
    "a = []\n",
    "\n",
    "while True:\n",
    "    s = input(f'a[{i}] 의 원소를 입력하세요! : ')\n",
    "    if s == 'x':\n",
    "        break\n",
    "    a.append(int(s))\n",
    "    i += 1\n",
    "\n",
    "def search_while(a, key):\n",
    "    i = 0\n",
    "    while True:\n",
    "        if i == len(a):\n",
    "            return -1\n",
    "        if a[i] == key:\n",
    "            return i\n",
    "        i += 1\n",
    "\n",
    "n = int(input('검색값을 입력하세요! : '))\n",
    "index = search_while(a, n)\n",
    "\n",
    "if index == -1:\n",
    "    print('검색값이 존재하지 않습니다!')\n",
    "else:\n",
    "    print(f'검색값은 a[{index}]에 있습니다.')\n"
   ]
  },
  {
   "cell_type": "markdown",
   "id": "ead4cda5",
   "metadata": {},
   "source": [
    "# 선형 검색 알고리즘 _ for 문"
   ]
  },
  {
   "cell_type": "code",
   "execution_count": 2,
   "id": "fd92a972",
   "metadata": {},
   "outputs": [
    {
     "name": "stdout",
     "output_type": "stream",
     "text": [
      "입력한 원소의 존재 여부를 검색합니다!\n",
      "x를 기입하면 종료됩니다.\n",
      "a[0] 원소를 입력하세요! : 1\n",
      "a[1] 원소를 입력하세요! : 2\n",
      "a[2] 원소를 입력하세요! : 3\n",
      "a[3] 원소를 입력하세요! : x\n",
      "검색할 원소를 기입하세요! : 5\n",
      "검색한 원소가 없습니다!\n"
     ]
    }
   ],
   "source": [
    "print('입력한 원소의 존재 여부를 검색합니다!')\n",
    "print('x를 기입하면 종료됩니다.')\n",
    "\n",
    "i = 0\n",
    "a = []\n",
    "\n",
    "while True:\n",
    "    s = input(f'a[{i}] 원소를 입력하세요! : ')\n",
    "    if s == 'x':\n",
    "        break\n",
    "    a.append(int(s))\n",
    "    i += 1\n",
    "\n",
    "def search_for(a, key):\n",
    "    i = 0\n",
    "    for i in range(1, len(a)):\n",
    "        if a[i] == key:\n",
    "            return i\n",
    "    return 1\n",
    "\n",
    "n = int(input('검색할 원소를 기입하세요! : '))\n",
    "index = search_for(a, n)\n",
    "\n",
    "if index == 1:\n",
    "    print(f'검색한 원소가 없습니다!')\n",
    "else:\n",
    "    print(f'검색한 원소는 a[{index}]에 있습니다!')"
   ]
  },
  {
   "cell_type": "markdown",
   "id": "203d5e95",
   "metadata": {},
   "source": [
    "# 선형 검색 알고리즘 _ 보초법 (sentinel)"
   ]
  },
  {
   "cell_type": "code",
   "execution_count": 13,
   "id": "4725cc49",
   "metadata": {},
   "outputs": [
    {
     "name": "stdout",
     "output_type": "stream",
     "text": [
      "입력한 원소의 존재 여부를 검색합니다!\n",
      "x를 기입하면 종료됩니다.\n",
      "a[0] 원소를 기입하세요! : 1\n",
      "a[1] 원소를 기입하세요! : 2\n",
      "a[2] 원소를 기입하세요! : 3\n",
      "a[3] 원소를 기입하세요! : 4\n",
      "a[4] 원소를 기입하세요! : 5\n",
      "a[5] 원소를 기입하세요! : 3\n",
      "a[6] 원소를 기입하세요! : x\n",
      "검색값을 입력하세요! : 5\n",
      "검색값은 a[4]에 있습니다!\n"
     ]
    }
   ],
   "source": [
    "print('입력한 원소의 존재 여부를 검색합니다!')\n",
    "print('x를 기입하면 종료됩니다.')\n",
    "\n",
    "i = 0\n",
    "a = []\n",
    "\n",
    "while True:\n",
    "    s = input(f'a[{i}] 원소를 기입하세요! : ')\n",
    "    if s == 'x':\n",
    "        break\n",
    "    a.append(int(s))\n",
    "    i += 1\n",
    "\n",
    "def search_sentinel(b, key):\n",
    "    a = b.copy()\n",
    "    a.append(key)\n",
    "    \n",
    "    i = 0\n",
    "    while True:\n",
    "        if a[i] == key:\n",
    "            break\n",
    "        i += 1\n",
    "    return -1 if i == len(b) else i\n",
    "\n",
    "n = int(input('검색값을 입력하세요! : '))\n",
    "index = search_sentinel(a, n)\n",
    "\n",
    "if index == -1:\n",
    "    print('검색값이 존재하지 않습니다!')\n",
    "else:\n",
    "    print(f'검색값은 a[{index}]에 있습니다!')"
   ]
  },
  {
   "cell_type": "markdown",
   "id": "4d2c1aa9",
   "metadata": {},
   "source": [
    "# while 문과 보초법의 if 조건문 실행 횟수 비교하기"
   ]
  },
  {
   "cell_type": "code",
   "execution_count": 2,
   "id": "99ad1552",
   "metadata": {},
   "outputs": [
    {
     "name": "stdout",
     "output_type": "stream",
     "text": [
      "입력한 원소의 존재 여부를 검색합니다!\n",
      "x를 기입하면 종료됩니다.\n",
      "a[{i}] 원소를 입력하세요! : 1\n",
      "a[{i}] 원소를 입력하세요! : 2\n",
      "a[{i}] 원소를 입력하세요! : 3\n",
      "a[{i}] 원소를 입력하세요! : 4\n",
      "a[{i}] 원소를 입력하세요! : 5\n",
      "a[{i}] 원소를 입력하세요! : 6\n",
      "a[{i}] 원소를 입력하세요! : 7\n",
      "a[{i}] 원소를 입력하세요! : x\n",
      "검색값을 입력하세요! : 7\n",
      "검색값은 a[6]에 있습니다!\n",
      "while 문에서 if는 14 만큼 실행되었습니다!\n",
      "검색값은 a[6]에 있습니다!\n",
      "보초법에서 if는 7 만큼 실행되었습니다!\n"
     ]
    }
   ],
   "source": [
    "print('입력한 원소의 존재 여부를 검색합니다!')\n",
    "print('x를 기입하면 종료됩니다.')\n",
    "\n",
    "i = 0\n",
    "a = []\n",
    "\n",
    "while True:\n",
    "    s = input('a[{i}] 원소를 입력하세요! : ')\n",
    "    if s == 'x':\n",
    "        break\n",
    "    a.append(int(s))\n",
    "    i += 1\n",
    "\n",
    "def search_while(a, key):\n",
    "    i = 0\n",
    "    counter = 0\n",
    "    while True:\n",
    "        counter += 1\n",
    "        if i == len(a):\n",
    "            return (-1, counter)\n",
    "        counter += 1\n",
    "        if a[i] == key:\n",
    "            return (i, counter)\n",
    "        i += 1\n",
    "\n",
    "def search_sentinel(b, key):\n",
    "    a = b.copy()\n",
    "    a.append(key)\n",
    "    \n",
    "    i = 0\n",
    "    counter = 0\n",
    "    while True:\n",
    "        counter += 1\n",
    "        if a[i] == key:\n",
    "            break\n",
    "        i += 1\n",
    "    return(-1, counter) if i == len(b) else (i, counter)\n",
    "\n",
    "n = int(input('검색값을 입력하세요! : '))\n",
    "\n",
    "index1, counter1 = search_while(a, n)\n",
    "index2, counter2 = search_sentinel(a, n)\n",
    "\n",
    "if index1 == -1 and index2 == -1:\n",
    "    print('검색값이 존재하지 않습니다!')\n",
    "else:\n",
    "    print(f'검색값은 a[{index1}]에 있습니다!')\n",
    "    print(f'while 문에서 if는 {counter1} 만큼 실행되었습니다!')\n",
    "    print(f'검색값은 a[{index2}]에 있습니다!')\n",
    "    print(f'보초법에서 if는 {counter2} 만큼 실행되었습니다!')"
   ]
  },
  {
   "cell_type": "markdown",
   "id": "ee182d9d",
   "metadata": {},
   "source": [
    "# 이진 검색"
   ]
  },
  {
   "cell_type": "code",
   "execution_count": 3,
   "id": "f65706fa",
   "metadata": {},
   "outputs": [
    {
     "name": "stdout",
     "output_type": "stream",
     "text": [
      "검색값을 입력해주세요!5\n",
      "검색값은 a[0]에 있습니다!\n"
     ]
    }
   ],
   "source": [
    "def bin_search(a, key):\n",
    "    pl = 0\n",
    "    pr = len(a) - 1\n",
    "\n",
    "    while True:\n",
    "        pc = (pl + pr) // 2\n",
    "        if a[pc] == key:\n",
    "            return pc\n",
    "        elif a[pc] < key:\n",
    "            pl = pc + 1\n",
    "        else:\n",
    "            pr = pc - 1\n",
    "        \n",
    "        if pl > pr:\n",
    "            break\n",
    "    \n",
    "    return -1\n",
    "\n",
    "a = [5, 7, 15, 28, 29, 31, 39, 58, 68, 70, 95]\n",
    "\n",
    "n = int(input('검색값을 입력해주세요!'))\n",
    "index = bin_search(a, n)\n",
    "\n",
    "if index == -1:\n",
    "    print('검색값을 갖는 원소가 없습니다!')\n",
    "else:\n",
    "    print(f'검색값은 a[{index}]에 있습니다!')"
   ]
  },
  {
   "cell_type": "markdown",
   "id": "a36d8999",
   "metadata": {},
   "source": [
    "# 소수 찾기"
   ]
  },
  {
   "cell_type": "code",
   "execution_count": 4,
   "id": "3391ae44",
   "metadata": {},
   "outputs": [
    {
     "name": "stdout",
     "output_type": "stream",
     "text": [
      "[2, 3, 5, 7, 11, 13, 17, 19, 23, 29, 31, 37, 41, 43, 47, 53, 59, 61, 67, 71, 73, 79, 83, 89, 97, 101, 103, 107, 109, 113, 127, 131, 137, 139, 149, 151, 157, 163, 167, 173, 179, 181, 191, 193, 197, 199, 211, 223, 227, 229, 233, 239, 241, 251, 257, 263, 269, 271, 277, 281, 283, 293, 307, 311, 313, 317, 331, 337, 347, 349, 353, 359, 367, 373, 379, 383, 389, 397, 401, 409, 419, 421, 431, 433, 439, 443, 449, 457, 461, 463, 467, 479, 487, 491, 499, 503, 509, 521, 523, 541, 547, 557, 563, 569, 571, 577, 587, 593, 599, 601, 607, 613, 617, 619, 631, 641, 643, 647, 653, 659, 661, 673, 677, 683, 691, 701, 709, 719, 727, 733, 739, 743, 751, 757, 761, 769, 773, 787, 797, 809, 811, 821, 823, 827, 829, 839, 853, 857, 859, 863, 877, 881, 883, 887, 907, 911, 919, 929, 937, 941, 947, 953, 967, 971, 977, 983, 991, 997]\n"
     ]
    }
   ],
   "source": [
    "prime = []\n",
    "\n",
    "for n in range(2, 1001):\n",
    "    flag = 0\n",
    "    for i in range(2, n):\n",
    "        if n % i == 0:\n",
    "            flag = 1\n",
    "            break\n",
    "        \n",
    "    if(flag == 0):\n",
    "        prime.append(n)\n",
    "    \n",
    "print(prime)"
   ]
  },
  {
   "cell_type": "markdown",
   "id": "be2cbd6d",
   "metadata": {},
   "source": [
    "# 역순으로 리스트 출력"
   ]
  },
  {
   "cell_type": "code",
   "execution_count": 6,
   "id": "f4e50a29",
   "metadata": {},
   "outputs": [
    {
     "name": "stdout",
     "output_type": "stream",
     "text": [
      "리스트를 역순으로 출력합니다!\n",
      "주의: \"x\"를 입력하면 원소 입력을 종료합니다.\n",
      "x[0]값을 입력하세요.: 1\n",
      "x[1]값을 입력하세요.: 2\n",
      "x[2]값을 입력하세요.: 3\n",
      "x[3]값을 입력하세요.: 4\n",
      "x[4]값을 입력하세요.: 5\n",
      "x[5]값을 입력하세요.: 6\n",
      "x[6]값을 입력하세요.: x\n",
      "리스트를 역순으로 출력합니다!\n",
      "x[0] = 6\n",
      "x[1] = 5\n",
      "x[2] = 4\n",
      "x[3] = 3\n",
      "x[4] = 2\n",
      "x[5] = 1\n"
     ]
    }
   ],
   "source": [
    "print('리스트를 역순으로 출력합니다!')\n",
    "print('주의: \"x\"를 입력하면 원소 입력을 종료합니다.')\n",
    "i = 0\n",
    "x = []\n",
    "\n",
    "while True:\n",
    "    s = input(f'x[{i}]값을 입력하세요.: ')\n",
    "    if s == 'x':\n",
    "        break\n",
    "    x.append(int(s))\n",
    "    i += 1\n",
    "\n",
    "def reverse_list(a):\n",
    "    n = len(a)\n",
    "    for i in range(n // 2):\n",
    "        a[i], a[n - i - 1] = a[n - i - 1], a[i]\n",
    "\n",
    "reverse_list(x)\n",
    "\n",
    "print('리스트를 역순으로 출력합니다!')\n",
    "for i in range(len(x)):\n",
    "    print(f'x[{i}] = {x[i]}')"
   ]
  },
  {
   "cell_type": "markdown",
   "id": "8682b831",
   "metadata": {},
   "source": [
    "# 최대값과 최대값의 인덱스"
   ]
  },
  {
   "cell_type": "code",
   "execution_count": 1,
   "id": "6c4f4bec",
   "metadata": {},
   "outputs": [
    {
     "name": "stdout",
     "output_type": "stream",
     "text": [
      "리스트의 최댓값을 구합니다!\n",
      "주의: \"x\"를 입력하면 원소 입력을 종료합니다.\n",
      "x[0]값을 입력하세요.: 1\n",
      "x[1]값을 입력하세요.: 2\n",
      "x[2]값을 입력하세요.: 3\n",
      "x[3]값을 입력하세요.: 4\n",
      "x[4]값을 입력하세요.: 5\n",
      "x[5]값을 입력하세요.: 6\n",
      "x[6]값을 입력하세요.: 7\n",
      "x[7]값을 입력하세요.: x\n",
      "최댓값은 7 입니다!\n",
      "최댓값은 x[6] 에 있습니다!\n"
     ]
    }
   ],
   "source": [
    "print('리스트의 최댓값을 구합니다!')\n",
    "print('주의: \"x\"를 입력하면 원소 입력을 종료합니다.')\n",
    "i = 0\n",
    "x = []\n",
    "\n",
    "while True:\n",
    "    s = input(f'x[{i}]값을 입력하세요.: ')\n",
    "    if s == 'x':\n",
    "        break\n",
    "    x.append(int(s))\n",
    "    i += 1\n",
    "\n",
    "def max_of(a):\n",
    "    maximum = a[0]\n",
    "    for i in range(1, len(a)):\n",
    "        if a[i] > maximum:\n",
    "            maximum = a[i]\n",
    "    return maximum\n",
    "\n",
    "def seq_search_for(a, key):\n",
    "    for i in range(len(a)):\n",
    "        if a[i] == key:\n",
    "            return i\n",
    "    return -1\n",
    "\n",
    "index = seq_search_for(x, max_of(x))\n",
    "\n",
    "print(f'최댓값은 {max_of(x)} 입니다!')\n",
    "print(f'최댓값은 x[{index}] 에 있습니다!')"
   ]
  }
 ],
 "metadata": {
  "kernelspec": {
   "display_name": "Python 3",
   "language": "python",
   "name": "python3"
  },
  "language_info": {
   "codemirror_mode": {
    "name": "ipython",
    "version": 3
   },
   "file_extension": ".py",
   "mimetype": "text/x-python",
   "name": "python",
   "nbconvert_exporter": "python",
   "pygments_lexer": "ipython3",
   "version": "3.8.8"
  },
  "vscode": {
   "interpreter": {
    "hash": "cf92aa13fedf815d5c8dd192b8d835913fde3e8bc926b2a0ad6cc74ef2ba3ca2"
   }
  }
 },
 "nbformat": 4,
 "nbformat_minor": 5
}
