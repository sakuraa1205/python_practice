{
 "cells": [
  {
   "cell_type": "markdown",
   "id": "b2543172",
   "metadata": {},
   "source": [
    "# G-Market 상품 이미지 Crawling"
   ]
  },
  {
   "cell_type": "code",
   "execution_count": 1,
   "id": "2fb7c9c5",
   "metadata": {},
   "outputs": [],
   "source": [
    "import pandas as pd\n",
    "import requests, os\n",
    "from PIL import Image as pil"
   ]
  },
  {
   "cell_type": "code",
   "execution_count": 2,
   "id": "abeddc16",
   "metadata": {},
   "outputs": [],
   "source": [
    "# Path 확인\n",
    "# %ls"
   ]
  },
  {
   "cell_type": "code",
   "execution_count": 3,
   "id": "b6048fc9",
   "metadata": {},
   "outputs": [],
   "source": [
    "# 이미지 저장할 디렉토리 생성\n",
    "path = 'data'\n",
    "if not os.path.exists(path):  # 해당 디렉토리 존재 유무 확인\n",
    "    os.makedirs(path)"
   ]
  },
  {
   "cell_type": "code",
   "execution_count": 4,
   "id": "1926c578",
   "metadata": {},
   "outputs": [
    {
     "data": {
      "text/html": [
       "<div>\n",
       "<style scoped>\n",
       "    .dataframe tbody tr th:only-of-type {\n",
       "        vertical-align: middle;\n",
       "    }\n",
       "\n",
       "    .dataframe tbody tr th {\n",
       "        vertical-align: top;\n",
       "    }\n",
       "\n",
       "    .dataframe thead th {\n",
       "        text-align: right;\n",
       "    }\n",
       "</style>\n",
       "<table border=\"1\" class=\"dataframe\">\n",
       "  <thead>\n",
       "    <tr style=\"text-align: right;\">\n",
       "      <th></th>\n",
       "      <th>title</th>\n",
       "      <th>o_price</th>\n",
       "      <th>s_price</th>\n",
       "      <th>img</th>\n",
       "    </tr>\n",
       "  </thead>\n",
       "  <tbody>\n",
       "    <tr>\n",
       "      <th>0</th>\n",
       "      <td>3900원 균일가 시즌오프 블라우스/티셔츠/원피스/팬츠 外</td>\n",
       "      <td>13,000원</td>\n",
       "      <td>3,900원</td>\n",
       "      <td>http://gdimg.gmarket.co.kr/2266434001/still/30...</td>\n",
       "    </tr>\n",
       "    <tr>\n",
       "      <th>1</th>\n",
       "      <td>청정우 양지 300gX3팩</td>\n",
       "      <td>31,800원</td>\n",
       "      <td>15,900원</td>\n",
       "      <td>http://gdimg.gmarket.co.kr/1587075039/still/30...</td>\n",
       "    </tr>\n",
       "    <tr>\n",
       "      <th>2</th>\n",
       "      <td>[한상궁김치]한상궁김치 국산 겉절이 2kg 출고당일생산</td>\n",
       "      <td>NaN</td>\n",
       "      <td>15,900원</td>\n",
       "      <td>http://gdimg.gmarket.co.kr/1798110680/still/30...</td>\n",
       "    </tr>\n",
       "    <tr>\n",
       "      <th>3</th>\n",
       "      <td>[키스포]12%쿠폰 아동 주니어 여름 클리어런스+가을 프리뷰 모음전</td>\n",
       "      <td>22,000원</td>\n",
       "      <td>6,600원</td>\n",
       "      <td>http://gdimg.gmarket.co.kr/336394693/still/300...</td>\n",
       "    </tr>\n",
       "    <tr>\n",
       "      <th>4</th>\n",
       "      <td>DCOVERS/디커버스/반팔티/티셔츠/여성/남자/빅사이즈</td>\n",
       "      <td>26,300원</td>\n",
       "      <td>7,900원</td>\n",
       "      <td>http://gdimg.gmarket.co.kr/2514963907/still/30...</td>\n",
       "    </tr>\n",
       "  </tbody>\n",
       "</table>\n",
       "</div>"
      ],
      "text/plain": [
       "                                   title  o_price  s_price  \\\n",
       "0       3900원 균일가 시즌오프 블라우스/티셔츠/원피스/팬츠 外  13,000원   3,900원   \n",
       "1                         청정우 양지 300gX3팩  31,800원  15,900원   \n",
       "2         [한상궁김치]한상궁김치 국산 겉절이 2kg 출고당일생산      NaN  15,900원   \n",
       "3  [키스포]12%쿠폰 아동 주니어 여름 클리어런스+가을 프리뷰 모음전  22,000원   6,600원   \n",
       "4        DCOVERS/디커버스/반팔티/티셔츠/여성/남자/빅사이즈  26,300원   7,900원   \n",
       "\n",
       "                                                 img  \n",
       "0  http://gdimg.gmarket.co.kr/2266434001/still/30...  \n",
       "1  http://gdimg.gmarket.co.kr/1587075039/still/30...  \n",
       "2  http://gdimg.gmarket.co.kr/1798110680/still/30...  \n",
       "3  http://gdimg.gmarket.co.kr/336394693/still/300...  \n",
       "4  http://gdimg.gmarket.co.kr/2514963907/still/30...  "
      ]
     },
     "execution_count": 4,
     "metadata": {},
     "output_type": "execute_result"
    }
   ],
   "source": [
    "# 크롤링 하였던 상품의 DataFrame 로드 : image link\n",
    "df = pd.read_csv('gmarket.csv')\n",
    "df.head()"
   ]
  },
  {
   "cell_type": "code",
   "execution_count": 5,
   "id": "03b96c56",
   "metadata": {},
   "outputs": [
    {
     "name": "stdout",
     "output_type": "stream",
     "text": [
      "0 000.png http://gdimg.gmarket.co.kr/2266434001/still/300?ver=2022080509\n",
      "1 001.png http://gdimg.gmarket.co.kr/1587075039/still/300?ver=2022080509\n",
      "2 002.png http://gdimg.gmarket.co.kr/1798110680/still/300?ver=2022080509\n"
     ]
    }
   ],
   "source": [
    "# 여러개의 이미지 다운로드\n",
    "for idx, data in df[:3].iterrows():\n",
    "    filename = '0' * (3 - len(str(idx))) + str(idx) + '.png'\n",
    "    print(idx, filename, data['img'])\n",
    "    response = requests.get(data['img'])\n",
    "    with open(f'{path}/{filename}', 'wb') as file:\n",
    "        file.write(response.content)"
   ]
  },
  {
   "cell_type": "code",
   "execution_count": 6,
   "id": "a0f49abe",
   "metadata": {},
   "outputs": [
    {
     "data": {
      "image/png": "[encoded data removed]",
      "text/plain": [
       "<PIL.JpegImagePlugin.JpegImageFile image mode=RGB size=300x300 at 0x23E9381C8B0>"
      ]
     },
     "execution_count": 6,
     "metadata": {},
     "output_type": "execute_result"
    }
   ],
   "source": [
    "# 이미지 확인\n",
    "pil.open(f'{path}/001.png')"
   ]
  },
  {
   "cell_type": "markdown",
   "id": "63f9a449",
   "metadata": {},
   "source": [
    "# 개인 작업용 Jupyter에 라이브러리 초기 세팅하기"
   ]
  },
  {
   "cell_type": "code",
   "execution_count": 7,
   "id": "13902be8",
   "metadata": {},
   "outputs": [],
   "source": [
    "# !ipython profile create   -> ipython profile 생성\n",
    "# !dir C:\\Users\\User\\.ipython -> ipython profile 생성 확인\n",
    "# ↓↓↓↓↓↓↓↓↓↓↓초기 설정 라이브러리 등록↓↓↓↓↓↓↓↓↓↓↓↓↓\n",
    "# %%writefile C:\\Users\\User\\.ipython\\profile_default\\startup\\00-first.py\n",
    "# import pandas as pd\n",
    "# import numpy as np\n",
    "# import requests\n",
    "# from bs4 import BeautifulSoup\n",
    "# ↓↓↓↓↓↓↓↓↓↓↓등록 여부 확인↓↓↓↓↓↓↓↓↓↓↓↓↓\n",
    "# %load C:\\Users\\User\\.ipython\\profile_default\\startup\\00-first.py"
   ]
  },
  {
   "cell_type": "markdown",
   "id": "ec2a3f9c",
   "metadata": {},
   "source": [
    "# Selenium을 활용한 자동화"
   ]
  },
  {
   "cell_type": "code",
   "execution_count": 8,
   "id": "203fee03",
   "metadata": {},
   "outputs": [],
   "source": [
    "from selenium import webdriver\n",
    "from selenium.webdriver.common.by import By"
   ]
  },
  {
   "cell_type": "code",
   "execution_count": 9,
   "id": "1b108498",
   "metadata": {},
   "outputs": [],
   "source": [
    "driver = webdriver.Chrome()\n",
    "driver.get('https://daum.net')\n",
    "driver.set_window_size(400, 400)\n",
    "driver.execute_script('window.scrollTo(0, 0);')\n",
    "driver.execute_script(\"alert('hello selenium!');\")\n",
    "alert = driver.switch_to.alert\n",
    "alert.accept()\n",
    "driver.find_element(By.CSS_SELECTOR, \"#q\").send_keys(\"파이썬\")\n",
    "driver.find_element(By.CSS_SELECTOR, \".inner_search > .ico_pctop.btn_search\").click()\n",
    "driver.quit()"
   ]
  },
  {
   "cell_type": "markdown",
   "id": "a7fb5468",
   "metadata": {},
   "source": [
    "# 간단한 Machine Learning (선형회귀)"
   ]
  },
  {
   "cell_type": "code",
   "execution_count": 10,
   "id": "a58179f4",
   "metadata": {},
   "outputs": [],
   "source": [
    "from sklearn.linear_model import LinearRegression\n",
    "# ram >> ssd 저장\n",
    "import pickle"
   ]
  },
  {
   "cell_type": "code",
   "execution_count": 11,
   "id": "9038550c",
   "metadata": {},
   "outputs": [],
   "source": [
    "df = pd.read_csv('premierleague.csv')"
   ]
  },
  {
   "cell_type": "code",
   "execution_count": 12,
   "id": "ef422faa",
   "metadata": {},
   "outputs": [],
   "source": [
    "# 학습\n",
    "feature = df[['gf', 'ga']]\n",
    "target = df['points']\n",
    "model = LinearRegression().fit(feature, target)"
   ]
  },
  {
   "cell_type": "code",
   "execution_count": 13,
   "id": "c999d14a",
   "metadata": {},
   "outputs": [
    {
     "data": {
      "text/plain": [
       "array([79.])"
      ]
     },
     "execution_count": 13,
     "metadata": {},
     "output_type": "execute_result"
    }
   ],
   "source": [
    "# 모델 사용\n",
    "# 데이터 예측 : 득점 80, 골 득실 36\n",
    "np.round(model.predict([[80, 36]]))"
   ]
  },
  {
   "cell_type": "code",
   "execution_count": 14,
   "id": "b6b980d6",
   "metadata": {},
   "outputs": [],
   "source": [
    "# 학습한 알고리즘 SSD OR HDD에 저장\n",
    "with open('model.pkl', 'wb') as file:\n",
    "    pickle.dump(model, file)"
   ]
  },
  {
   "cell_type": "code",
   "execution_count": 15,
   "id": "ca567b47",
   "metadata": {},
   "outputs": [],
   "source": [
    "# 학습한 알고리즘 SSD OR HDD에서 RAM으로 가져오기\n",
    "with open('model.pkl', 'rb') as file:\n",
    "    load_model = pickle.load(file)"
   ]
  },
  {
   "cell_type": "code",
   "execution_count": 16,
   "id": "c8ba3b3a",
   "metadata": {},
   "outputs": [
    {
     "data": {
      "text/plain": [
       "array([79.])"
      ]
     },
     "execution_count": 16,
     "metadata": {},
     "output_type": "execute_result"
    }
   ],
   "source": [
    "np.round(load_model.predict([[80, 36]]))"
   ]
  },
  {
   "cell_type": "markdown",
   "id": "741e5752",
   "metadata": {},
   "source": [
    "# Selenium을 활용한 텍스트 데이터 수집"
   ]
  },
  {
   "cell_type": "code",
   "execution_count": 17,
   "id": "c337b8f7",
   "metadata": {},
   "outputs": [],
   "source": [
    "driver = webdriver.Chrome()"
   ]
  },
  {
   "cell_type": "code",
   "execution_count": 18,
   "id": "a155c553",
   "metadata": {},
   "outputs": [],
   "source": [
    "driver.get('https://ted.com/talks')"
   ]
  },
  {
   "cell_type": "code",
   "execution_count": 19,
   "id": "9052e13a",
   "metadata": {},
   "outputs": [
    {
     "data": {
      "text/plain": [
       "'Join TED Recommends to get the best ideas, selected just for you'"
      ]
     },
     "execution_count": 19,
     "metadata": {},
     "output_type": "execute_result"
    }
   ],
   "source": [
    "sub_title = driver.find_element(By.CSS_SELECTOR, '#banner-secondary').text\n",
    "sub_title"
   ]
  },
  {
   "cell_type": "code",
   "execution_count": 20,
   "id": "26d6ce0f",
   "metadata": {},
   "outputs": [],
   "source": [
    "select_box = driver.find_element(By.CSS_SELECTOR, '#languages [lang = \"ko\"]').click()"
   ]
  },
  {
   "cell_type": "code",
   "execution_count": 21,
   "id": "52a8887f",
   "metadata": {},
   "outputs": [],
   "source": [
    "elements = driver.find_elements(By.CSS_SELECTOR, '#browse-results > .row > div')"
   ]
  },
  {
   "cell_type": "code",
   "execution_count": 22,
   "id": "e8bb88e8",
   "metadata": {},
   "outputs": [],
   "source": [
    "element = elements[0]"
   ]
  },
  {
   "cell_type": "code",
   "execution_count": 23,
   "id": "23c7e5c3",
   "metadata": {},
   "outputs": [
    {
     "data": {
      "text/plain": [
       "('스페인어의 역사 - 일란 스타반스(Ilan Stavans)',\n",
       " 'https://www.ted.com/talks/ilan_stavans_a_brief_history_of_spanish?language=ko')"
      ]
     },
     "execution_count": 23,
     "metadata": {},
     "output_type": "execute_result"
    }
   ],
   "source": [
    "title = element.find_element(By.CSS_SELECTOR, 'h4 > .ga-link').text\n",
    "link = element.find_element(By.CSS_SELECTOR, 'h4 > .ga-link').get_attribute(\"href\")\n",
    "title, link"
   ]
  },
  {
   "cell_type": "code",
   "execution_count": 24,
   "id": "f6de690f",
   "metadata": {},
   "outputs": [
    {
     "data": {
      "text/html": [
       "<div>\n",
       "<style scoped>\n",
       "    .dataframe tbody tr th:only-of-type {\n",
       "        vertical-align: middle;\n",
       "    }\n",
       "\n",
       "    .dataframe tbody tr th {\n",
       "        vertical-align: top;\n",
       "    }\n",
       "\n",
       "    .dataframe thead th {\n",
       "        text-align: right;\n",
       "    }\n",
       "</style>\n",
       "<table border=\"1\" class=\"dataframe\">\n",
       "  <thead>\n",
       "    <tr style=\"text-align: right;\">\n",
       "      <th></th>\n",
       "      <th>title</th>\n",
       "      <th>link</th>\n",
       "    </tr>\n",
       "  </thead>\n",
       "  <tbody>\n",
       "    <tr>\n",
       "      <th>0</th>\n",
       "      <td>스페인어의 역사 - 일란 스타반스(Ilan Stavans)</td>\n",
       "      <td>https://www.ted.com/talks/ilan_stavans_a_brief...</td>\n",
       "    </tr>\n",
       "    <tr>\n",
       "      <th>1</th>\n",
       "      <td>암흑 물질의 수수께끼를 해결하는 방법</td>\n",
       "      <td>https://www.ted.com/talks/chanda_prescod_weins...</td>\n",
       "    </tr>\n",
       "    <tr>\n",
       "      <th>2</th>\n",
       "      <td>알코올은 어떻게 숙취를 일으킬까요?</td>\n",
       "      <td>https://www.ted.com/talks/judy_grisel_how_does...</td>\n",
       "    </tr>\n",
       "    <tr>\n",
       "      <th>3</th>\n",
       "      <td>가장 살기 좋은 나라는 어디일까?</td>\n",
       "      <td>https://www.ted.com/talks/ted_ed_what_s_the_be...</td>\n",
       "    </tr>\n",
       "    <tr>\n",
       "      <th>4</th>\n",
       "      <td>높은 고도가 당신의 몸에 미치는 영향 - 앤드류 러버링(Andrew Lovering)</td>\n",
       "      <td>https://www.ted.com/talks/andrew_lovering_how_...</td>\n",
       "    </tr>\n",
       "  </tbody>\n",
       "</table>\n",
       "</div>"
      ],
      "text/plain": [
       "                                             title  \\\n",
       "0                 스페인어의 역사 - 일란 스타반스(Ilan Stavans)   \n",
       "1                             암흑 물질의 수수께끼를 해결하는 방법   \n",
       "2                              알코올은 어떻게 숙취를 일으킬까요?   \n",
       "3                               가장 살기 좋은 나라는 어디일까?   \n",
       "4  높은 고도가 당신의 몸에 미치는 영향 - 앤드류 러버링(Andrew Lovering)   \n",
       "\n",
       "                                                link  \n",
       "0  https://www.ted.com/talks/ilan_stavans_a_brief...  \n",
       "1  https://www.ted.com/talks/chanda_prescod_weins...  \n",
       "2  https://www.ted.com/talks/judy_grisel_how_does...  \n",
       "3  https://www.ted.com/talks/ted_ed_what_s_the_be...  \n",
       "4  https://www.ted.com/talks/andrew_lovering_how_...  "
      ]
     },
     "execution_count": 24,
     "metadata": {},
     "output_type": "execute_result"
    }
   ],
   "source": [
    "data = []\n",
    "for element in elements:\n",
    "    data.append({\n",
    "        'title' : element.find_element(By.CSS_SELECTOR, 'h4 > .ga-link').text,\n",
    "        'link' : element.find_element(By.CSS_SELECTOR, 'h4 > .ga-link').get_attribute(\"href\")\n",
    "    })\n",
    "df = pd.DataFrame(data)\n",
    "df.head()"
   ]
  },
  {
   "cell_type": "code",
   "execution_count": 25,
   "id": "10e55d2f",
   "metadata": {},
   "outputs": [],
   "source": [
    "driver.quit()"
   ]
  },
  {
   "cell_type": "markdown",
   "id": "06f21e3b",
   "metadata": {},
   "source": [
    "# Headless Selenium"
   ]
  },
  {
   "cell_type": "code",
   "execution_count": 26,
   "id": "e4f148bd",
   "metadata": {},
   "outputs": [
    {
     "data": {
      "text/plain": [
       "'104.0.5112.81'"
      ]
     },
     "execution_count": 26,
     "metadata": {},
     "output_type": "execute_result"
    }
   ],
   "source": [
    "# 크롬 버전 확인\n",
    "driver = webdriver.Chrome()\n",
    "version = driver.capabilities['browserVersion']\n",
    "driver.quit()\n",
    "version"
   ]
  },
  {
   "cell_type": "code",
   "execution_count": 27,
   "id": "fc6fc526",
   "metadata": {},
   "outputs": [
    {
     "data": {
      "text/plain": [
       "'Join TED Recommends to get the best ideas, selected just for you'"
      ]
     },
     "execution_count": 27,
     "metadata": {},
     "output_type": "execute_result"
    }
   ],
   "source": [
    "options = webdriver.ChromeOptions()\n",
    "options.add_argument(\"headless\")\n",
    "\n",
    "driver = webdriver.Chrome(options=options)\n",
    "driver.get('https://ted.com/talks')\n",
    "sub_title = driver.find_element(By.CSS_SELECTOR, '#banner-secondary').text\n",
    "driver.quit()\n",
    "\n",
    "sub_title"
   ]
  },
  {
   "cell_type": "markdown",
   "id": "77a8c88c",
   "metadata": {},
   "source": [
    "# Selenium을 활용한 중고나라 게시글 데이터 수집"
   ]
  },
  {
   "cell_type": "code",
   "execution_count": 28,
   "id": "66727d35",
   "metadata": {},
   "outputs": [],
   "source": [
    "import numpy as np\n",
    "import pandas as pd\n",
    "from selenium import webdriver\n",
    "from selenium.webdriver.common.by import By"
   ]
  },
  {
   "cell_type": "code",
   "execution_count": 29,
   "id": "94e90aff",
   "metadata": {},
   "outputs": [
    {
     "data": {
      "text/html": [
       "<div>\n",
       "<style scoped>\n",
       "    .dataframe tbody tr th:only-of-type {\n",
       "        vertical-align: middle;\n",
       "    }\n",
       "\n",
       "    .dataframe tbody tr th {\n",
       "        vertical-align: top;\n",
       "    }\n",
       "\n",
       "    .dataframe thead th {\n",
       "        text-align: right;\n",
       "    }\n",
       "</style>\n",
       "<table border=\"1\" class=\"dataframe\">\n",
       "  <thead>\n",
       "    <tr style=\"text-align: right;\">\n",
       "      <th></th>\n",
       "      <th>title</th>\n",
       "      <th>writer</th>\n",
       "    </tr>\n",
       "  </thead>\n",
       "  <tbody>\n",
       "    <tr>\n",
       "      <th>0</th>\n",
       "      <td>나이키 토트넘 20-21 3rd 유니폼</td>\n",
       "      <td>망설이다팔림</td>\n",
       "    </tr>\n",
       "    <tr>\n",
       "      <th>1</th>\n",
       "      <td>(260)나이키 덩크로우 범고래</td>\n",
       "      <td>3초 장혁</td>\n",
       "    </tr>\n",
       "    <tr>\n",
       "      <th>2</th>\n",
       "      <td>[앱상품]나이키 에어 허라취 범고래 검흰</td>\n",
       "      <td>jundasy</td>\n",
       "    </tr>\n",
       "    <tr>\n",
       "      <th>3</th>\n",
       "      <td>나이키플레이테이션모자</td>\n",
       "      <td>우스47</td>\n",
       "    </tr>\n",
       "    <tr>\n",
       "      <th>4</th>\n",
       "      <td>90s 92년제작 나이키 올드스쿨 삼나스포츠 바람막이 자켓 팝니다</td>\n",
       "      <td>달콤한꿀통</td>\n",
       "    </tr>\n",
       "  </tbody>\n",
       "</table>\n",
       "</div>"
      ],
      "text/plain": [
       "                                  title   writer\n",
       "0                 나이키 토트넘 20-21 3rd 유니폼   망설이다팔림\n",
       "1                     (260)나이키 덩크로우 범고래    3초 장혁\n",
       "2                [앱상품]나이키 에어 허라취 범고래 검흰  jundasy\n",
       "3                           나이키플레이테이션모자     우스47\n",
       "4  90s 92년제작 나이키 올드스쿨 삼나스포츠 바람막이 자켓 팝니다    달콤한꿀통"
      ]
     },
     "execution_count": 29,
     "metadata": {},
     "output_type": "execute_result"
    }
   ],
   "source": [
    "url = 'https://cafe.naver.com/joonggonara.cafe'\n",
    "\n",
    "driver = webdriver.Chrome()\n",
    "driver.get(url)\n",
    "keyword = '나이키'\n",
    "driver.find_element(By.CSS_SELECTOR, '#topLayerQueryInput').send_keys(keyword)\n",
    "driver.execute_script('searchBoard()')\n",
    "iframe = driver.find_element(By.CSS_SELECTOR, '#cafe_main')\n",
    "driver.switch_to.frame(iframe)\n",
    "selector = '.article-board > table > tbody > tr'\n",
    "elements = driver.find_elements(By.CSS_SELECTOR, selector)\n",
    "element = elements[0]\n",
    "data = []\n",
    "for element in elements:\n",
    "    data.append({\n",
    "        'title' : element.find_element(By.CSS_SELECTOR, '.article').text,\n",
    "        'writer' : element.find_element(By.CSS_SELECTOR, '.p-nick').text      \n",
    "        \n",
    "    })\n",
    "df = pd.DataFrame(data)\n",
    "df.head()"
   ]
  },
  {
   "cell_type": "code",
   "execution_count": 30,
   "id": "7ba1630f",
   "metadata": {},
   "outputs": [],
   "source": [
    "driver.quit()"
   ]
  },
  {
   "cell_type": "markdown",
   "id": "38fd7e4d",
   "metadata": {},
   "source": [
    "# Xpath"
   ]
  },
  {
   "cell_type": "code",
   "execution_count": 31,
   "id": "8922bf1f",
   "metadata": {},
   "outputs": [],
   "source": [
    "import scrapy, requests\n",
    "from scrapy.http import TextResponse\n",
    "import pandas as pd\n",
    "import numpy as np"
   ]
  },
  {
   "cell_type": "code",
   "execution_count": 32,
   "id": "921df457",
   "metadata": {},
   "outputs": [
    {
     "name": "stdout",
     "output_type": "stream",
     "text": [
      "['삼성전자', 'kt 고객센터', 'ky', 'kt 인터넷', 'kt 대리점', '환율', 'kr', 'SKT', '날씨', 'kt 주가']\n"
     ]
    }
   ],
   "source": [
    "query = 'kt'\n",
    "url = f'https://search.naver.com/search.naver?query={query}'\n",
    "response = requests.get(url)\n",
    "doc = TextResponse(response.url, body = response.text, encoding = 'utf-8')\n",
    "keywords = doc.xpath('//*[@id=\"nx_footer_related_keywords\"]/div/div[2]/ul/li/a/div/text()').extract()\n",
    "print(keywords)"
   ]
  },
  {
   "cell_type": "markdown",
   "id": "9af677c7",
   "metadata": {},
   "source": [
    "# Scrapy"
   ]
  },
  {
   "cell_type": "code",
   "execution_count": 33,
   "id": "6e399b71",
   "metadata": {},
   "outputs": [],
   "source": [
    "import pandas as pd\n",
    "import numpy as np\n",
    "import scrapy, requests\n",
    "from scrapy.http import TextResponse"
   ]
  },
  {
   "cell_type": "code",
   "execution_count": 34,
   "id": "1dde041f",
   "metadata": {},
   "outputs": [
    {
     "name": "stdout",
     "output_type": "stream",
     "text": [
      "Error: scrapy.cfg already exists in C:\\Users\\User\\Python practice\\gmarket\n"
     ]
    }
   ],
   "source": [
    "!scrapy startproject gmarket"
   ]
  },
  {
   "cell_type": "code",
   "execution_count": 35,
   "id": "802c1bf2",
   "metadata": {},
   "outputs": [
    {
     "name": "stdout",
     "output_type": "stream",
     "text": [
      "폴더 PATH의 목록입니다.\n",
      "볼륨 일련 번호가 00000055 7C6C:FC35입니다.\n",
      "C:\\USERS\\USER\\PYTHON PRACTICE\\GMARKET\n",
      "│  scrapy.cfg\n",
      "│  \n",
      "└─gmarket\n",
      "    │  items.py\n",
      "    │  middlewares.py\n",
      "    │  pipelines.py\n",
      "    │  settings.py\n",
      "    │  __init__.py\n",
      "    │  \n",
      "    ├─spiders\n",
      "    │  │  spider.py\n",
      "    │  │  __init__.py\n",
      "    │  │  \n",
      "    │  └─__pycache__\n",
      "    │          spider.cpython-38.pyc\n",
      "    │          __init__.cpython-38.pyc\n",
      "    │          \n",
      "    └─__pycache__\n",
      "            items.cpython-38.pyc\n",
      "            settings.cpython-38.pyc\n",
      "            __init__.cpython-38.pyc\n",
      "            \n"
     ]
    }
   ],
   "source": [
    "!tree gmarket /f"
   ]
  },
  {
   "cell_type": "code",
   "execution_count": 36,
   "id": "bbed1614",
   "metadata": {},
   "outputs": [
    {
     "data": {
      "text/plain": [
       "['http://item.gmarket.co.kr/Item?goodscode=2430308078&ver=637955011041893813',\n",
       " 'http://item.gmarket.co.kr/Item?goodscode=2412883938&ver=637955011041893813']"
      ]
     },
     "execution_count": 36,
     "metadata": {},
     "output_type": "execute_result"
    }
   ],
   "source": [
    "url = 'http://corners.gmarket.co.kr/Bestsellers'\n",
    "request = requests.get(url)\n",
    "response = TextResponse(request.url, body = request.text, encoding = 'utf - 8')\n",
    "links = response.xpath('//*[@id=\"gBestWrap\"]/div/div[3]/div/ul/li/a/@href').extract()\n",
    "links[:2]"
   ]
  },
  {
   "cell_type": "code",
   "execution_count": 37,
   "id": "9154f08e",
   "metadata": {},
   "outputs": [
    {
     "data": {
      "text/plain": [
       "('12%+10%쿠폰 아디다스 남성 드로즈 득템 선물박스 특가5종 ', '30,000')"
      ]
     },
     "execution_count": 37,
     "metadata": {},
     "output_type": "execute_result"
    }
   ],
   "source": [
    "link = links[0]\n",
    "request = requests.get(link)\n",
    "response = TextResponse(request.url, body = request.text, encoding = 'utf - 8')\n",
    "title = response.xpath('//*[@id=\"itemcase_basic\"]/div/h1/text()')[0].extract()\n",
    "price = response.xpath('//*[@id=\"itemcase_basic\"]/div/p/span/strong/text()')[0].extract()\n",
    "title, price"
   ]
  },
  {
   "cell_type": "code",
   "execution_count": 38,
   "id": "a36186f3",
   "metadata": {},
   "outputs": [
    {
     "name": "stdout",
     "output_type": "stream",
     "text": [
      "Overwriting gmarket/gmarket/items.py\n"
     ]
    }
   ],
   "source": [
    "%%writefile gmarket/gmarket/items.py\n",
    "import scrapy\n",
    "\n",
    "class GmarketItem(scrapy.Item):\n",
    "    title = scrapy.Field()\n",
    "    price = scrapy.Field()\n",
    "    link = scrapy.Field()"
   ]
  },
  {
   "cell_type": "code",
   "execution_count": 39,
   "id": "d0ba413a",
   "metadata": {},
   "outputs": [
    {
     "name": "stdout",
     "output_type": "stream",
     "text": [
      "Overwriting gmarket/gmarket/spiders/spider.py\n"
     ]
    }
   ],
   "source": [
    "   \n",
    "%%writefile gmarket/gmarket/spiders/spider.py\n",
    "import scrapy\n",
    "from gmarket.items import GmarketItem\n",
    "\n",
    "class GMSpider(scrapy.Spider):\n",
    "    name = \"GMB\"\n",
    "    allow_domain = [\"gmarket.co.kr\"]\n",
    "    start_urls = [\"http://corners.gmarket.co.kr/Bestsellers\"]\n",
    "    \n",
    "    def parse(self, response):\n",
    "        links = response.xpath('//*[@id=\"gBestWrap\"]/div/div[3]/div/ul/li/a/@href').extract()\n",
    "        for link in links[:20]:\n",
    "            yield scrapy.Request(link, callback=self.parse_content)\n",
    "    \n",
    "    def parse_content(self, response):\n",
    "        item = GmarketItem()\n",
    "        item[\"title\"] = response.xpath('//*[@id=\"itemcase_basic\"]/div[1]/h1/text()')[0].extract()\n",
    "        item[\"price\"] = response.xpath('//*[@id=\"itemcase_basic\"]/div[1]/p/span/strong/text()')[0].extract()\n",
    "        item[\"link\"] = response.url\n",
    "        yield item"
   ]
  },
  {
   "cell_type": "code",
   "execution_count": 40,
   "id": "8fe11dc5",
   "metadata": {},
   "outputs": [],
   "source": [
    "# 5. scrapy pjt. 실행\n",
    "# gmarket 디렉토리를 경로로 지정하고 실행해야 됨\n",
    "# terminal에서 실행해야 됨!\n",
    "# scrapy crawl GMB -o items.csv\n",
    "# 경로상에 띄워쓰기가 있다면\n",
    "# \"C:\\\\Users\\\\User\\\\Python practice\"\n",
    "# 위와 같이 할 것"
   ]
  },
  {
   "cell_type": "code",
   "execution_count": 41,
   "id": "e7582613",
   "metadata": {},
   "outputs": [
    {
     "data": {
      "text/plain": [
       "'C:\\\\Users\\\\User\\\\Python practice'"
      ]
     },
     "execution_count": 41,
     "metadata": {},
     "output_type": "execute_result"
    }
   ],
   "source": [
    "%pwd"
   ]
  },
  {
   "cell_type": "code",
   "execution_count": 42,
   "id": "a6d34876",
   "metadata": {},
   "outputs": [
    {
     "data": {
      "text/html": [
       "<div>\n",
       "<style scoped>\n",
       "    .dataframe tbody tr th:only-of-type {\n",
       "        vertical-align: middle;\n",
       "    }\n",
       "\n",
       "    .dataframe tbody tr th {\n",
       "        vertical-align: top;\n",
       "    }\n",
       "\n",
       "    .dataframe thead th {\n",
       "        text-align: right;\n",
       "    }\n",
       "</style>\n",
       "<table border=\"1\" class=\"dataframe\">\n",
       "  <thead>\n",
       "    <tr style=\"text-align: right;\">\n",
       "      <th></th>\n",
       "      <th>link</th>\n",
       "      <th>price</th>\n",
       "      <th>title</th>\n",
       "    </tr>\n",
       "  </thead>\n",
       "  <tbody>\n",
       "    <tr>\n",
       "      <th>0</th>\n",
       "      <td>http://item.gmarket.co.kr/Item?goodscode=19136...</td>\n",
       "      <td>15,600</td>\n",
       "      <td>(7팩 10920) 베스트셀러 러브 생리대 외 입는 오버나이트 팬티라이너/사은품</td>\n",
       "    </tr>\n",
       "    <tr>\n",
       "      <th>1</th>\n",
       "      <td>http://item.gmarket.co.kr/Item?goodscode=23758...</td>\n",
       "      <td>48,500</td>\n",
       "      <td>(요기요) 5만원권</td>\n",
       "    </tr>\n",
       "    <tr>\n",
       "      <th>2</th>\n",
       "      <td>http://item.gmarket.co.kr/Item?goodscode=12843...</td>\n",
       "      <td>9,900</td>\n",
       "      <td>데이뮤즈 여름신상 원피스/세트/자켓/블라우스/티셔츠/팬츠</td>\n",
       "    </tr>\n",
       "    <tr>\n",
       "      <th>3</th>\n",
       "      <td>http://item.gmarket.co.kr/Item?goodscode=24303...</td>\n",
       "      <td>30,000</td>\n",
       "      <td>12%+10%쿠폰 아디다스 남성 드로즈 득템 선물박스 특가5종</td>\n",
       "    </tr>\n",
       "    <tr>\n",
       "      <th>4</th>\n",
       "      <td>http://item.gmarket.co.kr/Item?goodscode=23757...</td>\n",
       "      <td>27,900</td>\n",
       "      <td>매일두유 99.9 24팩+누텔라 370g 3개+트레이 /한정수량</td>\n",
       "    </tr>\n",
       "  </tbody>\n",
       "</table>\n",
       "</div>"
      ],
      "text/plain": [
       "                                                link   price  \\\n",
       "0  http://item.gmarket.co.kr/Item?goodscode=19136...  15,600   \n",
       "1  http://item.gmarket.co.kr/Item?goodscode=23758...  48,500   \n",
       "2  http://item.gmarket.co.kr/Item?goodscode=12843...   9,900   \n",
       "3  http://item.gmarket.co.kr/Item?goodscode=24303...  30,000   \n",
       "4  http://item.gmarket.co.kr/Item?goodscode=23757...  27,900   \n",
       "\n",
       "                                           title  \n",
       "0  (7팩 10920) 베스트셀러 러브 생리대 외 입는 오버나이트 팬티라이너/사은품   \n",
       "1                                    (요기요) 5만원권   \n",
       "2               데이뮤즈 여름신상 원피스/세트/자켓/블라우스/티셔츠/팬츠   \n",
       "3            12%+10%쿠폰 아디다스 남성 드로즈 득템 선물박스 특가5종   \n",
       "4           매일두유 99.9 24팩+누텔라 370g 3개+트레이 /한정수량   "
      ]
     },
     "execution_count": 42,
     "metadata": {},
     "output_type": "execute_result"
    }
   ],
   "source": [
    "pd.read_csv(\"gmarket/items.csv\").head()"
   ]
  }
 ],
 "metadata": {
  "kernelspec": {
   "display_name": "Python 3",
   "language": "python",
   "name": "python3"
  },
  "language_info": {
   "codemirror_mode": {
    "name": "ipython",
    "version": 3
   },
   "file_extension": ".py",
   "mimetype": "text/x-python",
   "name": "python",
   "nbconvert_exporter": "python",
   "pygments_lexer": "ipython3",
   "version": "3.8.8"
  }
 },
 "nbformat": 4,
 "nbformat_minor": 5
}
