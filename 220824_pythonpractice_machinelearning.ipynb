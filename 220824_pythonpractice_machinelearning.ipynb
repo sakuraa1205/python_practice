{
 "cells": [
  {
   "cell_type": "markdown",
   "id": "7a4268f4",
   "metadata": {},
   "source": [
    "# M.L (Machine Learning 연습)\n",
    "- 라이브러리\n",
    "- 데이터 전처리\n",
    "- 모델링\n",
    "- 하이퍼파라미터 튜닝"
   ]
  },
  {
   "cell_type": "code",
   "execution_count": 1,
   "id": "6894c923",
   "metadata": {},
   "outputs": [],
   "source": [
    "# 라이브러리\n",
    "import numpy as np\n",
    "import pandas as pd\n",
    "import matplotlib.pyplot as plt\n",
    "import seaborn as sns\n",
    "\n",
    "from sklearn.model_selection import train_test_split\n",
    "from sklearn.preprocessing import MinMaxScaler\n",
    "\n",
    "from sklearn.linear_model import LogisticRegression\n",
    "from sklearn.tree import DecisionTreeClassifier, plot_tree\n",
    "from sklearn.neighbors import KNeighborsClassifier\n",
    "from sklearn.svm import SVC\n",
    "from sklearn.metrics import *\n",
    "\n",
    "from sklearn.model_selection import RandomizedSearchCV, GridSearchCV\n",
    "from scipy.stats import uniform\n",
    "\n",
    "import warnings\n",
    "warnings.filterwarnings(action = 'ignore')"
   ]
  },
  {
   "cell_type": "code",
   "execution_count": 2,
   "id": "94847077",
   "metadata": {},
   "outputs": [
    {
     "data": {
      "text/html": [
       "<div>\n",
       "<style scoped>\n",
       "    .dataframe tbody tr th:only-of-type {\n",
       "        vertical-align: middle;\n",
       "    }\n",
       "\n",
       "    .dataframe tbody tr th {\n",
       "        vertical-align: top;\n",
       "    }\n",
       "\n",
       "    .dataframe thead th {\n",
       "        text-align: right;\n",
       "    }\n",
       "</style>\n",
       "<table border=\"1\" class=\"dataframe\">\n",
       "  <thead>\n",
       "    <tr style=\"text-align: right;\">\n",
       "      <th></th>\n",
       "      <th>id</th>\n",
       "      <th>COLLEGE</th>\n",
       "      <th>INCOME</th>\n",
       "      <th>OVERAGE</th>\n",
       "      <th>LEFTOVER</th>\n",
       "      <th>HOUSE</th>\n",
       "      <th>HANDSET_PRICE</th>\n",
       "      <th>OVER_15MINS_CALLS_PER_MONTH</th>\n",
       "      <th>AVERAGE_CALL_DURATION</th>\n",
       "      <th>REPORTED_SATISFACTION</th>\n",
       "      <th>REPORTED_USAGE_LEVEL</th>\n",
       "      <th>CONSIDERING_CHANGE_OF_PLAN</th>\n",
       "      <th>CHURN</th>\n",
       "    </tr>\n",
       "  </thead>\n",
       "  <tbody>\n",
       "    <tr>\n",
       "      <th>3178</th>\n",
       "      <td>3179</td>\n",
       "      <td>0</td>\n",
       "      <td>119512</td>\n",
       "      <td>51</td>\n",
       "      <td>31</td>\n",
       "      <td>248566</td>\n",
       "      <td>229</td>\n",
       "      <td>5</td>\n",
       "      <td>2</td>\n",
       "      <td>very_sat</td>\n",
       "      <td>very_high</td>\n",
       "      <td>considering</td>\n",
       "      <td>1</td>\n",
       "    </tr>\n",
       "    <tr>\n",
       "      <th>14926</th>\n",
       "      <td>14927</td>\n",
       "      <td>1</td>\n",
       "      <td>142144</td>\n",
       "      <td>192</td>\n",
       "      <td>15</td>\n",
       "      <td>774317</td>\n",
       "      <td>581</td>\n",
       "      <td>29</td>\n",
       "      <td>4</td>\n",
       "      <td>unsat</td>\n",
       "      <td>very_little</td>\n",
       "      <td>never_thought</td>\n",
       "      <td>1</td>\n",
       "    </tr>\n",
       "    <tr>\n",
       "      <th>15116</th>\n",
       "      <td>15117</td>\n",
       "      <td>1</td>\n",
       "      <td>142308</td>\n",
       "      <td>0</td>\n",
       "      <td>79</td>\n",
       "      <td>306426</td>\n",
       "      <td>497</td>\n",
       "      <td>1</td>\n",
       "      <td>1</td>\n",
       "      <td>sat</td>\n",
       "      <td>little</td>\n",
       "      <td>considering</td>\n",
       "      <td>0</td>\n",
       "    </tr>\n",
       "    <tr>\n",
       "      <th>12733</th>\n",
       "      <td>12734</td>\n",
       "      <td>1</td>\n",
       "      <td>113385</td>\n",
       "      <td>0</td>\n",
       "      <td>0</td>\n",
       "      <td>333599</td>\n",
       "      <td>819</td>\n",
       "      <td>1</td>\n",
       "      <td>6</td>\n",
       "      <td>very_unsat</td>\n",
       "      <td>very_high</td>\n",
       "      <td>considering</td>\n",
       "      <td>1</td>\n",
       "    </tr>\n",
       "    <tr>\n",
       "      <th>14032</th>\n",
       "      <td>14033</td>\n",
       "      <td>1</td>\n",
       "      <td>90348</td>\n",
       "      <td>209</td>\n",
       "      <td>10</td>\n",
       "      <td>637286</td>\n",
       "      <td>360</td>\n",
       "      <td>26</td>\n",
       "      <td>4</td>\n",
       "      <td>unsat</td>\n",
       "      <td>little</td>\n",
       "      <td>actively_looking_into_it</td>\n",
       "      <td>0</td>\n",
       "    </tr>\n",
       "  </tbody>\n",
       "</table>\n",
       "</div>"
      ],
      "text/plain": [
       "          id  COLLEGE  INCOME  OVERAGE  LEFTOVER   HOUSE  HANDSET_PRICE  \\\n",
       "3178    3179        0  119512       51        31  248566            229   \n",
       "14926  14927        1  142144      192        15  774317            581   \n",
       "15116  15117        1  142308        0        79  306426            497   \n",
       "12733  12734        1  113385        0         0  333599            819   \n",
       "14032  14033        1   90348      209        10  637286            360   \n",
       "\n",
       "       OVER_15MINS_CALLS_PER_MONTH  AVERAGE_CALL_DURATION  \\\n",
       "3178                             5                      2   \n",
       "14926                           29                      4   \n",
       "15116                            1                      1   \n",
       "12733                            1                      6   \n",
       "14032                           26                      4   \n",
       "\n",
       "      REPORTED_SATISFACTION REPORTED_USAGE_LEVEL CONSIDERING_CHANGE_OF_PLAN  \\\n",
       "3178               very_sat            very_high                considering   \n",
       "14926                 unsat          very_little              never_thought   \n",
       "15116                   sat               little                considering   \n",
       "12733            very_unsat            very_high                considering   \n",
       "14032                 unsat               little   actively_looking_into_it   \n",
       "\n",
       "       CHURN  \n",
       "3178       1  \n",
       "14926      1  \n",
       "15116      0  \n",
       "12733      1  \n",
       "14032      0  "
      ]
     },
     "execution_count": 2,
     "metadata": {},
     "output_type": "execute_result"
    }
   ],
   "source": [
    "# 데이터 불러오기\n",
    "path = 'https://raw.githubusercontent.com/DA4BAM/dataset/master/mobile_cust_churn.csv'\n",
    "data = pd.read_csv(path)\n",
    "data = data.sample(5000, random_state = 2022)\n",
    "data['CHURN'] = data['CHURN'].map({'LEAVE' : 1, 'STAY' : 0})\n",
    "data.head()"
   ]
  },
  {
   "cell_type": "code",
   "execution_count": 3,
   "id": "b25f2df1",
   "metadata": {},
   "outputs": [],
   "source": [
    "# 데이터 전처리\n",
    "drop_cols = 'id'\n",
    "data.drop(drop_cols, axis = 1, inplace = True)"
   ]
  },
  {
   "cell_type": "code",
   "execution_count": 4,
   "id": "bfdc271e",
   "metadata": {},
   "outputs": [],
   "source": [
    "target = 'CHURN'\n",
    "x = data.drop(target, axis = 1)\n",
    "y = data.loc[:, target]"
   ]
  },
  {
   "cell_type": "code",
   "execution_count": 5,
   "id": "84917a77",
   "metadata": {},
   "outputs": [
    {
     "data": {
      "text/plain": [
       "COLLEGE                        0\n",
       "INCOME                         0\n",
       "OVERAGE                        0\n",
       "LEFTOVER                       0\n",
       "HOUSE                          0\n",
       "HANDSET_PRICE                  0\n",
       "OVER_15MINS_CALLS_PER_MONTH    0\n",
       "AVERAGE_CALL_DURATION          0\n",
       "REPORTED_SATISFACTION          0\n",
       "REPORTED_USAGE_LEVEL           0\n",
       "CONSIDERING_CHANGE_OF_PLAN     0\n",
       "dtype: int64"
      ]
     },
     "metadata": {},
     "output_type": "display_data"
    },
    {
     "data": {
      "text/plain": [
       "0"
      ]
     },
     "metadata": {},
     "output_type": "display_data"
    }
   ],
   "source": [
    "# 결측치 확인\n",
    "display(x.isna().sum())\n",
    "display(y.isna().sum())"
   ]
  },
  {
   "cell_type": "code",
   "execution_count": 6,
   "id": "903c54e6",
   "metadata": {},
   "outputs": [
    {
     "data": {
      "text/html": [
       "<div>\n",
       "<style scoped>\n",
       "    .dataframe tbody tr th:only-of-type {\n",
       "        vertical-align: middle;\n",
       "    }\n",
       "\n",
       "    .dataframe tbody tr th {\n",
       "        vertical-align: top;\n",
       "    }\n",
       "\n",
       "    .dataframe thead th {\n",
       "        text-align: right;\n",
       "    }\n",
       "</style>\n",
       "<table border=\"1\" class=\"dataframe\">\n",
       "  <thead>\n",
       "    <tr style=\"text-align: right;\">\n",
       "      <th></th>\n",
       "      <th>COLLEGE</th>\n",
       "      <th>INCOME</th>\n",
       "      <th>OVERAGE</th>\n",
       "      <th>LEFTOVER</th>\n",
       "      <th>HOUSE</th>\n",
       "      <th>HANDSET_PRICE</th>\n",
       "      <th>OVER_15MINS_CALLS_PER_MONTH</th>\n",
       "      <th>AVERAGE_CALL_DURATION</th>\n",
       "      <th>REPORTED_SATISFACTION_sat</th>\n",
       "      <th>REPORTED_SATISFACTION_unsat</th>\n",
       "      <th>REPORTED_SATISFACTION_very_sat</th>\n",
       "      <th>REPORTED_SATISFACTION_very_unsat</th>\n",
       "      <th>REPORTED_USAGE_LEVEL_high</th>\n",
       "      <th>REPORTED_USAGE_LEVEL_little</th>\n",
       "      <th>REPORTED_USAGE_LEVEL_very_high</th>\n",
       "      <th>REPORTED_USAGE_LEVEL_very_little</th>\n",
       "      <th>CONSIDERING_CHANGE_OF_PLAN_considering</th>\n",
       "      <th>CONSIDERING_CHANGE_OF_PLAN_never_thought</th>\n",
       "      <th>CONSIDERING_CHANGE_OF_PLAN_no</th>\n",
       "      <th>CONSIDERING_CHANGE_OF_PLAN_perhaps</th>\n",
       "    </tr>\n",
       "  </thead>\n",
       "  <tbody>\n",
       "    <tr>\n",
       "      <th>3178</th>\n",
       "      <td>0</td>\n",
       "      <td>119512</td>\n",
       "      <td>51</td>\n",
       "      <td>31</td>\n",
       "      <td>248566</td>\n",
       "      <td>229</td>\n",
       "      <td>5</td>\n",
       "      <td>2</td>\n",
       "      <td>0</td>\n",
       "      <td>0</td>\n",
       "      <td>1</td>\n",
       "      <td>0</td>\n",
       "      <td>0</td>\n",
       "      <td>0</td>\n",
       "      <td>1</td>\n",
       "      <td>0</td>\n",
       "      <td>1</td>\n",
       "      <td>0</td>\n",
       "      <td>0</td>\n",
       "      <td>0</td>\n",
       "    </tr>\n",
       "    <tr>\n",
       "      <th>14926</th>\n",
       "      <td>1</td>\n",
       "      <td>142144</td>\n",
       "      <td>192</td>\n",
       "      <td>15</td>\n",
       "      <td>774317</td>\n",
       "      <td>581</td>\n",
       "      <td>29</td>\n",
       "      <td>4</td>\n",
       "      <td>0</td>\n",
       "      <td>1</td>\n",
       "      <td>0</td>\n",
       "      <td>0</td>\n",
       "      <td>0</td>\n",
       "      <td>0</td>\n",
       "      <td>0</td>\n",
       "      <td>1</td>\n",
       "      <td>0</td>\n",
       "      <td>1</td>\n",
       "      <td>0</td>\n",
       "      <td>0</td>\n",
       "    </tr>\n",
       "    <tr>\n",
       "      <th>15116</th>\n",
       "      <td>1</td>\n",
       "      <td>142308</td>\n",
       "      <td>0</td>\n",
       "      <td>79</td>\n",
       "      <td>306426</td>\n",
       "      <td>497</td>\n",
       "      <td>1</td>\n",
       "      <td>1</td>\n",
       "      <td>1</td>\n",
       "      <td>0</td>\n",
       "      <td>0</td>\n",
       "      <td>0</td>\n",
       "      <td>0</td>\n",
       "      <td>1</td>\n",
       "      <td>0</td>\n",
       "      <td>0</td>\n",
       "      <td>1</td>\n",
       "      <td>0</td>\n",
       "      <td>0</td>\n",
       "      <td>0</td>\n",
       "    </tr>\n",
       "    <tr>\n",
       "      <th>12733</th>\n",
       "      <td>1</td>\n",
       "      <td>113385</td>\n",
       "      <td>0</td>\n",
       "      <td>0</td>\n",
       "      <td>333599</td>\n",
       "      <td>819</td>\n",
       "      <td>1</td>\n",
       "      <td>6</td>\n",
       "      <td>0</td>\n",
       "      <td>0</td>\n",
       "      <td>0</td>\n",
       "      <td>1</td>\n",
       "      <td>0</td>\n",
       "      <td>0</td>\n",
       "      <td>1</td>\n",
       "      <td>0</td>\n",
       "      <td>1</td>\n",
       "      <td>0</td>\n",
       "      <td>0</td>\n",
       "      <td>0</td>\n",
       "    </tr>\n",
       "    <tr>\n",
       "      <th>14032</th>\n",
       "      <td>1</td>\n",
       "      <td>90348</td>\n",
       "      <td>209</td>\n",
       "      <td>10</td>\n",
       "      <td>637286</td>\n",
       "      <td>360</td>\n",
       "      <td>26</td>\n",
       "      <td>4</td>\n",
       "      <td>0</td>\n",
       "      <td>1</td>\n",
       "      <td>0</td>\n",
       "      <td>0</td>\n",
       "      <td>0</td>\n",
       "      <td>1</td>\n",
       "      <td>0</td>\n",
       "      <td>0</td>\n",
       "      <td>0</td>\n",
       "      <td>0</td>\n",
       "      <td>0</td>\n",
       "      <td>0</td>\n",
       "    </tr>\n",
       "  </tbody>\n",
       "</table>\n",
       "</div>"
      ],
      "text/plain": [
       "       COLLEGE  INCOME  OVERAGE  LEFTOVER   HOUSE  HANDSET_PRICE  \\\n",
       "3178         0  119512       51        31  248566            229   \n",
       "14926        1  142144      192        15  774317            581   \n",
       "15116        1  142308        0        79  306426            497   \n",
       "12733        1  113385        0         0  333599            819   \n",
       "14032        1   90348      209        10  637286            360   \n",
       "\n",
       "       OVER_15MINS_CALLS_PER_MONTH  AVERAGE_CALL_DURATION  \\\n",
       "3178                             5                      2   \n",
       "14926                           29                      4   \n",
       "15116                            1                      1   \n",
       "12733                            1                      6   \n",
       "14032                           26                      4   \n",
       "\n",
       "       REPORTED_SATISFACTION_sat  REPORTED_SATISFACTION_unsat  \\\n",
       "3178                           0                            0   \n",
       "14926                          0                            1   \n",
       "15116                          1                            0   \n",
       "12733                          0                            0   \n",
       "14032                          0                            1   \n",
       "\n",
       "       REPORTED_SATISFACTION_very_sat  REPORTED_SATISFACTION_very_unsat  \\\n",
       "3178                                1                                 0   \n",
       "14926                               0                                 0   \n",
       "15116                               0                                 0   \n",
       "12733                               0                                 1   \n",
       "14032                               0                                 0   \n",
       "\n",
       "       REPORTED_USAGE_LEVEL_high  REPORTED_USAGE_LEVEL_little  \\\n",
       "3178                           0                            0   \n",
       "14926                          0                            0   \n",
       "15116                          0                            1   \n",
       "12733                          0                            0   \n",
       "14032                          0                            1   \n",
       "\n",
       "       REPORTED_USAGE_LEVEL_very_high  REPORTED_USAGE_LEVEL_very_little  \\\n",
       "3178                                1                                 0   \n",
       "14926                               0                                 1   \n",
       "15116                               0                                 0   \n",
       "12733                               1                                 0   \n",
       "14032                               0                                 0   \n",
       "\n",
       "       CONSIDERING_CHANGE_OF_PLAN_considering  \\\n",
       "3178                                        1   \n",
       "14926                                       0   \n",
       "15116                                       1   \n",
       "12733                                       1   \n",
       "14032                                       0   \n",
       "\n",
       "       CONSIDERING_CHANGE_OF_PLAN_never_thought  \\\n",
       "3178                                          0   \n",
       "14926                                         1   \n",
       "15116                                         0   \n",
       "12733                                         0   \n",
       "14032                                         0   \n",
       "\n",
       "       CONSIDERING_CHANGE_OF_PLAN_no  CONSIDERING_CHANGE_OF_PLAN_perhaps  \n",
       "3178                               0                                   0  \n",
       "14926                              0                                   0  \n",
       "15116                              0                                   0  \n",
       "12733                              0                                   0  \n",
       "14032                              0                                   0  "
      ]
     },
     "execution_count": 6,
     "metadata": {},
     "output_type": "execute_result"
    }
   ],
   "source": [
    "# 가변수화\n",
    "dumm_cols = ['REPORTED_SATISFACTION','REPORTED_USAGE_LEVEL','CONSIDERING_CHANGE_OF_PLAN']\n",
    "x = pd.get_dummies(x, columns = dumm_cols, drop_first = True)\n",
    "x.head()"
   ]
  },
  {
   "cell_type": "code",
   "execution_count": 7,
   "id": "5181b93a",
   "metadata": {},
   "outputs": [],
   "source": [
    "# 데이터 분할(train & validation)\n",
    "x_train, x_val, y_train, y_val = train_test_split(x, y, test_size = 3, random_state = 20)"
   ]
  },
  {
   "cell_type": "code",
   "execution_count": 8,
   "id": "8bf2149a",
   "metadata": {
    "scrolled": false
   },
   "outputs": [],
   "source": [
    "# Scaling\n",
    "scaler = MinMaxScaler()\n",
    "x_train_s = scaler.fit_transform(x_train)\n",
    "x_val_s = scaler.transform(x_val)"
   ]
  },
  {
   "cell_type": "markdown",
   "id": "5377fdb4",
   "metadata": {},
   "source": [
    "- Logistic Regression"
   ]
  },
  {
   "cell_type": "code",
   "execution_count": 9,
   "id": "bc37137f",
   "metadata": {},
   "outputs": [
    {
     "data": {
      "text/plain": [
       "{'C': <scipy.stats._distn_infrastructure.rv_frozen at 0x256509f1370>,\n",
       " 'penalty': ['l2', 'l1']}"
      ]
     },
     "execution_count": 9,
     "metadata": {},
     "output_type": "execute_result"
    }
   ],
   "source": [
    "# 값의 범위 설정\n",
    "params = dict(\n",
    "    C = uniform(loc=0, scale=4), \n",
    "    penalty=['l2', 'l1'])\n",
    "params"
   ]
  },
  {
   "cell_type": "code",
   "execution_count": 10,
   "id": "e95fafcb",
   "metadata": {},
   "outputs": [],
   "source": [
    "# 모델 선언\n",
    "model = LogisticRegression()\n",
    "\n",
    "model_rs = RandomizedSearchCV(model,\n",
    "                             params,\n",
    "                             random_state = 0)"
   ]
  },
  {
   "cell_type": "code",
   "execution_count": 11,
   "id": "07abbe72",
   "metadata": {},
   "outputs": [
    {
     "data": {
      "text/plain": [
       "RandomizedSearchCV(estimator=LogisticRegression(),\n",
       "                   param_distributions={'C': <scipy.stats._distn_infrastructure.rv_frozen object at 0x00000256509F1370>,\n",
       "                                        'penalty': ['l2', 'l1']},\n",
       "                   random_state=0)"
      ]
     },
     "execution_count": 11,
     "metadata": {},
     "output_type": "execute_result"
    }
   ],
   "source": [
    "# 모델 학습\n",
    "model_rs.fit(x_train_s, y_train)"
   ]
  },
  {
   "cell_type": "code",
   "execution_count": 12,
   "id": "a700aeb8",
   "metadata": {},
   "outputs": [
    {
     "data": {
      "text/plain": [
       "{'mean_fit_time': array([0.00098963, 0.00019937, 0.00010128, 0.01650004, 0.01630287,\n",
       "        0.01336641, 0.01708083, 0.01260443, 0.00039902, 0.01658053]),\n",
       " 'std_fit_time': array([2.04464749e-05, 3.98731232e-04, 2.02560425e-04, 5.59821958e-03,\n",
       "        1.10366874e-03, 6.86796753e-03, 9.66090622e-04, 6.35049007e-03,\n",
       "        4.88694643e-04, 4.66913004e-03]),\n",
       " 'mean_score_time': array([0.        , 0.        , 0.        , 0.00039897, 0.00019937,\n",
       "        0.        , 0.        , 0.00323157, 0.        , 0.        ]),\n",
       " 'std_score_time': array([0.        , 0.        , 0.        , 0.00048864, 0.00039873,\n",
       "        0.        , 0.        , 0.00597495, 0.        , 0.        ]),\n",
       " 'param_C': masked_array(data=[2.195254015709299, 3.3770629943240693,\n",
       "                    2.1795327319875875, 2.4942547871438894,\n",
       "                    1.75034884505077, 0.22685190926977272,\n",
       "                    1.5337660753031108, 3.2486749151019727,\n",
       "                    2.2721782443757292, 3.34431505414951],\n",
       "              mask=[False, False, False, False, False, False, False, False,\n",
       "                    False, False],\n",
       "        fill_value='?',\n",
       "             dtype=object),\n",
       " 'param_penalty': masked_array(data=['l1', 'l1', 'l1', 'l2', 'l2', 'l2', 'l2', 'l2', 'l1',\n",
       "                    'l2'],\n",
       "              mask=[False, False, False, False, False, False, False, False,\n",
       "                    False, False],\n",
       "        fill_value='?',\n",
       "             dtype=object),\n",
       " 'params': [{'C': 2.195254015709299, 'penalty': 'l1'},\n",
       "  {'C': 3.3770629943240693, 'penalty': 'l1'},\n",
       "  {'C': 2.1795327319875875, 'penalty': 'l1'},\n",
       "  {'C': 2.4942547871438894, 'penalty': 'l2'},\n",
       "  {'C': 1.75034884505077, 'penalty': 'l2'},\n",
       "  {'C': 0.22685190926977272, 'penalty': 'l2'},\n",
       "  {'C': 1.5337660753031108, 'penalty': 'l2'},\n",
       "  {'C': 3.2486749151019727, 'penalty': 'l2'},\n",
       "  {'C': 2.2721782443757292, 'penalty': 'l1'},\n",
       "  {'C': 3.34431505414951, 'penalty': 'l2'}],\n",
       " 'split0_test_score': array([  nan,   nan,   nan, 0.653, 0.652, 0.646, 0.652, 0.653,   nan,\n",
       "        0.653]),\n",
       " 'split1_test_score': array([  nan,   nan,   nan, 0.635, 0.634, 0.64 , 0.634, 0.635,   nan,\n",
       "        0.635]),\n",
       " 'split2_test_score': array([       nan,        nan,        nan, 0.66166166, 0.66066066,\n",
       "        0.66066066, 0.66066066, 0.66166166,        nan, 0.66166166]),\n",
       " 'split3_test_score': array([       nan,        nan,        nan, 0.63363363, 0.63363363,\n",
       "        0.63463463, 0.63363363, 0.63363363,        nan, 0.63363363]),\n",
       " 'split4_test_score': array([       nan,        nan,        nan, 0.61361361, 0.61461461,\n",
       "        0.61361361, 0.61461461, 0.61361361,        nan, 0.61361361]),\n",
       " 'mean_test_score': array([       nan,        nan,        nan, 0.63938178, 0.63898178,\n",
       "        0.63898178, 0.63898178, 0.63938178,        nan, 0.63938178]),\n",
       " 'std_test_score': array([       nan,        nan,        nan, 0.01672177, 0.01604137,\n",
       "        0.01537991, 0.01604137, 0.01672177,        nan, 0.01672177]),\n",
       " 'rank_test_score': array([ 7,  8,  9,  1,  4,  4,  4,  1, 10,  1])}"
      ]
     },
     "execution_count": 12,
     "metadata": {},
     "output_type": "execute_result"
    }
   ],
   "source": [
    "# 하이퍼파라미터 튜닝 결과\n",
    "model_rs.cv_results_"
   ]
  },
  {
   "cell_type": "code",
   "execution_count": 13,
   "id": "c1cf6635",
   "metadata": {},
   "outputs": [
    {
     "data": {
      "text/plain": [
       "[{'C': 2.195254015709299, 'penalty': 'l1'},\n",
       " {'C': 3.3770629943240693, 'penalty': 'l1'},\n",
       " {'C': 2.1795327319875875, 'penalty': 'l1'},\n",
       " {'C': 2.4942547871438894, 'penalty': 'l2'},\n",
       " {'C': 1.75034884505077, 'penalty': 'l2'},\n",
       " {'C': 0.22685190926977272, 'penalty': 'l2'},\n",
       " {'C': 1.5337660753031108, 'penalty': 'l2'},\n",
       " {'C': 3.2486749151019727, 'penalty': 'l2'},\n",
       " {'C': 2.2721782443757292, 'penalty': 'l1'},\n",
       " {'C': 3.34431505414951, 'penalty': 'l2'}]"
      ]
     },
     "execution_count": 13,
     "metadata": {},
     "output_type": "execute_result"
    }
   ],
   "source": [
    "model_rs.cv_results_['params']"
   ]
  },
  {
   "cell_type": "code",
   "execution_count": 14,
   "id": "b11412f9",
   "metadata": {},
   "outputs": [
    {
     "data": {
      "text/plain": [
       "array([       nan,        nan,        nan, 0.63938178, 0.63898178,\n",
       "       0.63898178, 0.63898178, 0.63938178,        nan, 0.63938178])"
      ]
     },
     "execution_count": 14,
     "metadata": {},
     "output_type": "execute_result"
    }
   ],
   "source": [
    "model_rs.cv_results_['mean_test_score']"
   ]
  },
  {
   "cell_type": "code",
   "execution_count": 15,
   "id": "63b75d73",
   "metadata": {},
   "outputs": [
    {
     "data": {
      "text/plain": [
       "{'C': 2.4942547871438894, 'penalty': 'l2'}"
      ]
     },
     "execution_count": 15,
     "metadata": {},
     "output_type": "execute_result"
    }
   ],
   "source": [
    "# 최적의 해\n",
    "model_rs.best_params_"
   ]
  },
  {
   "cell_type": "code",
   "execution_count": 16,
   "id": "340efd4a",
   "metadata": {},
   "outputs": [
    {
     "data": {
      "text/plain": [
       "0.6393817817817818"
      ]
     },
     "execution_count": 16,
     "metadata": {},
     "output_type": "execute_result"
    }
   ],
   "source": [
    "# 그때의 성능\n",
    "model_rs.best_score_"
   ]
  },
  {
   "cell_type": "code",
   "execution_count": 17,
   "id": "d2667ba6",
   "metadata": {},
   "outputs": [
    {
     "name": "stdout",
     "output_type": "stream",
     "text": [
      "              precision    recall  f1-score   support\n",
      "\n",
      "           0       0.50      1.00      0.67         1\n",
      "           1       1.00      0.50      0.67         2\n",
      "\n",
      "    accuracy                           0.67         3\n",
      "   macro avg       0.75      0.75      0.67         3\n",
      "weighted avg       0.83      0.67      0.67         3\n",
      "\n"
     ]
    }
   ],
   "source": [
    "pred = model_rs.predict(x_val_s)\n",
    "print(classification_report(y_val, pred))"
   ]
  },
  {
   "cell_type": "markdown",
   "id": "a56ecaf5",
   "metadata": {},
   "source": [
    "- Decision Tree"
   ]
  },
  {
   "cell_type": "code",
   "execution_count": 18,
   "id": "ca3d1836",
   "metadata": {},
   "outputs": [
    {
     "data": {
      "text/plain": [
       "{'max_depth': range(1, 21), 'min_samples_leaf': range(10, 51, 5)}"
      ]
     },
     "execution_count": 18,
     "metadata": {},
     "output_type": "execute_result"
    }
   ],
   "source": [
    "# 값의 범위 설정\n",
    "params = {'max_depth' : range(1, 21), 'min_samples_leaf' : range(10, 51, 5)}\n",
    "params"
   ]
  },
  {
   "cell_type": "code",
   "execution_count": 19,
   "id": "be5b3931",
   "metadata": {},
   "outputs": [],
   "source": [
    "# 모델 선언\n",
    "model = DecisionTreeClassifier()\n",
    "\n",
    "model_rs = RandomizedSearchCV(model,\n",
    "                             params,\n",
    "                             cv = 5, \n",
    "                             n_iter = 5)"
   ]
  },
  {
   "cell_type": "code",
   "execution_count": 20,
   "id": "5692e15d",
   "metadata": {},
   "outputs": [
    {
     "data": {
      "text/plain": [
       "RandomizedSearchCV(cv=5, estimator=DecisionTreeClassifier(), n_iter=5,\n",
       "                   param_distributions={'max_depth': range(1, 21),\n",
       "                                        'min_samples_leaf': range(10, 51, 5)})"
      ]
     },
     "execution_count": 20,
     "metadata": {},
     "output_type": "execute_result"
    }
   ],
   "source": [
    "# 모델 학습\n",
    "model_rs.fit(x_train_s, y_train)"
   ]
  },
  {
   "cell_type": "code",
   "execution_count": 21,
   "id": "6046593f",
   "metadata": {},
   "outputs": [
    {
     "data": {
      "text/plain": [
       "{'mean_fit_time': array([0.01630168, 0.01032553, 0.01660604, 0.00340834, 0.0165926 ]),\n",
       " 'std_fit_time': array([0.00394922, 0.00814431, 0.00129157, 0.00681667, 0.00137236]),\n",
       " 'mean_score_time': array([0.00059843, 0.00306563, 0.        , 0.        , 0.        ]),\n",
       " 'std_score_time': array([0.00048862, 0.00613127, 0.        , 0.        , 0.        ]),\n",
       " 'param_min_samples_leaf': masked_array(data=[30, 50, 15, 45, 20],\n",
       "              mask=[False, False, False, False, False],\n",
       "        fill_value='?',\n",
       "             dtype=object),\n",
       " 'param_max_depth': masked_array(data=[20, 12, 9, 1, 14],\n",
       "              mask=[False, False, False, False, False],\n",
       "        fill_value='?',\n",
       "             dtype=object),\n",
       " 'params': [{'min_samples_leaf': 30, 'max_depth': 20},\n",
       "  {'min_samples_leaf': 50, 'max_depth': 12},\n",
       "  {'min_samples_leaf': 15, 'max_depth': 9},\n",
       "  {'min_samples_leaf': 45, 'max_depth': 1},\n",
       "  {'min_samples_leaf': 20, 'max_depth': 14}],\n",
       " 'split0_test_score': array([0.68 , 0.691, 0.666, 0.63 , 0.66 ]),\n",
       " 'split1_test_score': array([0.68 , 0.687, 0.677, 0.629, 0.648]),\n",
       " 'split2_test_score': array([0.68068068, 0.68668669, 0.69069069, 0.61561562, 0.66866867]),\n",
       " 'split3_test_score': array([0.69369369, 0.69369369, 0.68268268, 0.60760761, 0.68868869]),\n",
       " 'split4_test_score': array([0.68768769, 0.6956957 , 0.68168168, 0.60860861, 0.67267267]),\n",
       " 'mean_test_score': array([0.68441241, 0.69081522, 0.67961101, 0.61816637, 0.66760601]),\n",
       " 'std_test_score': array([0.00547237, 0.00357042, 0.00810628, 0.00966175, 0.01351685]),\n",
       " 'rank_test_score': array([2, 1, 3, 5, 4])}"
      ]
     },
     "execution_count": 21,
     "metadata": {},
     "output_type": "execute_result"
    }
   ],
   "source": [
    "model_rs.cv_results_"
   ]
  },
  {
   "cell_type": "code",
   "execution_count": 22,
   "id": "1d83dea7",
   "metadata": {},
   "outputs": [
    {
     "data": {
      "text/plain": [
       "{'min_samples_leaf': 50, 'max_depth': 12}"
      ]
     },
     "execution_count": 22,
     "metadata": {},
     "output_type": "execute_result"
    }
   ],
   "source": [
    "model_rs.best_params_"
   ]
  },
  {
   "cell_type": "code",
   "execution_count": 23,
   "id": "4f70b626",
   "metadata": {},
   "outputs": [
    {
     "data": {
      "text/plain": [
       "0.6908152152152152"
      ]
     },
     "execution_count": 23,
     "metadata": {},
     "output_type": "execute_result"
    }
   ],
   "source": [
    "model_rs.best_score_"
   ]
  },
  {
   "cell_type": "code",
   "execution_count": 24,
   "id": "308c8acd",
   "metadata": {},
   "outputs": [
    {
     "name": "stdout",
     "output_type": "stream",
     "text": [
      "              precision    recall  f1-score   support\n",
      "\n",
      "           0       1.00      1.00      1.00         1\n",
      "           1       1.00      1.00      1.00         2\n",
      "\n",
      "    accuracy                           1.00         3\n",
      "   macro avg       1.00      1.00      1.00         3\n",
      "weighted avg       1.00      1.00      1.00         3\n",
      "\n"
     ]
    }
   ],
   "source": [
    "pred = model_rs.predict(x_val_s)\n",
    "print(classification_report(y_val, pred))"
   ]
  },
  {
   "cell_type": "markdown",
   "id": "4ec691b9",
   "metadata": {},
   "source": [
    "- KNN"
   ]
  },
  {
   "cell_type": "code",
   "execution_count": 25,
   "id": "cd333a6b",
   "metadata": {},
   "outputs": [
    {
     "data": {
      "text/plain": [
       "{'n_neighbors': range(1, 101), 'metric': ['euclidean', 'manhattan']}"
      ]
     },
     "execution_count": 25,
     "metadata": {},
     "output_type": "execute_result"
    }
   ],
   "source": [
    "# 범위 설정\n",
    "params = {'n_neighbors' : range(1, 101), 'metric' : ['euclidean', 'manhattan']}\n",
    "params"
   ]
  },
  {
   "cell_type": "code",
   "execution_count": 26,
   "id": "e89ea887",
   "metadata": {},
   "outputs": [],
   "source": [
    "# 모델 선언\n",
    "model = KNeighborsClassifier()\n",
    "\n",
    "model_rs = RandomizedSearchCV(model,\n",
    "                             params,\n",
    "                             cv = 5, \n",
    "                             n_iter = 5)"
   ]
  },
  {
   "cell_type": "code",
   "execution_count": 27,
   "id": "bf486b20",
   "metadata": {},
   "outputs": [
    {
     "data": {
      "text/plain": [
       "RandomizedSearchCV(cv=5, estimator=KNeighborsClassifier(), n_iter=5,\n",
       "                   param_distributions={'metric': ['euclidean', 'manhattan'],\n",
       "                                        'n_neighbors': range(1, 101)})"
      ]
     },
     "execution_count": 27,
     "metadata": {},
     "output_type": "execute_result"
    }
   ],
   "source": [
    "# 모델 학습\n",
    "model_rs.fit(x_train_s, y_train)"
   ]
  },
  {
   "cell_type": "code",
   "execution_count": 28,
   "id": "5e8b48ef",
   "metadata": {},
   "outputs": [
    {
     "data": {
      "text/plain": [
       "{'mean_fit_time': array([0.00113354, 0.00080156, 0.00346289, 0.00189247, 0.00080943]),\n",
       " 'std_fit_time': array([0.00177192, 0.00075249, 0.00304495, 0.00160723, 0.00099142]),\n",
       " 'mean_score_time': array([0.12181015, 0.11520996, 0.11632266, 0.11829319, 0.13298578]),\n",
       " 'std_score_time': array([0.00616074, 0.00590945, 0.01920343, 0.00947963, 0.01686338]),\n",
       " 'param_n_neighbors': masked_array(data=[96, 23, 18, 43, 79],\n",
       "              mask=[False, False, False, False, False],\n",
       "        fill_value='?',\n",
       "             dtype=object),\n",
       " 'param_metric': masked_array(data=['euclidean', 'euclidean', 'euclidean', 'euclidean',\n",
       "                    'manhattan'],\n",
       "              mask=[False, False, False, False, False],\n",
       "        fill_value='?',\n",
       "             dtype=object),\n",
       " 'params': [{'n_neighbors': 96, 'metric': 'euclidean'},\n",
       "  {'n_neighbors': 23, 'metric': 'euclidean'},\n",
       "  {'n_neighbors': 18, 'metric': 'euclidean'},\n",
       "  {'n_neighbors': 43, 'metric': 'euclidean'},\n",
       "  {'n_neighbors': 79, 'metric': 'manhattan'}],\n",
       " 'split0_test_score': array([0.612, 0.58 , 0.579, 0.589, 0.631]),\n",
       " 'split1_test_score': array([0.606, 0.579, 0.58 , 0.583, 0.624]),\n",
       " 'split2_test_score': array([0.62962963, 0.59159159, 0.59059059, 0.61961962, 0.64564565]),\n",
       " 'split3_test_score': array([0.61061061, 0.58058058, 0.57957958, 0.57557558, 0.62062062]),\n",
       " 'split4_test_score': array([0.58758759, 0.57057057, 0.57457457, 0.58658659, 0.60560561]),\n",
       " 'mean_test_score': array([0.60916557, 0.58034855, 0.58074895, 0.59075636, 0.62537437]),\n",
       " 'std_test_score': array([0.01345013, 0.00669341, 0.0052909 , 0.01512731, 0.01309858]),\n",
       " 'rank_test_score': array([2, 5, 4, 3, 1])}"
      ]
     },
     "execution_count": 28,
     "metadata": {},
     "output_type": "execute_result"
    }
   ],
   "source": [
    "model_rs.cv_results_"
   ]
  },
  {
   "cell_type": "code",
   "execution_count": 29,
   "id": "03d7df2f",
   "metadata": {},
   "outputs": [
    {
     "data": {
      "text/plain": [
       "{'n_neighbors': 79, 'metric': 'manhattan'}"
      ]
     },
     "execution_count": 29,
     "metadata": {},
     "output_type": "execute_result"
    }
   ],
   "source": [
    "model_rs.best_params_"
   ]
  },
  {
   "cell_type": "code",
   "execution_count": 30,
   "id": "74994985",
   "metadata": {},
   "outputs": [
    {
     "data": {
      "text/plain": [
       "0.6253743743743744"
      ]
     },
     "execution_count": 30,
     "metadata": {},
     "output_type": "execute_result"
    }
   ],
   "source": [
    "model_rs.best_score_"
   ]
  },
  {
   "cell_type": "code",
   "execution_count": 31,
   "id": "3f331f3a",
   "metadata": {},
   "outputs": [
    {
     "name": "stdout",
     "output_type": "stream",
     "text": [
      "              precision    recall  f1-score   support\n",
      "\n",
      "           0       0.50      1.00      0.67         1\n",
      "           1       1.00      0.50      0.67         2\n",
      "\n",
      "    accuracy                           0.67         3\n",
      "   macro avg       0.75      0.75      0.67         3\n",
      "weighted avg       0.83      0.67      0.67         3\n",
      "\n"
     ]
    }
   ],
   "source": [
    "pred = model_rs.predict(x_val_s)\n",
    "print(classification_report(y_val, pred))"
   ]
  },
  {
   "cell_type": "markdown",
   "id": "aca3be81",
   "metadata": {},
   "source": [
    "- SVM"
   ]
  },
  {
   "cell_type": "code",
   "execution_count": 32,
   "id": "2235328c",
   "metadata": {},
   "outputs": [],
   "source": [
    "# 범위 설정\n",
    "params = {'gamma' : [0.01, 0.03, 0.1, 0.5, 1.0]}"
   ]
  },
  {
   "cell_type": "code",
   "execution_count": 33,
   "id": "37a3a4bd",
   "metadata": {},
   "outputs": [],
   "source": [
    "# 모델 선언\n",
    "model = SVC()\n",
    "\n",
    "model_rs = RandomizedSearchCV(model,\n",
    "                             params,\n",
    "                             cv = 5,\n",
    "                             n_iter = 5)"
   ]
  },
  {
   "cell_type": "code",
   "execution_count": 34,
   "id": "fa0326b4",
   "metadata": {},
   "outputs": [
    {
     "data": {
      "text/plain": [
       "RandomizedSearchCV(cv=5, estimator=SVC(), n_iter=5,\n",
       "                   param_distributions={'gamma': [0.01, 0.03, 0.1, 0.5, 1.0]})"
      ]
     },
     "execution_count": 34,
     "metadata": {},
     "output_type": "execute_result"
    }
   ],
   "source": [
    "# 모델 학습\n",
    "model_rs.fit(x_train_s, y_train)"
   ]
  },
  {
   "cell_type": "code",
   "execution_count": 35,
   "id": "d0624045",
   "metadata": {},
   "outputs": [
    {
     "data": {
      "text/plain": [
       "{'mean_fit_time': array([0.70849271, 0.67377291, 0.67901125, 0.71727309, 0.76684389]),\n",
       " 'std_fit_time': array([0.02481491, 0.0038993 , 0.01108853, 0.02394264, 0.00488724]),\n",
       " 'mean_score_time': array([0.33702335, 0.33166409, 0.32705121, 0.32141252, 0.35078139]),\n",
       " 'std_score_time': array([0.00740072, 0.03215538, 0.01839534, 0.00507055, 0.02673372]),\n",
       " 'param_gamma': masked_array(data=[0.01, 0.03, 0.1, 0.5, 1.0],\n",
       "              mask=[False, False, False, False, False],\n",
       "        fill_value='?',\n",
       "             dtype=object),\n",
       " 'params': [{'gamma': 0.01},\n",
       "  {'gamma': 0.03},\n",
       "  {'gamma': 0.1},\n",
       "  {'gamma': 0.5},\n",
       "  {'gamma': 1.0}],\n",
       " 'split0_test_score': array([0.642, 0.649, 0.667, 0.646, 0.626]),\n",
       " 'split1_test_score': array([0.637, 0.64 , 0.656, 0.653, 0.623]),\n",
       " 'split2_test_score': array([0.63963964, 0.63963964, 0.66766767, 0.65465465, 0.62462462]),\n",
       " 'split3_test_score': array([0.63263263, 0.64064064, 0.65565566, 0.63063063, 0.61161161]),\n",
       " 'split4_test_score': array([0.61061061, 0.61361361, 0.63763764, 0.66566567, 0.64764765]),\n",
       " 'mean_test_score': array([0.63237658, 0.63657878, 0.65679219, 0.64999019, 0.62657678]),\n",
       " 'std_test_score': array([0.01131867, 0.01199381, 0.01087466, 0.01155206, 0.01170363]),\n",
       " 'rank_test_score': array([4, 3, 1, 2, 5])}"
      ]
     },
     "execution_count": 35,
     "metadata": {},
     "output_type": "execute_result"
    }
   ],
   "source": [
    "model_rs.cv_results_"
   ]
  },
  {
   "cell_type": "code",
   "execution_count": 36,
   "id": "f6ebabab",
   "metadata": {},
   "outputs": [
    {
     "data": {
      "text/plain": [
       "{'gamma': 0.1}"
      ]
     },
     "execution_count": 36,
     "metadata": {},
     "output_type": "execute_result"
    }
   ],
   "source": [
    "model_rs.best_params_"
   ]
  },
  {
   "cell_type": "code",
   "execution_count": 37,
   "id": "040d7596",
   "metadata": {},
   "outputs": [
    {
     "data": {
      "text/plain": [
       "0.6567921921921922"
      ]
     },
     "execution_count": 37,
     "metadata": {},
     "output_type": "execute_result"
    }
   ],
   "source": [
    "model_rs.best_score_"
   ]
  },
  {
   "cell_type": "code",
   "execution_count": 38,
   "id": "f63528e5",
   "metadata": {},
   "outputs": [
    {
     "name": "stdout",
     "output_type": "stream",
     "text": [
      "              precision    recall  f1-score   support\n",
      "\n",
      "           0       0.50      1.00      0.67         1\n",
      "           1       1.00      0.50      0.67         2\n",
      "\n",
      "    accuracy                           0.67         3\n",
      "   macro avg       0.75      0.75      0.67         3\n",
      "weighted avg       0.83      0.67      0.67         3\n",
      "\n"
     ]
    }
   ],
   "source": [
    "pred = model_rs.predict(x_val_s)\n",
    "print(classification_report(y_val, pred))"
   ]
  }
 ],
 "metadata": {
  "kernelspec": {
   "display_name": "Python 3",
   "language": "python",
   "name": "python3"
  },
  "language_info": {
   "codemirror_mode": {
    "name": "ipython",
    "version": 3
   },
   "file_extension": ".py",
   "mimetype": "text/x-python",
   "name": "python",
   "nbconvert_exporter": "python",
   "pygments_lexer": "ipython3",
   "version": "3.8.8"
  }
 },
 "nbformat": 4,
 "nbformat_minor": 5
}
